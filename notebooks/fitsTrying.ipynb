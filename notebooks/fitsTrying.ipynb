{
 "cells": [
  {
   "cell_type": "code",
   "execution_count": 45,
   "id": "a8c97e1a",
   "metadata": {},
   "outputs": [],
   "source": [
    "import tangos\n",
    "import pynbody\n",
    "\n",
    "import numpy as np\n",
    "import pandas as pd\n",
    "\n",
    "import astropy.units as u\n",
    "from astropy.io import fits\n",
    "from astropy.utils import data\n",
    "from astropy.wcs import WCS\n",
    "\n",
    "import matplotlib.pyplot as plt\n",
    "\n",
    "from spectral_cube import SpectralCube\n",
    "\n",
    "from astroquery.esasky import ESASky\n",
    "from astroquery.utils import TableList\n",
    "from astropy.wcs import WCS\n",
    "from reproject import reproject_interp\n",
    "\n",
    "import glob"
   ]
  },
  {
   "cell_type": "code",
   "execution_count": 46,
   "id": "5d8c709d",
   "metadata": {},
   "outputs": [],
   "source": [
    "file = '/data/REPOSITORY/e11Gals/romulus_dwarf_zooms/r492.romulus25cvdXsec.3072g1HsbBH/'\n",
    "file+='r492.romulus25cvdXsec.3072g1HsbBH.004096/r492.alfalfa_hi.x.fits'\n",
    "f = fits.open(file)\n",
    "data = f[0].data\n",
    "header = fits.open(file)[0].header\n",
    "bscale = header['BSCALE']\n",
    "bzero = header['BZERO']\n",
    "blank = header['BLANK']"
   ]
  },
  {
   "cell_type": "code",
   "execution_count": 47,
   "id": "0d37b28d",
   "metadata": {},
   "outputs": [
    {
     "data": {
      "text/plain": [
       "SIMPLE  =                    T /                                                \n",
       "BITPIX  =                   16 /                                                \n",
       "NAXIS   =                    3 /                                                \n",
       "NAXIS1  =                   54 /                                                \n",
       "NAXIS2  =                   54 /                                                \n",
       "NAXIS3  =                   36 /                                                \n",
       "CTYPE1  = 'KPC-LIN'            /                                                \n",
       "CUNIT1  = 'KPC'                /                                                \n",
       "CRVAL1  =          -100.000005 /                                                \n",
       "CDELT1  =             3.703704 /                                                \n",
       "CRPIX1  =                  1.0 /                                                \n",
       "CTYPE2  = 'KPC-LIN'            /                                                \n",
       "CUNIT2  = 'KPC'                /                                                \n",
       "CRVAL2  =          -100.000005 /                                                \n",
       "CDELT2  =             3.703704 /                                                \n",
       "CRPIX2  =                  1.0 /                                                \n",
       "CTYPE3  = 'FELO-HEL'           /                                                \n",
       "CUNIT3  = 'KM/S'               /                                                \n",
       "CRVAL3  =          -194.400000 /                                                \n",
       "CDELT3  =            11.200000 /                                                \n",
       "CRPIX3  =                  1.0 /                                                \n",
       "BLANK   =               -32768 /                                                \n",
       "BSCALE  =             0.000141 /                                                \n",
       "BZERO   =             4.623726 /                                                \n",
       "BUNIT   = 'solMass'            /                                                \n",
       "DATAMAX =             8.247452 /                                                \n",
       "DATAMIN =             0.000000 /                                                "
      ]
     },
     "execution_count": 47,
     "metadata": {},
     "output_type": "execute_result"
    }
   ],
   "source": [
    "header"
   ]
  },
  {
   "cell_type": "code",
   "execution_count": 51,
   "id": "89431ea4",
   "metadata": {},
   "outputs": [],
   "source": [
    "d2 = data\n",
    "d3 = d2 * bscale +bzero\n",
    "d4 = 10.0**d3"
   ]
  },
  {
   "cell_type": "code",
   "execution_count": 54,
   "id": "b2adf792",
   "metadata": {},
   "outputs": [],
   "source": [
    "d5 = np.nan_to_num(d4)"
   ]
  },
  {
   "cell_type": "code",
   "execution_count": 62,
   "id": "cb23802c",
   "metadata": {},
   "outputs": [
    {
     "data": {
      "text/plain": [
       "42079.043"
      ]
     },
     "execution_count": 62,
     "metadata": {},
     "output_type": "execute_result"
    }
   ],
   "source": [
    "d5[18,30,30]"
   ]
  },
  {
   "cell_type": "code",
   "execution_count": 68,
   "id": "a8eefbd2",
   "metadata": {},
   "outputs": [],
   "source": [
    "dout1 = np.nan_to_num(d2, nan=int(blank))\n",
    "dout1 = dout1.flatten()\n",
    "pd.DataFrame(dout1).to_csv('p1.csv')"
   ]
  },
  {
   "cell_type": "code",
   "execution_count": null,
   "id": "4579e531",
   "metadata": {},
   "outputs": [],
   "source": []
  }
 ],
 "metadata": {
  "kernelspec": {
   "display_name": "Python 3",
   "language": "python",
   "name": "python3"
  },
  "language_info": {
   "codemirror_mode": {
    "name": "ipython",
    "version": 3
   },
   "file_extension": ".py",
   "mimetype": "text/x-python",
   "name": "python",
   "nbconvert_exporter": "python",
   "pygments_lexer": "ipython3",
   "version": "3.9.12"
  }
 },
 "nbformat": 4,
 "nbformat_minor": 5
}
