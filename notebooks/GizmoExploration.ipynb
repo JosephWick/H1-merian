{
 "cells": [
  {
   "cell_type": "code",
   "execution_count": 1,
   "id": "b6f284f6",
   "metadata": {},
   "outputs": [],
   "source": [
    "import gizmo_analysis as gizmo\n",
    "import utilities as ut\n",
    "\n",
    "import matplotlib.pyplot as plt\n",
    "import pandas as pd\n",
    "import numpy as np\n",
    "\n",
    "import glob"
   ]
  },
  {
   "cell_type": "code",
   "execution_count": 2,
   "id": "f0d3a642",
   "metadata": {},
   "outputs": [],
   "source": [
    "dpath = '/data/groups/leauthaud/yluo42/FIRE/'"
   ]
  },
  {
   "cell_type": "code",
   "execution_count": 3,
   "id": "c8506006",
   "metadata": {},
   "outputs": [],
   "source": [
    "simfiles = glob.glob(dpath+'/m*')"
   ]
  },
  {
   "cell_type": "code",
   "execution_count": 5,
   "id": "77095f33",
   "metadata": {},
   "outputs": [
    {
     "data": {
      "text/plain": [
       "['/data/groups/leauthaud/yluo42/FIRE/m11b_r2100',\n",
       " '/data/groups/leauthaud/yluo42/FIRE/m11e_r7100',\n",
       " '/data/groups/leauthaud/yluo42/FIRE/m11h_r7100',\n",
       " '/data/groups/leauthaud/yluo42/FIRE/m11q_r880',\n",
       " '/data/groups/leauthaud/yluo42/FIRE/m11d_r7100',\n",
       " '/data/groups/leauthaud/yluo42/FIRE/m11i_r7100']"
      ]
     },
     "execution_count": 5,
     "metadata": {},
     "output_type": "execute_result"
    }
   ],
   "source": [
    "simfiles"
   ]
  },
  {
   "cell_type": "code",
   "execution_count": 17,
   "id": "c4b2f09f",
   "metadata": {},
   "outputs": [
    {
     "name": "stdout",
     "output_type": "stream",
     "text": [
      "\n",
      "# in utilities.simulation.Snapshot():\n",
      "* reading:  data/groups/leauthaud/yluo42/FIRE/m11b_r2100/snapshot_times.txt\n",
      "\n",
      "* input redshift = 0:  using snapshot index = 600, redshift = 0.000\n",
      "\n",
      "\n",
      "# in gizmo_analysis.gizmo_io.Read():\n",
      "* reading header from:  data/groups/leauthaud/yluo42/FIRE/m11b_r2100/output/snapshot_600.hdf5\n",
      "  snapshot contains the following number of particles:\n",
      "    dark      (id = 1): 22374200 particles\n",
      "    dark2     (id = 2): 19623813 particles\n",
      "    gas       (id = 0): 22336883 particles\n",
      "    star      (id = 4): 37213 particles\n",
      "    blackhole (id = 5): 0 particles\n",
      "\n",
      "* reading the following\n",
      "  species: ['dark', 'dark2', 'gas', 'star']\n",
      "\n",
      "* reading particles from:\n",
      "    data/groups/leauthaud/yluo42/FIRE/m11b_r2100/output/snapshot_600.hdf5\n",
      "\n",
      "! cannot find MUSIC config file:  data/groups/leauthaud/yluo42/FIRE/m11b_r2100/*/*.conf\n",
      "! missing cosmological parameters, assuming the following (from AGORA):\n",
      "  assuming omega_baryon = 0.0455\n",
      "  assuming sigma_8 = 0.807\n",
      "  assuming n_s = 0.961\n",
      "\n",
      "* checking sanity of particle properties\n",
      "\n",
      "\n",
      "# in gizmo_analysis.gizmo_track.ParticleCoordinate():\n",
      "  read 1 host (position, velocity, principal axes) from:  data/groups/leauthaud/yluo42/FIRE/m11b_r2100/track/host_coordinates.hdf5\n",
      "  host1 position = (23348.86, 20506.42, 22598.10) [kpc comoving]\n",
      "  host1 velocity = (-227.1, -334.4, -228.1) [km / s]\n",
      "  host1 axis ratios = (0.31, 0.34, 0.90)\n",
      "\n"
     ]
    }
   ],
   "source": [
    "gal = simfiles[0]\n",
    "particles = gizmo.io.Read.read_snapshots('all', 'redshift', 0, gal)"
   ]
  },
  {
   "cell_type": "code",
   "execution_count": 7,
   "id": "61c22a94",
   "metadata": {},
   "outputs": [
    {
     "data": {
      "text/plain": [
       "dict_keys(['dark', 'dark2', 'gas', 'star'])"
      ]
     },
     "execution_count": 7,
     "metadata": {},
     "output_type": "execute_result"
    }
   ],
   "source": [
    "particles.keys()"
   ]
  },
  {
   "cell_type": "code",
   "execution_count": 8,
   "id": "8c695997",
   "metadata": {},
   "outputs": [
    {
     "data": {
      "text/plain": [
       "dict_keys(['acceleration', 'position', 'mass', 'id.child', 'id.generation', 'id', 'potential', 'velocity'])"
      ]
     },
     "execution_count": 8,
     "metadata": {},
     "output_type": "execute_result"
    }
   ],
   "source": [
    "particles['dark2'].keys()"
   ]
  },
  {
   "cell_type": "markdown",
   "id": "b04308e6",
   "metadata": {},
   "source": [
    "## parsing redshifts for snapshot"
   ]
  },
  {
   "cell_type": "code",
   "execution_count": 23,
   "id": "f2ecd161",
   "metadata": {},
   "outputs": [
    {
     "data": {
      "text/plain": [
       "'/data/groups/leauthaud/yluo42/FIRE/m11b_r2100'"
      ]
     },
     "execution_count": 23,
     "metadata": {},
     "output_type": "execute_result"
    }
   ],
   "source": [
    "gal"
   ]
  },
  {
   "cell_type": "code",
   "execution_count": 19,
   "id": "cfc3552c",
   "metadata": {},
   "outputs": [],
   "source": [
    "zfile = '/data/groups/leauthaud/yluo42/FIRE/m11b_r2100/snapshot_times.txt'\n",
    "simtimes = pd.read_csv(zfile, sep='\\s+', skiprows=6, header=None)\n",
    "\n",
    "st_tskey = 0\n",
    "st_zkey = 2\n",
    "st_tkey = 3\n",
    "st_lbkey = 4\n",
    "\n",
    "redshifts = np.flip(simtimes[st_zkey].to_numpy())"
   ]
  },
  {
   "cell_type": "code",
   "execution_count": 20,
   "id": "e697d798",
   "metadata": {},
   "outputs": [
    {
     "data": {
      "text/plain": [
       "array([0.00000000e+00, 1.59264000e-04, 3.18646000e-04, 4.77910000e-04,\n",
       "       6.37293000e-04, 7.96795000e-04, 9.56297000e-04, 1.11579900e-03,\n",
       "       1.27553900e-03, 1.43516100e-03, 1.59490100e-03, 3.19480900e-03,\n",
       "       4.79996200e-03, 6.41024100e-03, 8.02576500e-03, 9.64629700e-03,\n",
       "       1.12720730e-02, 1.29032140e-02, 1.45395990e-02, 1.61812310e-02,\n",
       "       1.78282260e-02, 1.94805860e-02, 2.11381910e-02, 2.28012800e-02,\n",
       "       2.44698520e-02, 2.61437890e-02, 2.78233290e-02, 2.95081140e-02,\n",
       "       3.11987400e-02, 3.28947310e-02, 3.45964430e-02, 3.63035200e-02,\n",
       "       3.80165580e-02, 3.97350790e-02, 4.14594410e-02, 4.31894060e-02,\n",
       "       4.49250940e-02, 4.66667410e-02, 4.84139920e-02, 5.01672030e-02,\n",
       "       5.19263740e-02, 5.36912680e-02, 5.54622410e-02, 5.72390560e-02,\n",
       "       5.90219500e-02, 6.08108040e-02, 6.26057390e-02, 6.44068720e-02,\n",
       "       6.62139650e-02, 6.80272580e-02, 6.98466300e-02, 7.16723200e-02,\n",
       "       7.35042100e-02, 7.53425360e-02, 7.71870610e-02, 7.90377860e-02,\n",
       "       8.08950660e-02, 8.27586650e-02, 8.46287010e-02, 8.65051750e-02,\n",
       "       8.83882050e-02, 9.02776720e-02, 9.21739340e-02, 9.40767530e-02,\n",
       "       9.59860090e-02, 9.79021790e-02, 9.98247860e-02, 1.01754427e-01,\n",
       "       1.03690624e-01, 1.05633855e-01, 1.07583880e-01, 1.09540582e-01,\n",
       "       1.11504436e-01, 1.13475204e-01, 1.15453005e-01, 1.17437720e-01,\n",
       "       1.19429588e-01, 1.21428609e-01, 1.23434663e-01, 1.25447989e-01,\n",
       "       1.27468586e-01, 1.29496455e-01, 1.31531477e-01, 1.33574009e-01,\n",
       "       1.35623932e-01, 1.37681127e-01, 1.39745951e-01, 1.41818166e-01,\n",
       "       1.43898010e-01, 1.45985365e-01, 1.48080468e-01, 1.50183082e-01,\n",
       "       1.52293563e-01, 1.54411793e-01, 1.56537652e-01, 1.58671618e-01,\n",
       "       1.60813332e-01, 1.62963033e-01, 1.65120482e-01, 1.67286277e-01,\n",
       "       1.69460058e-01, 1.71641707e-01, 1.73831820e-01, 1.76029921e-01,\n",
       "       1.78236485e-01, 1.80451035e-01, 1.82674170e-01, 1.84905648e-01,\n",
       "       1.87145591e-01, 1.89393997e-01, 1.91650867e-01, 1.93916321e-01,\n",
       "       1.96190357e-01, 1.98473334e-01, 2.00764894e-01, 2.03065157e-01,\n",
       "       2.05374360e-01, 2.07692266e-01, 2.10019231e-01, 2.12355137e-01,\n",
       "       2.14700222e-01, 2.17054129e-01, 2.19417453e-01, 2.21789956e-01,\n",
       "       2.24171519e-01, 2.26562619e-01, 2.28962779e-01, 2.31372595e-01,\n",
       "       2.33791590e-01, 2.36220479e-01, 2.38658786e-01, 2.41106749e-01,\n",
       "       2.43564367e-01, 2.46031642e-01, 2.48508930e-01, 2.50995994e-01,\n",
       "       2.53493071e-01, 2.56000042e-01, 2.58517027e-01, 2.61044264e-01,\n",
       "       2.63581395e-01, 2.66129017e-01, 2.68686771e-01, 2.71255136e-01,\n",
       "       2.73833752e-01, 2.76422739e-01, 2.79022455e-01, 2.81632662e-01,\n",
       "       2.84253597e-01, 2.86885142e-01, 2.89527774e-01, 2.92180896e-01,\n",
       "       2.94845343e-01, 2.97520757e-01, 3.00207019e-01, 3.02904606e-01,\n",
       "       3.05613160e-01, 3.08333278e-01, 3.11064720e-01, 3.13807607e-01,\n",
       "       3.16561937e-01, 3.19327712e-01, 3.22105289e-01, 3.24894547e-01,\n",
       "       3.27695608e-01, 3.30508351e-01, 3.33333373e-01, 3.36170316e-01,\n",
       "       3.39019179e-01, 3.41880322e-01, 3.44753742e-01, 3.47639561e-01,\n",
       "       3.50537539e-01, 3.53448272e-01, 3.56371522e-01, 3.59307408e-01,\n",
       "       3.62256050e-01, 3.65217328e-01, 3.68191719e-01, 3.71178865e-01,\n",
       "       3.74179363e-01, 3.77193093e-01, 3.80219817e-01, 3.83260012e-01,\n",
       "       3.86313438e-01, 3.89380574e-01, 3.92461181e-01, 3.95555615e-01,\n",
       "       3.98663640e-01, 4.01785731e-01, 4.04921770e-01, 4.08071756e-01,\n",
       "       4.11236048e-01, 4.14414406e-01, 4.17607307e-01, 4.20814395e-01,\n",
       "       4.24036264e-01, 4.27272797e-01, 4.30523872e-01, 4.33790088e-01,\n",
       "       4.37070847e-01, 4.40366983e-01, 4.43678141e-01, 4.47004676e-01,\n",
       "       4.50346589e-01, 4.53703642e-01, 4.57076669e-01, 4.60465074e-01,\n",
       "       4.63869452e-01, 4.67289686e-01, 4.70726013e-01, 4.74178553e-01,\n",
       "       4.77647066e-01, 4.81132150e-01, 4.84633565e-01, 4.88151789e-01,\n",
       "       4.91686344e-01, 4.95238066e-01, 4.98806477e-01, 5.02392292e-01,\n",
       "       5.05995393e-01, 5.09615421e-01, 5.13253093e-01, 5.16908050e-01,\n",
       "       5.20581126e-01, 5.24271846e-01, 5.27980566e-01, 5.31707406e-01,\n",
       "       5.35452247e-01, 5.39215684e-01, 5.42997599e-01, 5.46798110e-01,\n",
       "       5.50617218e-01, 5.54455400e-01, 5.58312774e-01, 5.62188983e-01,\n",
       "       5.66084862e-01, 5.69999933e-01, 5.73934913e-01, 5.77889323e-01,\n",
       "       5.81863999e-01, 5.85858703e-01, 5.89873433e-01, 5.93908787e-01,\n",
       "       5.97964287e-01, 6.02040887e-01, 6.06137991e-01, 6.10256314e-01,\n",
       "       6.14395738e-01, 6.18556738e-01, 6.22739196e-01, 6.26942873e-01,\n",
       "       6.31168842e-01, 6.35416627e-01, 6.39686823e-01, 6.43978953e-01,\n",
       "       6.48293972e-01, 6.52631640e-01, 6.56991959e-01, 6.61375642e-01,\n",
       "       6.65782452e-01, 6.70212865e-01, 6.74666524e-01, 6.79144382e-01,\n",
       "       6.83646202e-01, 6.88172102e-01, 6.92722559e-01, 6.97297215e-01,\n",
       "       7.01897025e-01, 7.06521511e-01, 7.11171746e-01, 7.15847254e-01,\n",
       "       7.20547915e-01, 7.25274801e-01, 7.30027437e-01, 7.34806657e-01,\n",
       "       7.39612103e-01, 7.44444489e-01, 7.49303460e-01, 7.54189849e-01,\n",
       "       7.59103775e-01, 7.64045000e-01, 7.69014239e-01, 7.74011254e-01,\n",
       "       7.79036880e-01, 7.84090638e-01, 7.89173722e-01, 7.94285774e-01,\n",
       "       7.99426913e-01, 8.04597855e-01, 8.09798121e-01, 8.15028906e-01,\n",
       "       8.20289850e-01, 8.25581431e-01, 8.30904007e-01, 8.36257219e-01,\n",
       "       8.41642261e-01, 8.47058654e-01, 8.52507353e-01, 8.57988119e-01,\n",
       "       8.63501549e-01, 8.69047761e-01, 8.74626756e-01, 8.80239606e-01,\n",
       "       8.85885835e-01, 8.91566396e-01, 8.97280812e-01, 9.03030276e-01,\n",
       "       9.08814311e-01, 9.14634228e-01, 9.20489550e-01, 9.26380277e-01,\n",
       "       9.32307839e-01, 9.38271403e-01, 9.44272399e-01, 9.50310469e-01,\n",
       "       9.56386328e-01, 9.62500215e-01, 9.68651891e-01, 9.74842787e-01,\n",
       "       9.81072545e-01, 9.87341881e-01, 9.93650675e-01, 1.00000000e+00,\n",
       "       1.00636935e+00, 1.01277947e+00, 1.01923084e+00, 1.02572346e+00,\n",
       "       1.03225803e+00, 1.03883505e+00, 1.04545450e+00, 1.05211735e+00,\n",
       "       1.05882359e+00, 1.06557369e+00, 1.07236838e+00, 1.07920790e+00,\n",
       "       1.08609247e+00, 1.09302306e+00, 1.09999991e+00, 1.10702324e+00,\n",
       "       1.11409378e+00, 1.12121201e+00, 1.12837815e+00, 1.13559318e+00,\n",
       "       1.14285708e+00, 1.15017057e+00, 1.15753412e+00, 1.16494823e+00,\n",
       "       1.17241359e+00, 1.17993069e+00, 1.18749976e+00, 1.19512176e+00,\n",
       "       1.20279694e+00, 1.21052599e+00, 1.21830964e+00, 1.22614860e+00,\n",
       "       1.23404288e+00, 1.24199319e+00, 1.25000024e+00, 1.25806475e+00,\n",
       "       1.26618743e+00, 1.27436829e+00, 1.28260875e+00, 1.29090929e+00,\n",
       "       1.29927015e+00, 1.30769253e+00, 1.31617665e+00, 1.32472348e+00,\n",
       "       1.33333349e+00, 1.34200764e+00, 1.35074639e+00, 1.35955071e+00,\n",
       "       1.36842108e+00, 1.37735867e+00, 1.38636374e+00, 1.39543748e+00,\n",
       "       1.40458036e+00, 1.41379333e+00, 1.42307711e+00, 1.43243265e+00,\n",
       "       1.44186068e+00, 1.45136190e+00, 1.46093750e+00, 1.47058821e+00,\n",
       "       1.48031497e+00, 1.49011850e+00, 1.50000000e+00, 1.50996018e+00,\n",
       "       1.51999998e+00, 1.53012037e+00, 1.54032254e+00, 1.55060720e+00,\n",
       "       1.56097555e+00, 1.57142854e+00, 1.58196712e+00, 1.59259248e+00,\n",
       "       1.60330582e+00, 1.61410785e+00, 1.62500000e+00, 1.63598323e+00,\n",
       "       1.64705849e+00, 1.65822768e+00, 1.66949129e+00, 1.68085074e+00,\n",
       "       1.69230747e+00, 1.70386243e+00, 1.71551704e+00, 1.72727251e+00,\n",
       "       1.73913026e+00, 1.75109148e+00, 1.76315761e+00, 1.77533007e+00,\n",
       "       1.78761029e+00, 1.79999971e+00, 1.81249976e+00, 1.82511187e+00,\n",
       "       1.83783746e+00, 1.85067844e+00, 1.86363673e+00, 1.87671280e+00,\n",
       "       1.88990879e+00, 1.90322614e+00, 1.91666698e+00, 1.93023300e+00,\n",
       "       1.94392562e+00, 1.95774698e+00, 1.97169852e+00, 1.98578239e+00,\n",
       "       2.00000024e+00, 2.01449227e+00, 2.02912641e+00, 2.04390287e+00,\n",
       "       2.05882335e+00, 2.07389164e+00, 2.08910942e+00, 2.10447764e+00,\n",
       "       2.12000012e+00, 2.13567805e+00, 2.15151501e+00, 2.16751313e+00,\n",
       "       2.18367314e+00, 2.20000005e+00, 2.21649504e+00, 2.23316026e+00,\n",
       "       2.25000024e+00, 2.26701617e+00, 2.28421020e+00, 2.30158734e+00,\n",
       "       2.31914830e+00, 2.33689833e+00, 2.35483909e+00, 2.37297249e+00,\n",
       "       2.39130426e+00, 2.40983653e+00, 2.42857122e+00, 2.44751382e+00,\n",
       "       2.46666694e+00, 2.48603320e+00, 2.50561833e+00, 2.52542424e+00,\n",
       "       2.54545426e+00, 2.56571436e+00, 2.58620620e+00, 2.60693622e+00,\n",
       "       2.62790728e+00, 2.64912248e+00, 2.67058826e+00, 2.69230795e+00,\n",
       "       2.71428513e+00, 2.73652720e+00, 2.75903678e+00, 2.78181791e+00,\n",
       "       2.80487800e+00, 2.82822180e+00, 2.85185170e+00, 2.87577677e+00,\n",
       "       2.89999938e+00, 2.92452812e+00, 2.94936776e+00, 2.97452188e+00,\n",
       "       3.00000000e+00, 3.02515745e+00, 3.05063295e+00, 3.07643318e+00,\n",
       "       3.10256386e+00, 3.12903214e+00, 3.15584421e+00, 3.18300629e+00,\n",
       "       3.21052647e+00, 3.23841047e+00, 3.26666689e+00, 3.29530191e+00,\n",
       "       3.32432413e+00, 3.35374165e+00, 3.38356161e+00, 3.41379309e+00,\n",
       "       3.44444466e+00, 3.47552443e+00, 3.50704241e+00, 3.53900719e+00,\n",
       "       3.57142878e+00, 3.60431671e+00, 3.63768101e+00, 3.67153311e+00,\n",
       "       3.70588207e+00, 3.74074078e+00, 3.77611971e+00, 3.81202984e+00,\n",
       "       3.84848499e+00, 3.88549614e+00, 3.92307711e+00, 3.96124029e+00,\n",
       "       4.00000000e+00, 4.03999996e+00, 4.08064508e+00, 4.12195110e+00,\n",
       "       4.16393423e+00, 4.20661163e+00, 4.25000000e+00, 4.29411697e+00,\n",
       "       4.33898258e+00, 4.38461494e+00, 4.43103409e+00, 4.47826052e+00,\n",
       "       4.52631521e+00, 4.57522059e+00, 4.62499952e+00, 4.67567492e+00,\n",
       "       4.72727203e+00, 4.77981520e+00, 4.83333206e+00, 4.88784933e+00,\n",
       "       4.94339514e+00, 5.00000000e+00, 5.05769110e+00, 5.11650372e+00,\n",
       "       5.17646933e+00, 5.23762226e+00, 5.29999876e+00, 5.36363411e+00,\n",
       "       5.42856932e+00, 5.49484301e+00, 5.56249762e+00, 5.63157654e+00,\n",
       "       5.70212984e+00, 5.77419615e+00, 5.84782839e+00, 5.92307854e+00,\n",
       "       6.00000191e+00, 6.08045816e+00, 6.16279030e+00, 6.24705935e+00,\n",
       "       6.33333540e+00, 6.42168474e+00, 6.51219416e+00, 6.60493898e+00,\n",
       "       6.70000172e+00, 6.79746580e+00, 6.89743424e+00, 7.00000000e+00,\n",
       "       7.11267471e+00, 7.22856998e+00, 7.34782410e+00, 7.47058487e+00,\n",
       "       7.59701824e+00, 7.72727585e+00, 7.86153984e+00, 8.00000095e+00,\n",
       "       8.13043499e+00, 8.26470661e+00, 8.40298557e+00, 8.54545498e+00,\n",
       "       8.69230843e+00, 8.84375000e+00, 9.00000000e+00, 9.15385151e+00,\n",
       "       9.31250000e+00, 9.47619533e+00, 9.64516067e+00, 9.81967735e+00,\n",
       "       9.99999905e+00, 1.01943474e+01, 1.03956871e+01, 1.06044016e+01,\n",
       "       1.08208895e+01, 1.10456238e+01, 1.12790689e+01, 1.15217409e+01,\n",
       "       1.17741976e+01, 1.20370445e+01, 1.23109179e+01, 1.25965633e+01,\n",
       "       1.28947353e+01, 1.32062807e+01, 1.35321169e+01, 1.38732500e+01,\n",
       "       1.42307606e+01, 1.46059065e+01, 1.50000000e+01, 1.90000000e+01,\n",
       "       9.90000000e+01])"
      ]
     },
     "execution_count": 20,
     "metadata": {},
     "output_type": "execute_result"
    }
   ],
   "source": [
    "redshifts"
   ]
  },
  {
   "cell_type": "code",
   "execution_count": 25,
   "id": "2f4d3ded",
   "metadata": {},
   "outputs": [
    {
     "data": {
      "text/plain": [
       "'m11b_r2100'"
      ]
     },
     "execution_count": 25,
     "metadata": {},
     "output_type": "execute_result"
    }
   ],
   "source": [
    "gal[-10:]"
   ]
  },
  {
   "cell_type": "code",
   "execution_count": 21,
   "id": "c0333ec5",
   "metadata": {},
   "outputs": [
    {
     "name": "stdout",
     "output_type": "stream",
     "text": [
      "\n",
      "# in utilities.simulation.Snapshot():\n",
      "* reading:  data/groups/leauthaud/yluo42/FIRE/m11b_r2100/snapshot_times.txt\n",
      "\n",
      "* input redshift = 0.0:  using snapshot index = 600, redshift = 0.000\n",
      "\n",
      "\n",
      "# in gizmo_analysis.gizmo_io.Read():\n",
      "* reading header from:  data/groups/leauthaud/yluo42/FIRE/m11b_r2100/output/snapshot_600.hdf5\n",
      "  snapshot contains the following number of particles:\n",
      "    dark      (id = 1): 22374200 particles\n",
      "    dark2     (id = 2): 19623813 particles\n",
      "    gas       (id = 0): 22336883 particles\n",
      "    star      (id = 4): 37213 particles\n",
      "    blackhole (id = 5): 0 particles\n",
      "\n",
      "* reading the following\n",
      "  species: ['dark', 'dark2', 'gas', 'star']\n",
      "\n",
      "* reading particles from:\n",
      "    data/groups/leauthaud/yluo42/FIRE/m11b_r2100/output/snapshot_600.hdf5\n",
      "\n",
      "! cannot find MUSIC config file:  data/groups/leauthaud/yluo42/FIRE/m11b_r2100/*/*.conf\n",
      "! missing cosmological parameters, assuming the following (from AGORA):\n",
      "  assuming omega_baryon = 0.0455\n",
      "  assuming sigma_8 = 0.807\n",
      "  assuming n_s = 0.961\n",
      "\n",
      "* checking sanity of particle properties\n",
      "\n",
      "\n",
      "# in gizmo_analysis.gizmo_track.ParticleCoordinate():\n",
      "  read 1 host (position, velocity, principal axes) from:  data/groups/leauthaud/yluo42/FIRE/m11b_r2100/track/host_coordinates.hdf5\n",
      "  host1 position = (23348.86, 20506.42, 22598.10) [kpc comoving]\n",
      "  host1 velocity = (-227.1, -334.4, -228.1) [km / s]\n",
      "  host1 axis ratios = (0.31, 0.34, 0.90)\n",
      "\n",
      "\n",
      "# in utilities.simulation.Snapshot():\n",
      "* reading:  data/groups/leauthaud/yluo42/FIRE/m11b_r2100/snapshot_times.txt\n",
      "\n",
      "* input redshift = 0.000159264:  using snapshot index = 599, redshift = 0.000\n",
      "\n",
      "\n",
      "# in gizmo_analysis.gizmo_io.Read():\n",
      "* reading header from:  data/groups/leauthaud/yluo42/FIRE/m11b_r2100/output/snapshot_599.hdf5\n",
      "  snapshot contains the following number of particles:\n",
      "    dark      (id = 1): 22374200 particles\n",
      "    dark2     (id = 2): 19623813 particles\n",
      "    gas       (id = 0): 22336883 particles\n",
      "    star      (id = 4): 37213 particles\n",
      "    blackhole (id = 5): 0 particles\n",
      "\n",
      "* reading the following\n",
      "  species: ['dark', 'dark2', 'gas', 'star']\n",
      "\n",
      "* reading particles from:\n",
      "    data/groups/leauthaud/yluo42/FIRE/m11b_r2100/output/snapshot_599.hdf5\n",
      "\n",
      "! cannot find MUSIC config file:  data/groups/leauthaud/yluo42/FIRE/m11b_r2100/*/*.conf\n",
      "! missing cosmological parameters, assuming the following (from AGORA):\n",
      "  assuming omega_baryon = 0.0455\n",
      "  assuming sigma_8 = 0.807\n",
      "  assuming n_s = 0.961\n",
      "\n",
      "* checking sanity of particle properties\n",
      "\n",
      "\n",
      "# in gizmo_analysis.gizmo_track.ParticleCoordinate():\n",
      "  read 1 host (position, velocity, principal axes) from:  data/groups/leauthaud/yluo42/FIRE/m11b_r2100/track/host_coordinates.hdf5\n",
      "  host1 position = (23349.38, 20507.20, 22598.64) [kpc comoving]\n",
      "  host1 velocity = (-227.0, -334.4, -228.1) [km / s]\n",
      "  host1 axis ratios = (0.31, 0.34, 0.91)\n",
      "\n",
      "\n",
      "# in utilities.simulation.Snapshot():\n",
      "* reading:  data/groups/leauthaud/yluo42/FIRE/m11b_r2100/snapshot_times.txt\n",
      "\n",
      "* input redshift = 0.000318646:  using snapshot index = 598, redshift = 0.000\n",
      "\n",
      "\n",
      "# in gizmo_analysis.gizmo_io.Read():\n",
      "* reading header from:  data/groups/leauthaud/yluo42/FIRE/m11b_r2100/output/snapshot_598.hdf5\n",
      "  snapshot contains the following number of particles:\n",
      "    dark      (id = 1): 22374200 particles\n",
      "    dark2     (id = 2): 19623813 particles\n",
      "    gas       (id = 0): 22336883 particles\n",
      "    star      (id = 4): 37213 particles\n",
      "    blackhole (id = 5): 0 particles\n",
      "\n",
      "* reading the following\n",
      "  species: ['dark', 'dark2', 'gas', 'star']\n",
      "\n",
      "* reading particles from:\n",
      "    data/groups/leauthaud/yluo42/FIRE/m11b_r2100/output/snapshot_598.hdf5\n"
     ]
    },
    {
     "ename": "KeyboardInterrupt",
     "evalue": "",
     "output_type": "error",
     "traceback": [
      "\u001b[0;31m---------------------------------------------------------------------------\u001b[0m",
      "\u001b[0;31mKeyboardInterrupt\u001b[0m                         Traceback (most recent call last)",
      "Cell \u001b[0;32mIn[21], line 2\u001b[0m\n\u001b[1;32m      1\u001b[0m \u001b[38;5;28;01mfor\u001b[39;00m z \u001b[38;5;129;01min\u001b[39;00m redshifts:\n\u001b[0;32m----> 2\u001b[0m     parts \u001b[38;5;241m=\u001b[39m gizmo\u001b[38;5;241m.\u001b[39mio\u001b[38;5;241m.\u001b[39mRead\u001b[38;5;241m.\u001b[39mread_snapshots(\u001b[38;5;124m'\u001b[39m\u001b[38;5;124mall\u001b[39m\u001b[38;5;124m'\u001b[39m, \u001b[38;5;124m'\u001b[39m\u001b[38;5;124mredshift\u001b[39m\u001b[38;5;124m'\u001b[39m, z, gal)\n",
      "File \u001b[0;32m~/gizmo_analysis/gizmo_analysis/gizmo_io.py:1046\u001b[0m, in \u001b[0;36mReadClass.read_snapshots\u001b[0;34m(self, species, snapshot_value_kind, snapshot_values, simulation_directory, snapshot_directory, track_directory, simulation_name, properties, elements, particle_subsample_factor, separate_dark_lowres, sort_dark_by_id, convert_float32, host_number, assign_hosts, assign_hosts_rotation, assign_orbits, assign_formation_coordinates, assign_pointers, check_properties)\u001b[0m\n\u001b[1;32m   1041\u001b[0m header \u001b[38;5;241m=\u001b[39m \u001b[38;5;28mself\u001b[39m\u001b[38;5;241m.\u001b[39mread_header(\n\u001b[1;32m   1042\u001b[0m     simulation_directory, snapshot_directory, \u001b[38;5;124m'\u001b[39m\u001b[38;5;124mindex\u001b[39m\u001b[38;5;124m'\u001b[39m, snapshot_index, simulation_name\n\u001b[1;32m   1043\u001b[0m )\n\u001b[1;32m   1045\u001b[0m \u001b[38;5;66;03m# read particles from snapshot file[s]\u001b[39;00m\n\u001b[0;32m-> 1046\u001b[0m part \u001b[38;5;241m=\u001b[39m \u001b[38;5;28mself\u001b[39m\u001b[38;5;241m.\u001b[39m_read_particles(\n\u001b[1;32m   1047\u001b[0m     simulation_directory,\n\u001b[1;32m   1048\u001b[0m     snapshot_directory,\n\u001b[1;32m   1049\u001b[0m     \u001b[38;5;124m'\u001b[39m\u001b[38;5;124mindex\u001b[39m\u001b[38;5;124m'\u001b[39m,\n\u001b[1;32m   1050\u001b[0m     snapshot_index,\n\u001b[1;32m   1051\u001b[0m     properties,\n\u001b[1;32m   1052\u001b[0m     elements,\n\u001b[1;32m   1053\u001b[0m     convert_float32,\n\u001b[1;32m   1054\u001b[0m     header,\n\u001b[1;32m   1055\u001b[0m )\n\u001b[1;32m   1057\u001b[0m \u001b[38;5;66;03m# assign auxilliary information to particle dictionary class\u001b[39;00m\n\u001b[1;32m   1058\u001b[0m \u001b[38;5;66;03m# store header dictionary\u001b[39;00m\n\u001b[1;32m   1059\u001b[0m part\u001b[38;5;241m.\u001b[39minfo \u001b[38;5;241m=\u001b[39m header\n",
      "File \u001b[0;32m~/gizmo_analysis/gizmo_analysis/gizmo_io.py:1960\u001b[0m, in \u001b[0;36mReadClass._read_particles\u001b[0;34m(self, simulation_directory, snapshot_directory, snapshot_value_kind, snapshot_value, properties, elements, convert_float32, header)\u001b[0m\n\u001b[1;32m   1957\u001b[0m                             \u001b[38;5;28;01melse\u001b[39;00m:\n\u001b[1;32m   1958\u001b[0m                                 prop_read_name \u001b[38;5;241m=\u001b[39m part_read[prop_read_name]\n\u001b[0;32m-> 1960\u001b[0m                             part[spec_name][prop_name][\n\u001b[1;32m   1961\u001b[0m                                 part_index_lo:part_index_hi, :\n\u001b[1;32m   1962\u001b[0m                             ] \u001b[38;5;241m=\u001b[39m prop_read_name\n\u001b[1;32m   1964\u001b[0m                 part_indices_lo[spec_i] \u001b[38;5;241m=\u001b[39m part_index_hi  \u001b[38;5;66;03m# set indices for next file\u001b[39;00m\n\u001b[1;32m   1966\u001b[0m \u001b[38;5;28mprint\u001b[39m()\n",
      "File \u001b[0;32mh5py/_objects.pyx:54\u001b[0m, in \u001b[0;36mh5py._objects.with_phil.wrapper\u001b[0;34m()\u001b[0m\n",
      "File \u001b[0;32mh5py/_objects.pyx:55\u001b[0m, in \u001b[0;36mh5py._objects.with_phil.wrapper\u001b[0;34m()\u001b[0m\n",
      "File \u001b[0;32m~/anaconda3/envs/breathingModes/lib/python3.11/site-packages/h5py/_hl/dataset.py:1063\u001b[0m, in \u001b[0;36mDataset.__array__\u001b[0;34m(self, dtype)\u001b[0m\n\u001b[1;32m   1060\u001b[0m \u001b[38;5;28;01mif\u001b[39;00m \u001b[38;5;28mself\u001b[39m\u001b[38;5;241m.\u001b[39msize \u001b[38;5;241m==\u001b[39m \u001b[38;5;241m0\u001b[39m:\n\u001b[1;32m   1061\u001b[0m     \u001b[38;5;28;01mreturn\u001b[39;00m arr\n\u001b[0;32m-> 1063\u001b[0m \u001b[38;5;28mself\u001b[39m\u001b[38;5;241m.\u001b[39mread_direct(arr)\n\u001b[1;32m   1064\u001b[0m \u001b[38;5;28;01mreturn\u001b[39;00m arr\n",
      "File \u001b[0;32m~/anaconda3/envs/breathingModes/lib/python3.11/site-packages/h5py/_hl/dataset.py:1024\u001b[0m, in \u001b[0;36mDataset.read_direct\u001b[0;34m(self, dest, source_sel, dest_sel)\u001b[0m\n\u001b[1;32m   1021\u001b[0m     dest_sel \u001b[38;5;241m=\u001b[39m sel\u001b[38;5;241m.\u001b[39mselect(dest\u001b[38;5;241m.\u001b[39mshape, dest_sel)\n\u001b[1;32m   1023\u001b[0m \u001b[38;5;28;01mfor\u001b[39;00m mspace \u001b[38;5;129;01min\u001b[39;00m dest_sel\u001b[38;5;241m.\u001b[39mbroadcast(source_sel\u001b[38;5;241m.\u001b[39marray_shape):\n\u001b[0;32m-> 1024\u001b[0m     \u001b[38;5;28mself\u001b[39m\u001b[38;5;241m.\u001b[39mid\u001b[38;5;241m.\u001b[39mread(mspace, fspace, dest, dxpl\u001b[38;5;241m=\u001b[39m\u001b[38;5;28mself\u001b[39m\u001b[38;5;241m.\u001b[39m_dxpl)\n",
      "\u001b[0;31mKeyboardInterrupt\u001b[0m: "
     ]
    }
   ],
   "source": [
    "for z in redshifts:\n",
    "    parts = gizmo.io.Read.read_snapshots('all', 'redshift', z, gal)"
   ]
  },
  {
   "cell_type": "markdown",
   "id": "524cb152",
   "metadata": {},
   "source": [
    "## 3 panel figure\n",
    "Need:\n",
    " * sigma\n",
    " * SSFR \n",
    " * half mass radius"
   ]
  },
  {
   "cell_type": "code",
   "execution_count": 43,
   "id": "b99a7d5b",
   "metadata": {},
   "outputs": [],
   "source": [
    "# use this for sSFR\n",
    "particles['star'].prop('age')\n",
    "masses = particles['star'].prop('mass')"
   ]
  },
  {
   "cell_type": "code",
   "execution_count": 41,
   "id": "613ab940",
   "metadata": {},
   "outputs": [],
   "source": [
    "# can calculate half mass radius here\n",
    "starpos = particles['star'].prop('position')"
   ]
  },
  {
   "cell_type": "code",
   "execution_count": 28,
   "id": "f038e0eb",
   "metadata": {},
   "outputs": [],
   "source": [
    "# velocities\n",
    "velocities_rad = particles['star'].prop('host.velocity.principal.spherical')[:, 0]  # radial velocity\n",
    "\n",
    "velocities_3d = particles['star'].prop('host.velocity')"
   ]
  },
  {
   "cell_type": "code",
   "execution_count": 26,
   "id": "390eb718",
   "metadata": {},
   "outputs": [],
   "source": [
    "# Yifei's code for mass weighted 3D velocity distribution\n",
    "def compute_vdisp(velocities, masses):\n",
    "    center_of_mass_velocity = np.sum(velocities * masses[:, None], axis=0) / np.sum(masses)\n",
    "    velocity_differences = velocities - center_of_mass_velocity\n",
    "    velocity_differences_squared = np.sum(velocity_differences**2, axis=1)\n",
    "    mass_weighted_dispersion = np.sqrt(np.sum(velocity_differences_squared * masses) / np.sum(masses))\n",
    "    return mass_weighted_dispersion"
   ]
  },
  {
   "cell_type": "code",
   "execution_count": 60,
   "id": "74f4fa32",
   "metadata": {},
   "outputs": [],
   "source": [
    "#  mass weighted radial velocity distribytion\n",
    "def compute_vdisp_rad(velocities, masses):\n",
    "    center_of_mass_velocity = np.sum(velocities * masses, axis=0) / np.sum(masses)\n",
    "    velocity_differences = velocities - center_of_mass_velocity\n",
    "    velocity_differences_squared = np.sum(velocity_differences**2, axis=0)\n",
    "    mass_weighted_dispersion = np.sqrt(np.sum(velocity_differences_squared * masses) / np.sum(masses))\n",
    "    #return center_of_mass_velocity\n",
    "    return mass_weighted_dispersion"
   ]
  },
  {
   "cell_type": "code",
   "execution_count": 33,
   "id": "874ab81f",
   "metadata": {},
   "outputs": [
    {
     "data": {
      "text/plain": [
       "array([[  41.284645 ,   14.041922 ,   32.112816 ],\n",
       "       [  -7.9162774,   -3.7507262,   10.986878 ],\n",
       "       [ -41.625034 ,  -50.93744  ,   29.438032 ],\n",
       "       ...,\n",
       "       [ -27.491978 ,  -35.202248 ,   26.35589  ],\n",
       "       [ -29.708197 ,  -38.479324 ,   30.914165 ],\n",
       "       [-113.45388  , -166.52464  ,  -33.670742 ]], dtype=float32)"
      ]
     },
     "execution_count": 33,
     "metadata": {},
     "output_type": "execute_result"
    }
   ],
   "source": [
    "velocities_3d"
   ]
  },
  {
   "cell_type": "code",
   "execution_count": 37,
   "id": "7e24de8e",
   "metadata": {},
   "outputs": [
    {
     "data": {
      "text/plain": [
       "array([  14.041922 ,   -3.7507262,  -50.93744  , ...,  -35.202248 ,\n",
       "        -38.479324 , -166.52464  ], dtype=float32)"
      ]
     },
     "execution_count": 37,
     "metadata": {},
     "output_type": "execute_result"
    }
   ],
   "source": [
    "velocities_3d[:,1]"
   ]
  },
  {
   "cell_type": "code",
   "execution_count": 78,
   "id": "c9b4b507",
   "metadata": {},
   "outputs": [],
   "source": [
    "# positions are 3D \n",
    "def compute_Rhalfmass(positions, masses, startR, incBy, acc):\n",
    "    center_of_mass = np.sum(positions * masses[:, None], axis=0) / np.sum(masses)\n",
    "    correctedpos = positions-center_of_mass\n",
    "    \n",
    "    radii = np.linalg.norm(correctedpos, ord=2, axis=1)\n",
    "    mTot = np.sum(masses)\n",
    "    \n",
    "    # start at startR and increment \n",
    "    r = startR - incBy\n",
    "    hm = mTot\n",
    "    while(hm < (0.50-acc)*mTot or hm > (0.5+acc)*mTot):\n",
    "        r+=incBy\n",
    "        hm = np.sum(masses[radii < r])\n",
    "        \n",
    "        # check bounds \n",
    "        if (r>max(radii)):\n",
    "            return -1\n",
    "    \n",
    "    return r"
   ]
  },
  {
   "cell_type": "code",
   "execution_count": 67,
   "id": "9ba1426c",
   "metadata": {},
   "outputs": [],
   "source": [
    "center_of_mass = np.sum(starpos * masses[:, None], axis=0) / np.sum(masses)\n",
    "radii = np.linalg.norm(starpos-center_of_mass, ord=2, axis=1)"
   ]
  },
  {
   "cell_type": "code",
   "execution_count": 71,
   "id": "8be8734a",
   "metadata": {},
   "outputs": [
    {
     "data": {
      "text/plain": [
       "3373.96459972014"
      ]
     },
     "execution_count": 71,
     "metadata": {},
     "output_type": "execute_result"
    }
   ],
   "source": [
    "max(radii)"
   ]
  },
  {
   "cell_type": "code",
   "execution_count": 83,
   "id": "1cd34aa7",
   "metadata": {},
   "outputs": [
    {
     "data": {
      "text/plain": [
       "39.18999999999976"
      ]
     },
     "execution_count": 83,
     "metadata": {},
     "output_type": "execute_result"
    }
   ],
   "source": [
    "compute_Rhalfmass(starpos, masses, startR=38, incBy=0.01, acc=0.01)"
   ]
  },
  {
   "cell_type": "code",
   "execution_count": 36,
   "id": "92c18324",
   "metadata": {},
   "outputs": [
    {
     "data": {
      "text/plain": [
       "51.041153"
      ]
     },
     "execution_count": 36,
     "metadata": {},
     "output_type": "execute_result"
    }
   ],
   "source": [
    "compute_vdisp(velocities_3d, masses)"
   ]
  },
  {
   "cell_type": "code",
   "execution_count": 61,
   "id": "ffe4f19e",
   "metadata": {},
   "outputs": [
    {
     "data": {
      "text/plain": [
       "6910.5435"
      ]
     },
     "execution_count": 61,
     "metadata": {},
     "output_type": "execute_result"
    }
   ],
   "source": [
    "compute_vdisp_rad(velocities_rad, masses)"
   ]
  },
  {
   "cell_type": "code",
   "execution_count": 38,
   "id": "065f159e",
   "metadata": {},
   "outputs": [],
   "source": [
    "center_of_mass_velocity=1"
   ]
  },
  {
   "cell_type": "code",
   "execution_count": 46,
   "id": "edcca624",
   "metadata": {},
   "outputs": [
    {
     "data": {
      "text/plain": [
       "array([[  55686.234 ,   18940.256 ,   43314.938 ],\n",
       "       [ -10330.108 ,   -4894.3975,   14336.996 ],\n",
       "       [ -60441.023 ,  -73962.96  ,   42745.066 ],\n",
       "       ...,\n",
       "       [ -41837.312 ,  -53570.81  ,   40108.414 ],\n",
       "       [ -45828.41  ,  -59358.914 ,   47688.76  ],\n",
       "       [-161054.22  , -236391.19  ,  -47797.53  ]], dtype=float32)"
      ]
     },
     "execution_count": 46,
     "metadata": {},
     "output_type": "execute_result"
    }
   ],
   "source": [
    "velocities_3d*masses[:,None]"
   ]
  },
  {
   "cell_type": "code",
   "execution_count": 48,
   "id": "df2692f4",
   "metadata": {},
   "outputs": [
    {
     "data": {
      "text/plain": [
       "array([-3.3153930e+04,  1.8547777e+02,  5.5631895e+04, ...,\n",
       "        7.8504180e+04,  8.8510133e+04,  2.8962588e+05], dtype=float32)"
      ]
     },
     "execution_count": 48,
     "metadata": {},
     "output_type": "execute_result"
    }
   ],
   "source": [
    "velocities_rad*masses"
   ]
  },
  {
   "cell_type": "code",
   "execution_count": null,
   "id": "95556da6",
   "metadata": {},
   "outputs": [],
   "source": []
  }
 ],
 "metadata": {
  "kernelspec": {
   "display_name": "Python 3 (ipykernel)",
   "language": "python",
   "name": "python3"
  },
  "language_info": {
   "codemirror_mode": {
    "name": "ipython",
    "version": 3
   },
   "file_extension": ".py",
   "mimetype": "text/x-python",
   "name": "python",
   "nbconvert_exporter": "python",
   "pygments_lexer": "ipython3",
   "version": "3.11.3"
  }
 },
 "nbformat": 4,
 "nbformat_minor": 5
}
