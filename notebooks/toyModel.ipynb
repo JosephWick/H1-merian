{
 "cells": [
  {
   "cell_type": "code",
   "execution_count": 1,
   "id": "49095fdf",
   "metadata": {},
   "outputs": [],
   "source": [
    "import sys\n",
    "sys.path.insert(0, '/home/jw1624/H1-merian/util/')\n",
    "from util import util\n",
    "\n",
    "import pynbody\n",
    "import numpy as np\n",
    "import matplotlib.pyplot as plt\n",
    "import pandas as pd\n",
    "import glob\n",
    "\n",
    "import scipy.integrate as integrate"
   ]
  },
  {
   "cell_type": "code",
   "execution_count": null,
   "id": "536c8477",
   "metadata": {},
   "outputs": [],
   "source": [
    "# testing our integration "
   ]
  },
  {
   "cell_type": "code",
   "execution_count": 2,
   "id": "c09451ed",
   "metadata": {},
   "outputs": [],
   "source": [
    "# flux density\n",
    "def getFluxDensity(hi, dv, D):\n",
    "    S21 = []\n",
    "    for m in hi:\n",
    "        s = (1/(2.36e5)) * (m/(1)) * (1/dv)*((1/D)**2)\n",
    "        S21.append(s)\n",
    "    return np.array(S21)"
   ]
  },
  {
   "cell_type": "code",
   "execution_count": 32,
   "id": "f854f96b",
   "metadata": {},
   "outputs": [],
   "source": [
    "rmax = 15\n",
    "def rot(r): return 70\n",
    "def nrot(r): return -1*rot(r)\n",
    "def sigma(r): return 1/(r+0.4)\n",
    "def vdisp(r): return 5\n",
    "\n",
    "def M(v):\n",
    "        def integrand(vbar, r):\n",
    "            a = np.exp(- ((v-vbar)**2)/(2*vdisp(r)**2))\n",
    "            b = r*vdisp(r)\n",
    "            c = vdisp(r)*np.sqrt( rot(r)**2 -vbar**2 )\n",
    "\n",
    "            return (a*b)/c\n",
    "\n",
    "        i2 = integrate.dblquad(integrand, -0,15, -70,70)[0]\n",
    "\n",
    "        return np.sqrt(2/np.pi)*i2"
   ]
  },
  {
   "cell_type": "code",
   "execution_count": 33,
   "id": "56f6262c",
   "metadata": {},
   "outputs": [
    {
     "data": {
      "text/plain": [
       "[<matplotlib.lines.Line2D at 0x7f1bd2d35dc0>]"
      ]
     },
     "execution_count": 33,
     "metadata": {},
     "output_type": "execute_result"
    },
    {
     "data": {
      "image/png": "[encoded data removed]",
      "text/plain": [
       "<Figure size 432x288 with 1 Axes>"
      ]
     },
     "metadata": {
      "needs_background": "light"
     },
     "output_type": "display_data"
    }
   ],
   "source": [
    "predM = []\n",
    "vs = np.linspace(-150,150, 100)\n",
    "for v in vs:\n",
    "    predM.append(M(v))\n",
    "\n",
    "plt.plot(vs, predM)\n",
    "    "
   ]
  },
  {
   "cell_type": "code",
   "execution_count": null,
   "id": "e188c1b7",
   "metadata": {},
   "outputs": [],
   "source": []
  }
 ],
 "metadata": {
  "kernelspec": {
   "display_name": "Python 3",
   "language": "python",
   "name": "python3"
  },
  "language_info": {
   "codemirror_mode": {
    "name": "ipython",
    "version": 3
   },
   "file_extension": ".py",
   "mimetype": "text/x-python",
   "name": "python",
   "nbconvert_exporter": "python",
   "pygments_lexer": "ipython3",
   "version": "3.9.12"
  }
 },
 "nbformat": 4,
 "nbformat_minor": 5
}
