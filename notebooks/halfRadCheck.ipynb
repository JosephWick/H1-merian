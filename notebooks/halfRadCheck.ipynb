{
 "cells": [
  {
   "cell_type": "markdown",
   "id": "1ef55950",
   "metadata": {},
   "source": [
    "Checking if our halfmass radii seem reasonable by overplotting them on a image"
   ]
  },
  {
   "cell_type": "code",
   "execution_count": 1,
   "id": "4ffdbc63",
   "metadata": {},
   "outputs": [],
   "source": [
    "import pynbody\n",
    "import numpy as np \n",
    "import pynbody.plot.sph as sph\n",
    "import matplotlib.pyplot as plt\n",
    "\n",
    "import glob\n",
    "\n",
    "import sys \n",
    "sys.path.insert(0, '/home/jw1624/H1-merian/util/')\n",
    "from util import util"
   ]
  },
  {
   "cell_type": "code",
   "execution_count": 2,
   "id": "4936ea0c",
   "metadata": {},
   "outputs": [],
   "source": [
    "def halfMassRadius_bisect(sim, outerR, acc, maxiter=100000):\n",
    "    innerLim = 0.0\n",
    "    outerLim = outerR\n",
    "\n",
    "    pRadii = np.array(sim.s['r'].in_units('kpc'))\n",
    "    pMass = np.array(sim.s['mass'])\n",
    "    mTot = sum(pMass)\n",
    "\n",
    "    r = outerR/2\n",
    "    hm = sum(pMass[pRadii < r])\n",
    "    n=0\n",
    "    while(hm < (0.5-acc)*mTot or hm > (0.5+acc)*mTot):\n",
    "        if hm > 0.5*mTot: # too big, decrease r\n",
    "            outerLim = r\n",
    "            r = innerLim + (outerLim-innerLim)/2\n",
    "        elif hm < 0.5*mTot: # too small increase r\n",
    "            innerLim = r\n",
    "            r = innerLim + (outerLim-innerLim)/2\n",
    "        hm = sum(pMass[pRadii < r])\n",
    "\n",
    "        n += 1\n",
    "        if n>maxiter:\n",
    "            return -1\n",
    "            break\n",
    "\n",
    "    return r"
   ]
  },
  {
   "cell_type": "markdown",
   "id": "b4890656",
   "metadata": {},
   "source": [
    "## Images"
   ]
  },
  {
   "cell_type": "code",
   "execution_count": 26,
   "id": "5e6527d7",
   "metadata": {},
   "outputs": [],
   "source": [
    "# image function\n",
    "def makeStarImage(hID, ts=0, width=20, sidm=0):\n",
    "    baseDir = '/data/REPOSITORY/e11Gals/romulus_dwarf_zooms'\n",
    "    galDir = baseDir+ '/r' + str(hID)+'.romulus25.3072g1HsbBH'\n",
    "\n",
    "    timesteps = glob.glob(galDir+'/r*.romulus25.3072g1HsbBH.0*')\n",
    "    timesteps.sort(reverse=True)\n",
    "\n",
    "    f = glob.glob(timesteps[ts]+'/r*.00'+timesteps[ts][-4:])[0]\n",
    "    \n",
    "    v_disp = -1\n",
    "\n",
    "    fig, ax = plt.subplots(1,1, figsize=(8,8), facecolor='w')\n",
    "\n",
    "    s = pynbody.load(f)\n",
    "    s.physical_units()\n",
    "\n",
    "    # center\n",
    "    hCDM = -1\n",
    "    try:\n",
    "        hCDM = s.halos(write_fpos=False)[1]\n",
    "    except:\n",
    "        # center manually if missing halo; taken from pynbody source code\n",
    "        print('HNF')\n",
    "        i = s['phi'].argmin()\n",
    "        cen_pot = s['pos'][i].copy()\n",
    "        s['pos'] -= cen_pot\n",
    "        print('centered manually')\n",
    "    else:\n",
    "        hCDM = s.halos(write_fpos=False)[1]\n",
    "        cen_pot = pynbody.analysis.halo.center(hCDM, mode='pot', retcen=True)\n",
    "        s['pos'] -= cen_pot\n",
    "\n",
    "        pynbody.analysis.angmom.faceon(hCDM)\n",
    "\n",
    "    im = pynbody.plot.stars.render(s, width=str(width)+' kpc', plot=False, ret_im=True)\n",
    "    print('img rendered')\n",
    "    \n",
    "    pxlwid = len(im[0])\n",
    "    pxlKpcRatio = pxlwid/width\n",
    "    \n",
    "    tag = 'CDM'\n",
    "    if sidm: tag = 'SIDM'\n",
    "    plt.title('r'+str(hID) + ' '+tag, fontsize=20, fontfamily='serif')\n",
    "\n",
    "    # find radius and plot as circle\n",
    "    hmr = halfMassRadius_bisect(s, width, 0.01)\n",
    "    print(hmr)\n",
    "    \n",
    "    circle = plt.Circle((pxlwid/2,pxlwid/2), hmr*pxlKpcRatio, edgecolor='g', linewidth=3, fill=False)\n",
    "    \n",
    "    ax.imshow(im)\n",
    "    ax.add_patch(circle)\n",
    "    \n",
    "    plt.tight_layout()"
   ]
  },
  {
   "cell_type": "code",
   "execution_count": 27,
   "id": "83787679",
   "metadata": {},
   "outputs": [],
   "source": [
    "currentGals = util.getGalaxies()[0]"
   ]
  },
  {
   "cell_type": "code",
   "execution_count": 28,
   "id": "7d15ef57",
   "metadata": {},
   "outputs": [
    {
     "name": "stderr",
     "output_type": "stream",
     "text": [
      "/home/jw1624/miniconda3/lib/python3.9/site-packages/pynbody/halo/ahf.py:673: UserWarning: Did not find a suitable AHF halo catalogue file -- will attempt to run AHF to generate one or fallback to other halo catalogues\n",
      "  warnings.warn(\"Did not find a suitable AHF halo catalogue file -- will attempt to run AHF to generate one or fallback to other halo catalogues\")\n"
     ]
    },
    {
     "name": "stdout",
     "output_type": "stream",
     "text": [
      "HNF\n"
     ]
    },
    {
     "name": "stderr",
     "output_type": "stream",
     "text": [
      "/home/jw1624/miniconda3/lib/python3.9/site-packages/pynbody/plot/stars.py:72: RuntimeWarning: divide by zero encountered in log10\n",
      "  return -2.5*np.log10(image*pc2_to_sqarcsec)\n",
      "/home/jw1624/miniconda3/lib/python3.9/site-packages/pynbody/array.py:434: RuntimeWarning: invalid value encountered in subtract\n",
      "  r = add_op(self, x)\n",
      "/home/jw1624/miniconda3/lib/python3.9/site-packages/pynbody/plot/stars.py:24: RuntimeWarning: invalid value encountered in scalar subtract\n",
      "  X = (arr - mini) / (maxi - mini)\n"
     ]
    },
    {
     "name": "stdout",
     "output_type": "stream",
     "text": [
      "-1\n"
     ]
    },
    {
     "name": "stderr",
     "output_type": "stream",
     "text": [
      "/home/jw1624/miniconda3/lib/python3.9/site-packages/matplotlib/cm.py:496: RuntimeWarning: invalid value encountered in cast\n",
      "  xx = (xx * 255).astype(np.uint8)\n"
     ]
    },
    {
     "data": {
      "image/png": "[encoded data removed]",
      "text/plain": [
       "<Figure size 576x576 with 1 Axes>"
      ]
     },
     "metadata": {},
     "output_type": "display_data"
    }
   ],
   "source": [
    "makeStarImage(currentGals[8], 1)"
   ]
  },
  {
   "cell_type": "markdown",
   "id": "b08a366c",
   "metadata": {},
   "source": [
    "## Can we use a scatter plot?"
   ]
  },
  {
   "cell_type": "code",
   "execution_count": 73,
   "id": "78aad107",
   "metadata": {},
   "outputs": [],
   "source": [
    "def makeScatterImage(hID, ts=0, width=20, sidm=0):\n",
    "    baseDir = '/data/REPOSITORY/e11Gals/romulus_dwarf_zooms'\n",
    "    galDir = baseDir+ '/r' + str(hID)+'.romulus25.3072g1HsbBH'\n",
    "\n",
    "    timesteps = glob.glob(galDir+'/r*.romulus25.3072g1HsbBH.0*')\n",
    "    timesteps.sort(reverse=True)\n",
    "\n",
    "    f = glob.glob(timesteps[ts]+'/r*.00'+timesteps[ts][-4:])[0]\n",
    "    \n",
    "    v_disp = -1\n",
    "\n",
    "    fig, ax = plt.subplots(1,1, figsize=(8,8), facecolor='w')\n",
    "\n",
    "    s = pynbody.load(f)\n",
    "    s.physical_units()\n",
    "\n",
    "    # center\n",
    "    hCDM = -1\n",
    "    try:\n",
    "        hCDM = s.halos(write_fpos=False)[1]\n",
    "    except:\n",
    "        # center manually if missing halo; taken from pynbody source code\n",
    "        print('HNF')\n",
    "        mtot = s.s['mass'].sum()\n",
    "        cen = np.sum(s.s['mass'] * s.s['pos'].transpose(), axis=1) / mtot\n",
    "        cen.units = s.s['pos'].units \n",
    "        s['pos'] -= cen\n",
    "        print('centered manually: ', cen)\n",
    "    else:\n",
    "        hCDM = s.halos(write_fpos=False)[1]\n",
    "        cen = pynbody.analysis.halo.center(hCDM, mode='pot', retcen=True)\n",
    "        s['pos'] -= cen\n",
    "\n",
    "        pynbody.analysis.angmom.faceon(hCDM)\n",
    "      \n",
    "    # find radius and plot as circle\n",
    "    hmr = halfMassRadius_bisect(s, width, 0.01)\n",
    "    print(hmr)\n",
    "    \n",
    "    circle = plt.Circle((0,0), hmr, edgecolor='g', linewidth=3, fill=False)\n",
    "    \n",
    "    ax.scatter(s.s['pos'][:,0], s.s['pos'][:,1], s=1)\n",
    "    #ax.scatter(cen[0], cen[1], c='r') # note dont plot this if subtracting cen from pos\n",
    "    \n",
    "    ax.add_patch(circle)\n",
    "    "
   ]
  },
  {
   "cell_type": "code",
   "execution_count": 74,
   "id": "f81bdcc5",
   "metadata": {},
   "outputs": [
    {
     "name": "stdout",
     "output_type": "stream",
     "text": [
      "HNF\n",
      "centered manually:  [4456.2969704  3030.2763112  3187.54014515]\n",
      "2.34375\n"
     ]
    },
    {
     "data": {
      "image/png": "[encoded data removed]",
      "text/plain": [
       "<Figure size 576x576 with 1 Axes>"
      ]
     },
     "metadata": {},
     "output_type": "display_data"
    }
   ],
   "source": [
    "makeScatterImage(currentGals[8], 2)"
   ]
  },
  {
   "cell_type": "code",
   "execution_count": null,
   "id": "df3376f0",
   "metadata": {},
   "outputs": [],
   "source": []
  }
 ],
 "metadata": {
  "kernelspec": {
   "display_name": "Python 3",
   "language": "python",
   "name": "python3"
  },
  "language_info": {
   "codemirror_mode": {
    "name": "ipython",
    "version": 3
   },
   "file_extension": ".py",
   "mimetype": "text/x-python",
   "name": "python",
   "nbconvert_exporter": "python",
   "pygments_lexer": "ipython3",
   "version": "3.9.12"
  }
 },
 "nbformat": 4,
 "nbformat_minor": 5
}
