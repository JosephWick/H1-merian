{
 "cells": [
  {
   "cell_type": "markdown",
   "id": "1ef55950",
   "metadata": {},
   "source": [
    "Checking if our halfmass radii seem reasonable by overplotting them on a image"
   ]
  },
  {
   "cell_type": "code",
   "execution_count": 1,
   "id": "4ffdbc63",
   "metadata": {},
   "outputs": [],
   "source": [
    "import pynbody\n",
    "import numpy as np \n",
    "import pynbody.plot.sph as sph\n",
    "import matplotlib.pyplot as plt\n",
    "\n",
    "import glob\n",
    "\n",
    "import sys \n",
    "sys.path.insert(0, '/home/jw1624/H1-merian/util/')\n",
    "from util import util"
   ]
  },
  {
   "cell_type": "code",
   "execution_count": 2,
   "id": "4936ea0c",
   "metadata": {},
   "outputs": [],
   "source": [
    "def halfMassRadius_bisect(sim, outerR, acc, maxiter=100000):\n",
    "    innerLim = 0.0\n",
    "    outerLim = outerR\n",
    "\n",
    "    pRadii = np.array(sim.s['r'].in_units('kpc'))\n",
    "    pMass = np.array(sim.s['mass'])\n",
    "    mTot = sum(pMass)\n",
    "\n",
    "    r = outerR/2\n",
    "    hm = sum(pMass[pRadii < r])\n",
    "    n=0\n",
    "    while(hm < (0.5-acc)*mTot or hm > (0.5+acc)*mTot):\n",
    "        if hm > 0.5*mTot: # too big, decrease r\n",
    "            outerLim = r\n",
    "            r = innerLim + (outerLim-innerLim)/2\n",
    "        elif hm < 0.5*mTot: # too small increase r\n",
    "            innerLim = r\n",
    "            r = innerLim + (outerLim-innerLim)/2\n",
    "        hm = sum(pMass[pRadii < r])\n",
    "\n",
    "        n += 1\n",
    "        if n>maxiter:\n",
    "            return -1\n",
    "            break\n",
    "\n",
    "    return r"
   ]
  },
  {
   "cell_type": "markdown",
   "id": "b4890656",
   "metadata": {},
   "source": [
    "## Images"
   ]
  },
  {
   "cell_type": "code",
   "execution_count": 3,
   "id": "5e6527d7",
   "metadata": {},
   "outputs": [],
   "source": [
    "# image function\n",
    "def makeStarImage(hID, ts=0, width=20, sidm=0):\n",
    "    baseDir = '/data/REPOSITORY/e11Gals/romulus_dwarf_zooms'\n",
    "    galDir = baseDir+ '/r' + str(hID)+'.romulus25.3072g1HsbBH'\n",
    "\n",
    "    timesteps = glob.glob(galDir+'/r*.romulus25.3072g1HsbBH.0*')\n",
    "    timesteps.sort(reverse=True)\n",
    "\n",
    "    f = glob.glob(timesteps[ts]+'/r*.00'+timesteps[ts][-4:])[0]\n",
    "    \n",
    "    v_disp = -1\n",
    "\n",
    "    fig, ax = plt.subplots(1,1, figsize=(8,8), facecolor='w')\n",
    "\n",
    "    s = pynbody.load(f)\n",
    "    s.physical_units()\n",
    "\n",
    "    h = s.halos()\n",
    "    v_disp = np.median(np.array(h[1].g['v_disp']))\n",
    "\n",
    "    # center on the largest halo and align the disk\n",
    "    pynbody.analysis.angmom.faceon(h[1])\n",
    "    im = pynbody.plot.stars.render(s, width=str(width)+' kpc', plot=False, ret_im=True)\n",
    "    \n",
    "    pxlwid = len(im[0])\n",
    "    pxlKpcRatio = pxlwid/width\n",
    "    \n",
    "    tag = 'CDM'\n",
    "    if sidm: tag = 'SIDM'\n",
    "    plt.title('r'+str(hID) + ' '+tag, fontsize=20, fontfamily='serif')\n",
    "\n",
    "    # find radius and plot as circle\n",
    "    hmr = halfMassRadius_bisect(s, width, 0.01)\n",
    "    print(hmr)\n",
    "    \n",
    "    circle = plt.Circle((pxlwid/2,pxlwid/2), hmr*pxlKpcRatio, edgecolor='g', linewidth=3, fill=False)\n",
    "    \n",
    "    ax.imshow(im)\n",
    "    ax.add_patch(circle)\n",
    "    \n",
    "    plt.tight_layout()"
   ]
  },
  {
   "cell_type": "code",
   "execution_count": 4,
   "id": "83787679",
   "metadata": {},
   "outputs": [],
   "source": [
    "currentGals = util.getGalaxies()[0]"
   ]
  },
  {
   "cell_type": "code",
   "execution_count": null,
   "id": "7d15ef57",
   "metadata": {},
   "outputs": [],
   "source": [
    "makeStarImage(currentGals[2], 0)"
   ]
  },
  {
   "cell_type": "code",
   "execution_count": null,
   "id": "11fbce60",
   "metadata": {},
   "outputs": [],
   "source": []
  }
 ],
 "metadata": {
  "kernelspec": {
   "display_name": "Python 3",
   "language": "python",
   "name": "python3"
  },
  "language_info": {
   "codemirror_mode": {
    "name": "ipython",
    "version": 3
   },
   "file_extension": ".py",
   "mimetype": "text/x-python",
   "name": "python",
   "nbconvert_exporter": "python",
   "pygments_lexer": "ipython3",
   "version": "3.9.12"
  }
 },
 "nbformat": 4,
 "nbformat_minor": 5
}
