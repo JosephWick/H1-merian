{
 "cells": [
  {
   "cell_type": "markdown",
   "id": "1ef55950",
   "metadata": {},
   "source": [
    "Checking if our halfmass radii seem reasonable by overplotting them on a image"
   ]
  },
  {
   "cell_type": "code",
   "execution_count": 9,
   "id": "4ffdbc63",
   "metadata": {},
   "outputs": [],
   "source": [
    "import pynbody\n",
    "import numpy as np \n",
    "import pynbody.plot.sph as sph\n",
    "import matplotlib.pyplot as plt\n",
    "\n",
    "import glob\n",
    "\n",
    "import sys \n",
    "sys.path.insert(0, '/home/jw1624/H1-merian/util/')\n",
    "from util import util"
   ]
  },
  {
   "cell_type": "code",
   "execution_count": 10,
   "id": "4936ea0c",
   "metadata": {},
   "outputs": [],
   "source": [
    "def halfMassRadius_bisect(sim, outerR, acc, maxiter=100000):\n",
    "    innerLim = 0.0\n",
    "    outerLim = outerR\n",
    "\n",
    "    pRadii = np.array(sim.s['r'].in_units('kpc'))\n",
    "    pMass = np.array(sim.s['mass'])\n",
    "    mTot = sum(pMass)\n",
    "\n",
    "    r = outerR/2\n",
    "    hm = sum(pMass[pRadii < r])\n",
    "    n=0\n",
    "    while(hm < (0.5-acc)*mTot or hm > (0.5+acc)*mTot):\n",
    "        if hm > 0.5*mTot: # too big, decrease r\n",
    "            outerLim = r\n",
    "            r = innerLim + (outerLim-innerLim)/2\n",
    "        elif hm < 0.5*mTot: # too small increase r\n",
    "            innerLim = r\n",
    "            r = innerLim + (outerLim-innerLim)/2\n",
    "        hm = sum(pMass[pRadii < r])\n",
    "\n",
    "        n += 1\n",
    "        if n>maxiter:\n",
    "            return -1\n",
    "            break\n",
    "\n",
    "    return r"
   ]
  },
  {
   "cell_type": "markdown",
   "id": "a798e7e6",
   "metadata": {},
   "source": [
    "## Code Testing"
   ]
  },
  {
   "cell_type": "code",
   "execution_count": null,
   "id": "c2cb01d9",
   "metadata": {},
   "outputs": [],
   "source": []
  },
  {
   "cell_type": "markdown",
   "id": "b4890656",
   "metadata": {},
   "source": [
    "## Images"
   ]
  },
  {
   "cell_type": "code",
   "execution_count": 35,
   "id": "5e6527d7",
   "metadata": {},
   "outputs": [],
   "source": [
    "# image function\n",
    "def makeStarImage(hID, ts=0, width=20, sidm=0):\n",
    "    baseDir = '/data/REPOSITORY/e11Gals/romulus_dwarf_zooms'\n",
    "    galDir = baseDir+ '/r' + str(hID)+'.romulus25.3072g1HsbBH'\n",
    "\n",
    "    timesteps = glob.glob(galDir+'/r*.romulus25.3072g1HsbBH.0*')\n",
    "    timesteps.sort(reverse=True)\n",
    "\n",
    "    f = glob.glob(timesteps[ts]+'/r*.00'+timesteps[ts][-4:])[0]\n",
    "    \n",
    "    v_disp = -1\n",
    "\n",
    "    fig, ax = plt.subplots(1,1, figsize=(8,8), facecolor='w')\n",
    "\n",
    "    s = pynbody.load(f)\n",
    "    s.physical_units()\n",
    "\n",
    "    h = s.halos()\n",
    "    v_disp = np.median(np.array(h[1].g['v_disp']))\n",
    "\n",
    "    # center on the largest halo and align the disk\n",
    "    pynbody.analysis.angmom.faceon(h[1])\n",
    "    im = pynbody.plot.stars.render(s, width=str(width)+' kpc', plot=False, ret_im=True)\n",
    "    \n",
    "    pxlwid = len(im[0])\n",
    "    pxlKpcRatio = pxlwid/width\n",
    "    \n",
    "    tag = 'CDM'\n",
    "    if sidm: tag = 'SIDM'\n",
    "    plt.title('r'+str(hID) + ' '+tag, fontsize=20, fontfamily='serif')\n",
    "\n",
    "    # find radius and plot as circle\n",
    "    hmr = halfMassRadius_bisect(s, width, 0.01)\n",
    "    print(hmr)\n",
    "    \n",
    "    circle = plt.Circle((pxlwid/2,pxlwid/2), hmr*pxlKpcRatio, edgecolor='g', linewidth=3, fill=False)\n",
    "    \n",
    "    ax.imshow(im)\n",
    "    ax.add_patch(circle)\n",
    "    \n",
    "    plt.tight_layout()"
   ]
  },
  {
   "cell_type": "code",
   "execution_count": 36,
   "id": "83787679",
   "metadata": {},
   "outputs": [],
   "source": [
    "currentGals = util.getGalaxies()[0]"
   ]
  },
  {
   "cell_type": "code",
   "execution_count": 37,
   "id": "7d15ef57",
   "metadata": {},
   "outputs": [
    {
     "name": "stderr",
     "output_type": "stream",
     "text": [
      "/home/jw1624/miniconda3/lib/python3.9/site-packages/pynbody/halo/ahf.py:673: UserWarning: Did not find a suitable AHF halo catalogue file -- will attempt to run AHF to generate one or fallback to other halo catalogues\n",
      "  warnings.warn(\"Did not find a suitable AHF halo catalogue file -- will attempt to run AHF to generate one or fallback to other halo catalogues\")\n"
     ]
    },
    {
     "ename": "RuntimeError",
     "evalue": "No halo catalogue found for '<SimSnap \"/data/REPOSITORY/e11Gals/romulus_dwarf_zooms/r442.romulus25.3072g1HsbBH/r442.romulus25.3072g1HsbBH.004032/r442.romulus25.3072g1HsbBH.004032\" len=25700059>'",
     "output_type": "error",
     "traceback": [
      "\u001b[0;31m---------------------------------------------------------------------------\u001b[0m",
      "\u001b[0;31mRuntimeError\u001b[0m                              Traceback (most recent call last)",
      "Cell \u001b[0;32mIn[37], line 1\u001b[0m\n\u001b[0;32m----> 1\u001b[0m \u001b[43mmakeStarImage\u001b[49m\u001b[43m(\u001b[49m\u001b[43mcurrentGals\u001b[49m\u001b[43m[\u001b[49m\u001b[38;5;241;43m1\u001b[39;49m\u001b[43m]\u001b[49m\u001b[43m,\u001b[49m\u001b[43m \u001b[49m\u001b[38;5;241;43m1\u001b[39;49m\u001b[43m)\u001b[49m\n",
      "Cell \u001b[0;32mIn[35], line 18\u001b[0m, in \u001b[0;36mmakeStarImage\u001b[0;34m(hID, ts, width, sidm)\u001b[0m\n\u001b[1;32m     15\u001b[0m s \u001b[38;5;241m=\u001b[39m pynbody\u001b[38;5;241m.\u001b[39mload(f)\n\u001b[1;32m     16\u001b[0m s\u001b[38;5;241m.\u001b[39mphysical_units()\n\u001b[0;32m---> 18\u001b[0m h \u001b[38;5;241m=\u001b[39m \u001b[43ms\u001b[49m\u001b[38;5;241;43m.\u001b[39;49m\u001b[43mhalos\u001b[49m\u001b[43m(\u001b[49m\u001b[43m)\u001b[49m\n\u001b[1;32m     19\u001b[0m v_disp \u001b[38;5;241m=\u001b[39m np\u001b[38;5;241m.\u001b[39mmedian(np\u001b[38;5;241m.\u001b[39marray(h[\u001b[38;5;241m1\u001b[39m]\u001b[38;5;241m.\u001b[39mg[\u001b[38;5;124m'\u001b[39m\u001b[38;5;124mv_disp\u001b[39m\u001b[38;5;124m'\u001b[39m]))\n\u001b[1;32m     21\u001b[0m \u001b[38;5;66;03m# center on the largest halo and align the disk\u001b[39;00m\n",
      "File \u001b[0;32m~/miniconda3/lib/python3.9/site-packages/pynbody/snapshot/__init__.py:788\u001b[0m, in \u001b[0;36mSimSnap.halos\u001b[0;34m(self, *args, **kwargs)\u001b[0m\n\u001b[1;32m    785\u001b[0m     \u001b[38;5;28;01mexcept\u001b[39;00m \u001b[38;5;167;01mTypeError\u001b[39;00m:\n\u001b[1;32m    786\u001b[0m         \u001b[38;5;28;01mpass\u001b[39;00m\n\u001b[0;32m--> 788\u001b[0m \u001b[38;5;28;01mraise\u001b[39;00m \u001b[38;5;167;01mRuntimeError\u001b[39;00m(\u001b[38;5;124m\"\u001b[39m\u001b[38;5;124mNo halo catalogue found for \u001b[39m\u001b[38;5;132;01m%r\u001b[39;00m\u001b[38;5;124m\"\u001b[39m \u001b[38;5;241m%\u001b[39m \u001b[38;5;28mstr\u001b[39m(\u001b[38;5;28mself\u001b[39m))\n",
      "\u001b[0;31mRuntimeError\u001b[0m: No halo catalogue found for '<SimSnap \"/data/REPOSITORY/e11Gals/romulus_dwarf_zooms/r442.romulus25.3072g1HsbBH/r442.romulus25.3072g1HsbBH.004032/r442.romulus25.3072g1HsbBH.004032\" len=25700059>'"
     ]
    },
    {
     "data": {
      "image/png": "[encoded data removed]",
      "text/plain": [
       "<Figure size 576x576 with 1 Axes>"
      ]
     },
     "metadata": {},
     "output_type": "display_data"
    }
   ],
   "source": [
    "makeStarImage(currentGals[1], 1)"
   ]
  },
  {
   "cell_type": "code",
   "execution_count": null,
   "id": "11fbce60",
   "metadata": {},
   "outputs": [],
   "source": []
  }
 ],
 "metadata": {
  "kernelspec": {
   "display_name": "Python 3",
   "language": "python",
   "name": "python3"
  },
  "language_info": {
   "codemirror_mode": {
    "name": "ipython",
    "version": 3
   },
   "file_extension": ".py",
   "mimetype": "text/x-python",
   "name": "python",
   "nbconvert_exporter": "python",
   "pygments_lexer": "ipython3",
   "version": "3.9.12"
  }
 },
 "nbformat": 4,
 "nbformat_minor": 5
}
