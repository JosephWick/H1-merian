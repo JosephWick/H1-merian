{
 "cells": [
  {
   "cell_type": "code",
   "execution_count": 1,
   "id": "ac9d6862",
   "metadata": {},
   "outputs": [],
   "source": [
    "import pynbody\n",
    "import glob\n",
    "\n",
    "import numpy as np\n",
    "\n",
    "import matplotlib.pyplot as plt\n",
    "\n",
    "import sys\n",
    "sys.path.insert(0, '../util/')\n",
    "from util import util"
   ]
  },
  {
   "cell_type": "markdown",
   "id": "4cf3a7e7",
   "metadata": {},
   "source": [
    "## Get Our Galaxies"
   ]
  },
  {
   "cell_type": "code",
   "execution_count": 2,
   "id": "972e1db2",
   "metadata": {},
   "outputs": [],
   "source": [
    "currentGals = util.getGalaxies()[0]"
   ]
  },
  {
   "cell_type": "markdown",
   "id": "2aaab180",
   "metadata": {},
   "source": [
    "## Lookback Time and Redshift"
   ]
  },
  {
   "cell_type": "code",
   "execution_count": 4,
   "id": "632fbc88",
   "metadata": {},
   "outputs": [],
   "source": [
    "gal = currentGals[1]\n",
    "cdmFile = util.getfilepath(gal)[0]+ '/r'+str(gal)+'.romulus25.3072g1HsbBH.004096'\n",
    "\n",
    "# tmp \n",
    "#cdmFile = '/data/REPOSITORY/e11Gals/romulus_dwarf_zooms/r468.romulus25.3072g1HsbBH/'\n",
    "#cdmFile += 'r468.romulus25.3072g1HsbBH.003936/r468.romulus25.3072g1HsbBH.003936'\n",
    "\n",
    "sCDM = pynbody.load(cdmFile)\n",
    "sCDM.physical_units()\n",
    "\n",
    "vdisp = sCDM.g['v_disp']\n",
    "\n",
    "hCDM = sCDM.halos(write_fpos=False)[1]\n",
    "\n",
    "pynbody.analysis.angmom.faceon(hCDM)\n",
    "\n",
    "cen_pot = pynbody.analysis.halo.center(hCDM, mode='pot', retcen=True)\n",
    "sCDM['pos'] -= cen_pot"
   ]
  },
  {
   "cell_type": "code",
   "execution_count": 6,
   "id": "63fb641a",
   "metadata": {},
   "outputs": [],
   "source": [
    "#sCDM.properties['boxsize'] = 2.5e4"
   ]
  },
  {
   "cell_type": "code",
   "execution_count": 7,
   "id": "f41e2521",
   "metadata": {},
   "outputs": [
    {
     "data": {
      "text/plain": [
       "Unit(\"2.50e+04 kpc\")"
      ]
     },
     "execution_count": 7,
     "metadata": {},
     "output_type": "execute_result"
    }
   ],
   "source": [
    "sCDM.properties['boxsize']"
   ]
  },
  {
   "cell_type": "code",
   "execution_count": 8,
   "id": "d766a458",
   "metadata": {},
   "outputs": [
    {
     "data": {
      "text/plain": [
       "13.800820457603765"
      ]
     },
     "execution_count": 8,
     "metadata": {},
     "output_type": "execute_result"
    }
   ],
   "source": [
    "pynbody.analysis.cosmology.age(sCDM)"
   ]
  },
  {
   "cell_type": "markdown",
   "id": "0eb75ce9",
   "metadata": {},
   "source": [
    "## Half Mass Radius (Stellar Mass)\n",
    "\n",
    "Call the function twice for an accurate measurement. First with coarse steps and low accuracy and then again with finer steps and accuracy using 90% of the first measurement as a starting point"
   ]
  },
  {
   "cell_type": "code",
   "execution_count": 4,
   "id": "16eed9a3",
   "metadata": {},
   "outputs": [],
   "source": [
    "# input: a simulation \n",
    "# output: half mass radius of that simulation\n",
    "def halfMassRadius(sim, startR, incBy, acc):\n",
    "    pRadii = np.array(sim.s['r'])\n",
    "    pMass = np.array(sim.s['mass'])\n",
    "    mTot = sum(pMass)\n",
    "    \n",
    "    # start at 5 kpc and increment\n",
    "    r = startR-incBy\n",
    "    hm = mTot\n",
    "    while(hm < (0.50-acc)*mTot or hm > (0.5+acc)*mTot):\n",
    "        r += incBy\n",
    "        hm = sum(pMass[pRadii < r])\n",
    "        \n",
    "        if (r>max(pRadii)):\n",
    "            return -1\n",
    "        \n",
    "    return r"
   ]
  },
  {
   "cell_type": "code",
   "execution_count": 5,
   "id": "45362498",
   "metadata": {},
   "outputs": [
    {
     "data": {
      "text/plain": [
       "3"
      ]
     },
     "execution_count": 5,
     "metadata": {},
     "output_type": "execute_result"
    }
   ],
   "source": [
    "halfMassRadius(sCDM, 0, 1, 0.1)"
   ]
  },
  {
   "cell_type": "code",
   "execution_count": 9,
   "id": "d1b043dd",
   "metadata": {},
   "outputs": [
    {
     "data": {
      "text/plain": [
       "2.849999999999997"
      ]
     },
     "execution_count": 9,
     "metadata": {},
     "output_type": "execute_result"
    }
   ],
   "source": [
    "halfMassRadius(sCDM,2,0.05,0.01)"
   ]
  },
  {
   "cell_type": "code",
   "execution_count": 6,
   "id": "47dc0888",
   "metadata": {},
   "outputs": [],
   "source": [
    "def halfMassRadius_bisect(sim, outerR, acc):\n",
    "    innerLim = 0.0\n",
    "    outerLim = outerR\n",
    "    guessR = 0.0\n",
    "\n",
    "    pRadii = np.array(sim.s['r'])\n",
    "    pMass = np.array(sim.s['mass'])\n",
    "    mTot = sum(pMass)\n",
    "\n",
    "    r = outerR\n",
    "    hm = mTot\n",
    "    while(hm < (0.50-acc)*mTot or hm > (0.5+acc)*mTot):\n",
    "        if hm > 0.5*mTot:\n",
    "            outerLim = r\n",
    "            r = innerLim + (outerLim-innerLim)/2\n",
    "        if hm < 0.5*mTot:\n",
    "            innerLim = r\n",
    "            r = innerLim + (outerLim-innerLim)/2\n",
    "        hm = sum(pMass[pRadii < r])\n",
    "\n",
    "    return r"
   ]
  },
  {
   "cell_type": "code",
   "execution_count": 12,
   "id": "13bbbc77",
   "metadata": {},
   "outputs": [
    {
     "data": {
      "text/plain": [
       "2.9052734375"
      ]
     },
     "execution_count": 12,
     "metadata": {},
     "output_type": "execute_result"
    }
   ],
   "source": [
    "halfMassRadius_bisect(sCDM,100,0.001)"
   ]
  },
  {
   "cell_type": "code",
   "execution_count": 16,
   "id": "fdf76ceb",
   "metadata": {
    "scrolled": false
   },
   "outputs": [
    {
     "data": {
      "text/plain": [
       "SimArray([[  65.63792589,   13.30896193,  -43.46616412],\n",
       "          [  14.4127238 ,   -5.42542935,  -21.1465444 ],\n",
       "          [  30.21906607,    5.52502769,   16.57051852],\n",
       "          ...,\n",
       "          [-107.88541766,    8.87287087,    7.71992681],\n",
       "          [ -21.97960799,  -86.69778089,   -4.84913249],\n",
       "          [ -22.97036113,  -78.56799526,   -2.0968231 ]], 'km s**-1')"
      ]
     },
     "execution_count": 16,
     "metadata": {},
     "output_type": "execute_result"
    }
   ],
   "source": [
    "sCDM.s['vel']"
   ]
  },
  {
   "cell_type": "markdown",
   "id": "508a811a",
   "metadata": {},
   "source": [
    "## Manual V disp "
   ]
  },
  {
   "cell_type": "code",
   "execution_count": 10,
   "id": "d62e8721",
   "metadata": {},
   "outputs": [],
   "source": [
    "def compute_vdisp(velocities, masses):\n",
    "    center_of_mass_velocity = np.sum(velocities * masses[:, None], axis=0) / np.sum(masses)\n",
    "    velocity_differences = velocities - center_of_mass_velocity\n",
    "    velocity_differences_squared = np.sum(velocity_differences**2, axis=1)\n",
    "    mass_weighted_dispersion = np.sqrt(np.sum(velocity_differences_squared * masses) / np.sum(masses))\n",
    "    return mass_weighted_dispersion"
   ]
  },
  {
   "cell_type": "code",
   "execution_count": 18,
   "id": "0f356cbd",
   "metadata": {},
   "outputs": [
    {
     "data": {
      "text/plain": [
       "SimArray(78.16533158, 'km s**-1')"
      ]
     },
     "execution_count": 18,
     "metadata": {},
     "output_type": "execute_result"
    }
   ],
   "source": [
    "compute_vdisp(sCDM.s['vel'], sCDM.s['mass'])"
   ]
  },
  {
   "cell_type": "markdown",
   "id": "8f1482a0",
   "metadata": {},
   "source": [
    "### V disp of cold gas (T < 1000K)"
   ]
  },
  {
   "cell_type": "code",
   "execution_count": 14,
   "id": "439c05ff",
   "metadata": {},
   "outputs": [
    {
     "data": {
      "text/plain": [
       "SimArray(57.04085245, 'km s**-1')"
      ]
     },
     "execution_count": 14,
     "metadata": {},
     "output_type": "execute_result"
    }
   ],
   "source": [
    "coldgasVel = sCDM.g['vel']\n",
    "coldgasMass= sCDM.g['mass']\n",
    "\n",
    "mask = sCDM.g['temp']<=1000\n",
    "\n",
    "coldgasVel = coldgasVel[mask]\n",
    "coldgasMass= coldgasMass[mask]\n",
    "\n",
    "compute_vdisp(coldgasVel, coldgasMass)"
   ]
  },
  {
   "cell_type": "code",
   "execution_count": 7,
   "id": "3a932dc6",
   "metadata": {},
   "outputs": [
    {
     "data": {
      "text/plain": [
       "SimArray([212.44827271, 428.86395264, 957.68774414, ...,  38.43917084,\n",
       "           38.46290588,  38.44889832], 'K')"
      ]
     },
     "execution_count": 7,
     "metadata": {},
     "output_type": "execute_result"
    }
   ],
   "source": [
    "sCDM.g['temp'][sCDM.g['temp']<=1000]"
   ]
  },
  {
   "cell_type": "code",
   "execution_count": 5,
   "id": "a372918b",
   "metadata": {},
   "outputs": [
    {
     "data": {
      "text/plain": [
       "['HII',\n",
       " 'HeIII',\n",
       " 'ne',\n",
       " 'hetot',\n",
       " 'hydrogen',\n",
       " 'feh',\n",
       " 'oxh',\n",
       " 'ofe',\n",
       " 'mgfe',\n",
       " 'nefe',\n",
       " 'sife',\n",
       " 'c_s',\n",
       " 'c_s_turb',\n",
       " 'mjeans',\n",
       " 'mjeans_turb',\n",
       " 'ljeans',\n",
       " 'ljeans_turb',\n",
       " 'r',\n",
       " 'rxy',\n",
       " 'vr',\n",
       " 'v2',\n",
       " 'vt',\n",
       " 'ke',\n",
       " 'te',\n",
       " 'j',\n",
       " 'j2',\n",
       " 'jz',\n",
       " 'vrxy',\n",
       " 'vcxy',\n",
       " 'vphi',\n",
       " 'vtheta',\n",
       " 'v_mean',\n",
       " 'v_disp',\n",
       " 'v_curl',\n",
       " 'vorticity',\n",
       " 'v_div',\n",
       " 'age',\n",
       " 'u_mag',\n",
       " 'u_lum_den',\n",
       " 'b_mag',\n",
       " 'b_lum_den',\n",
       " 'v_mag',\n",
       " 'v_lum_den',\n",
       " 'r_mag',\n",
       " 'r_lum_den',\n",
       " 'i_mag',\n",
       " 'i_lum_den',\n",
       " 'j_mag',\n",
       " 'j_lum_den',\n",
       " 'h_mag',\n",
       " 'h_lum_den',\n",
       " 'k_mag',\n",
       " 'k_lum_den',\n",
       " 'U_mag',\n",
       " 'U_lum_den',\n",
       " 'B_mag',\n",
       " 'B_lum_den',\n",
       " 'V_mag',\n",
       " 'V_lum_den',\n",
       " 'R_mag',\n",
       " 'R_lum_den',\n",
       " 'I_mag',\n",
       " 'I_lum_den',\n",
       " 'J_mag',\n",
       " 'J_lum_den',\n",
       " 'H_mag',\n",
       " 'H_lum_den',\n",
       " 'K_mag',\n",
       " 'K_lum_den',\n",
       " 'theta',\n",
       " 'alt',\n",
       " 'az',\n",
       " 'cs',\n",
       " 'mu',\n",
       " 'p',\n",
       " 'u',\n",
       " 'temp',\n",
       " 'zeldovich_offset',\n",
       " 'aform',\n",
       " 'tform',\n",
       " 'iord_argsort',\n",
       " 'smooth',\n",
       " 'rho',\n",
       " 'phi',\n",
       " 'mass',\n",
       " 'eps',\n",
       " 'amiga.grp',\n",
       " 'vel',\n",
       " 'pos']"
      ]
     },
     "execution_count": 5,
     "metadata": {},
     "output_type": "execute_result"
    }
   ],
   "source": [
    "sCDM.all_keys()"
   ]
  },
  {
   "cell_type": "code",
   "execution_count": null,
   "id": "f097eac8",
   "metadata": {},
   "outputs": [],
   "source": [
    "sCDM.g['']"
   ]
  },
  {
   "cell_type": "markdown",
   "id": "90c58951",
   "metadata": {},
   "source": [
    "## sigma_gas\n",
    "From Hirtenstein (2019): HII regions within 100 PC of young stars (10MYR); calculate density weghted dispersion. Median over 100 lines of sight "
   ]
  },
  {
   "cell_type": "code",
   "execution_count": 15,
   "id": "f3048ffc",
   "metadata": {},
   "outputs": [
    {
     "data": {
      "text/plain": [
       "['HII',\n",
       " 'HeIII',\n",
       " 'ne',\n",
       " 'hetot',\n",
       " 'hydrogen',\n",
       " 'feh',\n",
       " 'oxh',\n",
       " 'ofe',\n",
       " 'mgfe',\n",
       " 'nefe',\n",
       " 'sife',\n",
       " 'c_s',\n",
       " 'c_s_turb',\n",
       " 'mjeans',\n",
       " 'mjeans_turb',\n",
       " 'ljeans',\n",
       " 'ljeans_turb',\n",
       " 'r',\n",
       " 'rxy',\n",
       " 'vr',\n",
       " 'v2',\n",
       " 'vt',\n",
       " 'ke',\n",
       " 'te',\n",
       " 'j',\n",
       " 'j2',\n",
       " 'jz',\n",
       " 'vrxy',\n",
       " 'vcxy',\n",
       " 'vphi',\n",
       " 'vtheta',\n",
       " 'v_mean',\n",
       " 'v_disp',\n",
       " 'v_curl',\n",
       " 'vorticity',\n",
       " 'v_div',\n",
       " 'age',\n",
       " 'u_mag',\n",
       " 'u_lum_den',\n",
       " 'b_mag',\n",
       " 'b_lum_den',\n",
       " 'v_mag',\n",
       " 'v_lum_den',\n",
       " 'r_mag',\n",
       " 'r_lum_den',\n",
       " 'i_mag',\n",
       " 'i_lum_den',\n",
       " 'j_mag',\n",
       " 'j_lum_den',\n",
       " 'h_mag',\n",
       " 'h_lum_den',\n",
       " 'k_mag',\n",
       " 'k_lum_den',\n",
       " 'U_mag',\n",
       " 'U_lum_den',\n",
       " 'B_mag',\n",
       " 'B_lum_den',\n",
       " 'V_mag',\n",
       " 'V_lum_den',\n",
       " 'R_mag',\n",
       " 'R_lum_den',\n",
       " 'I_mag',\n",
       " 'I_lum_den',\n",
       " 'J_mag',\n",
       " 'J_lum_den',\n",
       " 'H_mag',\n",
       " 'H_lum_den',\n",
       " 'K_mag',\n",
       " 'K_lum_den',\n",
       " 'theta',\n",
       " 'alt',\n",
       " 'az',\n",
       " 'cs',\n",
       " 'mu',\n",
       " 'p',\n",
       " 'u',\n",
       " 'temp',\n",
       " 'zeldovich_offset',\n",
       " 'aform',\n",
       " 'tform',\n",
       " 'iord_argsort',\n",
       " 'smooth',\n",
       " 'rho',\n",
       " 'den',\n",
       " 'vel',\n",
       " 'H2',\n",
       " 'smoothlength',\n",
       " 'phi',\n",
       " 'HI',\n",
       " 'igasorder',\n",
       " 'massHot',\n",
       " 'c',\n",
       " 'tempEff',\n",
       " 'OxMassFrac',\n",
       " 'u',\n",
       " 'FeMassFrac',\n",
       " 'HeII',\n",
       " 'OxMassFracdot',\n",
       " 'rung',\n",
       " 'amiga.grp',\n",
       " 'ESNRate',\n",
       " 'iord',\n",
       " 'Metalsdot',\n",
       " 'mass',\n",
       " 'uHot',\n",
       " 'eps',\n",
       " 'massform',\n",
       " 'coolontime',\n",
       " 'lw',\n",
       " 'HeI',\n",
       " 'FeMassFracdot',\n",
       " 'pos']"
      ]
     },
     "execution_count": 15,
     "metadata": {},
     "output_type": "execute_result"
    }
   ],
   "source": [
    "sCDM.all_keys()"
   ]
  },
  {
   "cell_type": "code",
   "execution_count": 9,
   "id": "4478d681",
   "metadata": {},
   "outputs": [
    {
     "data": {
      "text/plain": [
       "SimArray([5.e-13, 5.e-13, 5.e-13, ..., 0.e+00, 0.e+00, 0.e+00],\n",
       "         dtype=float32)"
      ]
     },
     "execution_count": 9,
     "metadata": {},
     "output_type": "execute_result"
    }
   ],
   "source": [
    "sCDM['H2']"
   ]
  },
  {
   "cell_type": "code",
   "execution_count": 10,
   "id": "73557288",
   "metadata": {},
   "outputs": [
    {
     "data": {
      "text/plain": [
       "SimArray([[ 1.64062444e+03, -1.74213870e+03, -1.65957617e+03],\n",
       "          [ 4.42786370e+02, -1.02821935e+03, -1.35912648e+03],\n",
       "          [ 6.19598084e+02, -1.04668156e+03, -8.57752596e+02],\n",
       "          ...,\n",
       "          [-1.60686801e+00,  8.04683085e+00, -9.32106562e-01],\n",
       "          [-8.96595639e+00,  2.03968476e+00, -6.31504702e-01],\n",
       "          [-9.64827340e+00,  1.61920923e+00,  3.14472328e-01]], 'kpc')"
      ]
     },
     "execution_count": 10,
     "metadata": {},
     "output_type": "execute_result"
    }
   ],
   "source": [
    "sCDM['pos']"
   ]
  },
  {
   "cell_type": "code",
   "execution_count": 11,
   "id": "0d59b7db",
   "metadata": {},
   "outputs": [
    {
     "data": {
      "text/plain": [
       "2772"
      ]
     },
     "execution_count": 11,
     "metadata": {},
     "output_type": "execute_result"
    }
   ],
   "source": [
    "len(sCDM.s['pos'][sCDM.s['age'].in_units('Myr')<10])"
   ]
  },
  {
   "cell_type": "code",
   "execution_count": 12,
   "id": "22e685f5",
   "metadata": {},
   "outputs": [],
   "source": [
    "youngstarPos = sCDM.s['pos'][sCDM.s['age'].in_units('Myr')<10]\n",
    "HIIpos = sCDM.g['pos']"
   ]
  },
  {
   "cell_type": "code",
   "execution_count": 13,
   "id": "52e00b5d",
   "metadata": {},
   "outputs": [
    {
     "data": {
      "text/plain": [
       "SimArray([ 7.63956096e-01,  7.63957387e-01,  7.63991614e-01, ...,\n",
       "          -1.73698522e-09,  5.29173979e-01, -1.57068238e-08])"
      ]
     },
     "execution_count": 13,
     "metadata": {},
     "output_type": "execute_result"
    }
   ],
   "source": [
    "pynbody.snapshot.tipsy.HII(sCDM.g)"
   ]
  },
  {
   "cell_type": "code",
   "execution_count": 14,
   "id": "6e16fae0",
   "metadata": {
    "collapsed": true
   },
   "outputs": [
    {
     "ename": "KeyboardInterrupt",
     "evalue": "",
     "output_type": "error",
     "traceback": [
      "\u001b[0;31m---------------------------------------------------------------------------\u001b[0m",
      "\u001b[0;31mKeyboardInterrupt\u001b[0m                         Traceback (most recent call last)",
      "Cell \u001b[0;32mIn[14], line 23\u001b[0m\n\u001b[1;32m     20\u001b[0m y \u001b[38;5;241m=\u001b[39m y[\u001b[38;5;28mabs\u001b[39m(z)\u001b[38;5;241m<\u001b[39mposlim]\n\u001b[1;32m     21\u001b[0m z \u001b[38;5;241m=\u001b[39m z[\u001b[38;5;28mabs\u001b[39m(z)\u001b[38;5;241m<\u001b[39mposlim]\n\u001b[0;32m---> 23\u001b[0m trc \u001b[38;5;241m=\u001b[39m \u001b[43mplt\u001b[49m\u001b[38;5;241;43m.\u001b[39;49m\u001b[43mtricontour\u001b[49m\u001b[43m(\u001b[49m\u001b[43mx\u001b[49m\u001b[43m,\u001b[49m\u001b[43my\u001b[49m\u001b[43m,\u001b[49m\u001b[43mhii\u001b[49m\u001b[43m)\u001b[49m\n\u001b[1;32m     24\u001b[0m plt\u001b[38;5;241m.\u001b[39mcolorbar()\n",
      "File \u001b[0;32m~/miniconda3/lib/python3.9/site-packages/matplotlib/pyplot.py:2936\u001b[0m, in \u001b[0;36mtricontour\u001b[0;34m(*args, **kwargs)\u001b[0m\n\u001b[1;32m   2934\u001b[0m \u001b[38;5;129m@_copy_docstring_and_deprecators\u001b[39m(Axes\u001b[38;5;241m.\u001b[39mtricontour)\n\u001b[1;32m   2935\u001b[0m \u001b[38;5;28;01mdef\u001b[39;00m \u001b[38;5;21mtricontour\u001b[39m(\u001b[38;5;241m*\u001b[39margs, \u001b[38;5;241m*\u001b[39m\u001b[38;5;241m*\u001b[39mkwargs):\n\u001b[0;32m-> 2936\u001b[0m     __ret \u001b[38;5;241m=\u001b[39m \u001b[43mgca\u001b[49m\u001b[43m(\u001b[49m\u001b[43m)\u001b[49m\u001b[38;5;241;43m.\u001b[39;49m\u001b[43mtricontour\u001b[49m\u001b[43m(\u001b[49m\u001b[38;5;241;43m*\u001b[39;49m\u001b[43margs\u001b[49m\u001b[43m,\u001b[49m\u001b[43m \u001b[49m\u001b[38;5;241;43m*\u001b[39;49m\u001b[38;5;241;43m*\u001b[39;49m\u001b[43mkwargs\u001b[49m\u001b[43m)\u001b[49m\n\u001b[1;32m   2937\u001b[0m     \u001b[38;5;28;01mif\u001b[39;00m __ret\u001b[38;5;241m.\u001b[39m_A \u001b[38;5;129;01mis\u001b[39;00m \u001b[38;5;129;01mnot\u001b[39;00m \u001b[38;5;28;01mNone\u001b[39;00m: sci(__ret)  \u001b[38;5;66;03m# noqa\u001b[39;00m\n\u001b[1;32m   2938\u001b[0m     \u001b[38;5;28;01mreturn\u001b[39;00m __ret\n",
      "File \u001b[0;32m~/miniconda3/lib/python3.9/site-packages/matplotlib/tri/tricontour.py:241\u001b[0m, in \u001b[0;36mtricontour\u001b[0;34m(ax, *args, **kwargs)\u001b[0m\n\u001b[1;32m    218\u001b[0m \u001b[38;5;250m\u001b[39m\u001b[38;5;124;03m\"\"\"\u001b[39;00m\n\u001b[1;32m    219\u001b[0m \u001b[38;5;124;03m%(_tricontour_doc)s\u001b[39;00m\n\u001b[1;32m    220\u001b[0m \n\u001b[0;32m   (...)\u001b[0m\n\u001b[1;32m    238\u001b[0m \u001b[38;5;124;03m    number of contour levels it will be repeated as necessary.\u001b[39;00m\n\u001b[1;32m    239\u001b[0m \u001b[38;5;124;03m\"\"\"\u001b[39;00m\n\u001b[1;32m    240\u001b[0m kwargs[\u001b[38;5;124m'\u001b[39m\u001b[38;5;124mfilled\u001b[39m\u001b[38;5;124m'\u001b[39m] \u001b[38;5;241m=\u001b[39m \u001b[38;5;28;01mFalse\u001b[39;00m\n\u001b[0;32m--> 241\u001b[0m \u001b[38;5;28;01mreturn\u001b[39;00m \u001b[43mTriContourSet\u001b[49m\u001b[43m(\u001b[49m\u001b[43max\u001b[49m\u001b[43m,\u001b[49m\u001b[43m \u001b[49m\u001b[38;5;241;43m*\u001b[39;49m\u001b[43margs\u001b[49m\u001b[43m,\u001b[49m\u001b[43m \u001b[49m\u001b[38;5;241;43m*\u001b[39;49m\u001b[38;5;241;43m*\u001b[39;49m\u001b[43mkwargs\u001b[49m\u001b[43m)\u001b[49m\n",
      "File \u001b[0;32m~/miniconda3/lib/python3.9/site-packages/matplotlib/tri/tricontour.py:29\u001b[0m, in \u001b[0;36mTriContourSet.__init__\u001b[0;34m(self, ax, *args, **kwargs)\u001b[0m\n\u001b[1;32m     19\u001b[0m \u001b[38;5;28;01mdef\u001b[39;00m \u001b[38;5;21m__init__\u001b[39m(\u001b[38;5;28mself\u001b[39m, ax, \u001b[38;5;241m*\u001b[39margs, \u001b[38;5;241m*\u001b[39m\u001b[38;5;241m*\u001b[39mkwargs):\n\u001b[1;32m     20\u001b[0m \u001b[38;5;250m    \u001b[39m\u001b[38;5;124;03m\"\"\"\u001b[39;00m\n\u001b[1;32m     21\u001b[0m \u001b[38;5;124;03m    Draw triangular grid contour lines or filled regions,\u001b[39;00m\n\u001b[1;32m     22\u001b[0m \u001b[38;5;124;03m    depending on whether keyword arg *filled* is False\u001b[39;00m\n\u001b[0;32m   (...)\u001b[0m\n\u001b[1;32m     27\u001b[0m \u001b[38;5;124;03m    are described in the docstring of `~.Axes.tricontour`.\u001b[39;00m\n\u001b[1;32m     28\u001b[0m \u001b[38;5;124;03m    \"\"\"\u001b[39;00m\n\u001b[0;32m---> 29\u001b[0m     \u001b[38;5;28;43msuper\u001b[39;49m\u001b[43m(\u001b[49m\u001b[43m)\u001b[49m\u001b[38;5;241;43m.\u001b[39;49m\u001b[38;5;21;43m__init__\u001b[39;49m\u001b[43m(\u001b[49m\u001b[43max\u001b[49m\u001b[43m,\u001b[49m\u001b[43m \u001b[49m\u001b[38;5;241;43m*\u001b[39;49m\u001b[43margs\u001b[49m\u001b[43m,\u001b[49m\u001b[43m \u001b[49m\u001b[38;5;241;43m*\u001b[39;49m\u001b[38;5;241;43m*\u001b[39;49m\u001b[43mkwargs\u001b[49m\u001b[43m)\u001b[49m\n",
      "File \u001b[0;32m~/miniconda3/lib/python3.9/site-packages/matplotlib/contour.py:794\u001b[0m, in \u001b[0;36mContourSet.__init__\u001b[0;34m(self, ax, levels, filled, linewidths, linestyles, hatches, alpha, origin, extent, cmap, colors, norm, vmin, vmax, extend, antialiased, nchunk, locator, transform, negative_linestyles, *args, **kwargs)\u001b[0m\n\u001b[1;32m    790\u001b[0m \u001b[38;5;28;01mif\u001b[39;00m \u001b[38;5;28mself\u001b[39m\u001b[38;5;241m.\u001b[39mnegative_linestyles \u001b[38;5;129;01mis\u001b[39;00m \u001b[38;5;28;01mNone\u001b[39;00m:\n\u001b[1;32m    791\u001b[0m     \u001b[38;5;28mself\u001b[39m\u001b[38;5;241m.\u001b[39mnegative_linestyles \u001b[38;5;241m=\u001b[39m \\\n\u001b[1;32m    792\u001b[0m         mpl\u001b[38;5;241m.\u001b[39mrcParams[\u001b[38;5;124m'\u001b[39m\u001b[38;5;124mcontour.negative_linestyle\u001b[39m\u001b[38;5;124m'\u001b[39m]\n\u001b[0;32m--> 794\u001b[0m kwargs \u001b[38;5;241m=\u001b[39m \u001b[38;5;28;43mself\u001b[39;49m\u001b[38;5;241;43m.\u001b[39;49m\u001b[43m_process_args\u001b[49m\u001b[43m(\u001b[49m\u001b[38;5;241;43m*\u001b[39;49m\u001b[43margs\u001b[49m\u001b[43m,\u001b[49m\u001b[43m \u001b[49m\u001b[38;5;241;43m*\u001b[39;49m\u001b[38;5;241;43m*\u001b[39;49m\u001b[43mkwargs\u001b[49m\u001b[43m)\u001b[49m\n\u001b[1;32m    795\u001b[0m \u001b[38;5;28mself\u001b[39m\u001b[38;5;241m.\u001b[39m_process_levels()\n\u001b[1;32m    797\u001b[0m \u001b[38;5;28mself\u001b[39m\u001b[38;5;241m.\u001b[39m_extend_min \u001b[38;5;241m=\u001b[39m \u001b[38;5;28mself\u001b[39m\u001b[38;5;241m.\u001b[39mextend \u001b[38;5;129;01min\u001b[39;00m [\u001b[38;5;124m'\u001b[39m\u001b[38;5;124mmin\u001b[39m\u001b[38;5;124m'\u001b[39m, \u001b[38;5;124m'\u001b[39m\u001b[38;5;124mboth\u001b[39m\u001b[38;5;124m'\u001b[39m]\n",
      "File \u001b[0;32m~/miniconda3/lib/python3.9/site-packages/matplotlib/tri/tricontour.py:45\u001b[0m, in \u001b[0;36mTriContourSet._process_args\u001b[0;34m(self, *args, **kwargs)\u001b[0m\n\u001b[1;32m     43\u001b[0m \u001b[38;5;28;01melse\u001b[39;00m:\n\u001b[1;32m     44\u001b[0m     \u001b[38;5;28;01mfrom\u001b[39;00m \u001b[38;5;21;01mmatplotlib\u001b[39;00m \u001b[38;5;28;01mimport\u001b[39;00m _tri\n\u001b[0;32m---> 45\u001b[0m     tri, z \u001b[38;5;241m=\u001b[39m \u001b[38;5;28;43mself\u001b[39;49m\u001b[38;5;241;43m.\u001b[39;49m\u001b[43m_contour_args\u001b[49m\u001b[43m(\u001b[49m\u001b[43margs\u001b[49m\u001b[43m,\u001b[49m\u001b[43m \u001b[49m\u001b[43mkwargs\u001b[49m\u001b[43m)\u001b[49m\n\u001b[1;32m     46\u001b[0m     C \u001b[38;5;241m=\u001b[39m _tri\u001b[38;5;241m.\u001b[39mTriContourGenerator(tri\u001b[38;5;241m.\u001b[39mget_cpp_triangulation(), z)\n\u001b[1;32m     47\u001b[0m     \u001b[38;5;28mself\u001b[39m\u001b[38;5;241m.\u001b[39m_mins \u001b[38;5;241m=\u001b[39m [tri\u001b[38;5;241m.\u001b[39mx\u001b[38;5;241m.\u001b[39mmin(), tri\u001b[38;5;241m.\u001b[39my\u001b[38;5;241m.\u001b[39mmin()]\n",
      "File \u001b[0;32m~/miniconda3/lib/python3.9/site-packages/matplotlib/tri/tricontour.py:54\u001b[0m, in \u001b[0;36mTriContourSet._contour_args\u001b[0;34m(self, args, kwargs)\u001b[0m\n\u001b[1;32m     53\u001b[0m \u001b[38;5;28;01mdef\u001b[39;00m \u001b[38;5;21m_contour_args\u001b[39m(\u001b[38;5;28mself\u001b[39m, args, kwargs):\n\u001b[0;32m---> 54\u001b[0m     tri, args, kwargs \u001b[38;5;241m=\u001b[39m \u001b[43mTriangulation\u001b[49m\u001b[38;5;241;43m.\u001b[39;49m\u001b[43mget_from_args_and_kwargs\u001b[49m\u001b[43m(\u001b[49m\u001b[38;5;241;43m*\u001b[39;49m\u001b[43margs\u001b[49m\u001b[43m,\u001b[49m\n\u001b[1;32m     55\u001b[0m \u001b[43m                                                               \u001b[49m\u001b[38;5;241;43m*\u001b[39;49m\u001b[38;5;241;43m*\u001b[39;49m\u001b[43mkwargs\u001b[49m\u001b[43m)\u001b[49m\n\u001b[1;32m     56\u001b[0m     z \u001b[38;5;241m=\u001b[39m np\u001b[38;5;241m.\u001b[39mma\u001b[38;5;241m.\u001b[39masarray(args[\u001b[38;5;241m0\u001b[39m])\n\u001b[1;32m     57\u001b[0m     \u001b[38;5;28;01mif\u001b[39;00m z\u001b[38;5;241m.\u001b[39mshape \u001b[38;5;241m!=\u001b[39m tri\u001b[38;5;241m.\u001b[39mx\u001b[38;5;241m.\u001b[39mshape:\n",
      "File \u001b[0;32m~/miniconda3/lib/python3.9/site-packages/matplotlib/tri/triangulation.py:161\u001b[0m, in \u001b[0;36mTriangulation.get_from_args_and_kwargs\u001b[0;34m(*args, **kwargs)\u001b[0m\n\u001b[1;32m    158\u001b[0m \u001b[38;5;28;01melse\u001b[39;00m:\n\u001b[1;32m    159\u001b[0m     x, y, triangles, mask, args, kwargs \u001b[38;5;241m=\u001b[39m \\\n\u001b[1;32m    160\u001b[0m         Triangulation\u001b[38;5;241m.\u001b[39m_extract_triangulation_params(args, kwargs)\n\u001b[0;32m--> 161\u001b[0m     triangulation \u001b[38;5;241m=\u001b[39m \u001b[43mTriangulation\u001b[49m\u001b[43m(\u001b[49m\u001b[43mx\u001b[49m\u001b[43m,\u001b[49m\u001b[43m \u001b[49m\u001b[43my\u001b[49m\u001b[43m,\u001b[49m\u001b[43m \u001b[49m\u001b[43mtriangles\u001b[49m\u001b[43m,\u001b[49m\u001b[43m \u001b[49m\u001b[43mmask\u001b[49m\u001b[43m)\u001b[49m\n\u001b[1;32m    162\u001b[0m \u001b[38;5;28;01mreturn\u001b[39;00m triangulation, args, kwargs\n",
      "File \u001b[0;32m~/miniconda3/lib/python3.9/site-packages/matplotlib/tri/triangulation.py:58\u001b[0m, in \u001b[0;36mTriangulation.__init__\u001b[0;34m(self, x, y, triangles, mask)\u001b[0m\n\u001b[1;32m     53\u001b[0m \u001b[38;5;28mself\u001b[39m\u001b[38;5;241m.\u001b[39mis_delaunay \u001b[38;5;241m=\u001b[39m \u001b[38;5;28;01mFalse\u001b[39;00m\n\u001b[1;32m     55\u001b[0m \u001b[38;5;28;01mif\u001b[39;00m triangles \u001b[38;5;129;01mis\u001b[39;00m \u001b[38;5;28;01mNone\u001b[39;00m:\n\u001b[1;32m     56\u001b[0m     \u001b[38;5;66;03m# No triangulation specified, so use matplotlib._qhull to obtain\u001b[39;00m\n\u001b[1;32m     57\u001b[0m     \u001b[38;5;66;03m# Delaunay triangulation.\u001b[39;00m\n\u001b[0;32m---> 58\u001b[0m     \u001b[38;5;28mself\u001b[39m\u001b[38;5;241m.\u001b[39mtriangles, \u001b[38;5;28mself\u001b[39m\u001b[38;5;241m.\u001b[39m_neighbors \u001b[38;5;241m=\u001b[39m \u001b[43m_qhull\u001b[49m\u001b[38;5;241;43m.\u001b[39;49m\u001b[43mdelaunay\u001b[49m\u001b[43m(\u001b[49m\u001b[43mx\u001b[49m\u001b[43m,\u001b[49m\u001b[43m \u001b[49m\u001b[43my\u001b[49m\u001b[43m)\u001b[49m\n\u001b[1;32m     59\u001b[0m     \u001b[38;5;28mself\u001b[39m\u001b[38;5;241m.\u001b[39mis_delaunay \u001b[38;5;241m=\u001b[39m \u001b[38;5;28;01mTrue\u001b[39;00m\n\u001b[1;32m     60\u001b[0m \u001b[38;5;28;01melse\u001b[39;00m:\n\u001b[1;32m     61\u001b[0m     \u001b[38;5;66;03m# Triangulation specified. Copy, since we may correct triangle\u001b[39;00m\n\u001b[1;32m     62\u001b[0m     \u001b[38;5;66;03m# orientation.\u001b[39;00m\n",
      "\u001b[0;31mKeyboardInterrupt\u001b[0m: "
     ]
    },
    {
     "data": {
      "image/png": "[encoded data removed]",
      "text/plain": [
       "<Figure size 432x288 with 1 Axes>"
      ]
     },
     "metadata": {
      "needs_background": "light"
     },
     "output_type": "display_data"
    }
   ],
   "source": [
    "# contour to find HII regions\n",
    "x = sCDM.g['pos'][:,0]\n",
    "y = sCDM.g['pos'][:,1]\n",
    "z = sCDM.g['pos'][:,2]\n",
    "\n",
    "poslim = 1000\n",
    "\n",
    "hii = sCDM.g['HII'][abs(x)<poslim]\n",
    "z = z[abs(x)<poslim]\n",
    "y = y[abs(x)<poslim]\n",
    "x = x[abs(x)<poslim]\n",
    "\n",
    "hii = hii[abs(y)<poslim]\n",
    "z = z[abs(y)<poslim]\n",
    "x = x[abs(y)<poslim]\n",
    "y = y[abs(y)<poslim]\n",
    "\n",
    "hii = hii[abs(z)<poslim]\n",
    "x = x[abs(z)<poslim]\n",
    "y = y[abs(z)<poslim]\n",
    "z = z[abs(z)<poslim]\n",
    "\n",
    "trc = plt.tricontour(x,y,hii)\n",
    "plt.colorbar()"
   ]
  },
  {
   "cell_type": "code",
   "execution_count": 47,
   "id": "5b505dd7",
   "metadata": {},
   "outputs": [
    {
     "data": {
      "text/plain": [
       "<matplotlib.colorbar.Colorbar at 0x7fac29dae850>"
      ]
     },
     "execution_count": 47,
     "metadata": {},
     "output_type": "execute_result"
    },
    {
     "data": {
      "image/png": "[encoded data removed]",
      "text/plain": [
       "<Figure size 432x288 with 2 Axes>"
      ]
     },
     "metadata": {
      "needs_background": "light"
     },
     "output_type": "display_data"
    }
   ],
   "source": [
    "# contour gas mass \n",
    "x = sCDM.g['pos'][:,0]\n",
    "y = sCDM.g['pos'][:,1]\n",
    "z = sCDM.g['pos'][:,2]\n",
    "\n",
    "gmass = sCDM.g['mass']\n",
    "\n",
    "plt.tricontour(x,y,gmass)\n",
    "plt.colorbar()"
   ]
  },
  {
   "cell_type": "code",
   "execution_count": 27,
   "id": "be117af1",
   "metadata": {},
   "outputs": [
    {
     "data": {
      "text/plain": [
       "Text(0.5, 0, 'Number of HII Ions Per Proton Mass')"
      ]
     },
     "execution_count": 27,
     "metadata": {},
     "output_type": "execute_result"
    },
    {
     "data": {
      "image/png": "[encoded data removed]",
      "text/plain": [
       "<Figure size 864x576 with 1 Axes>"
      ]
     },
     "metadata": {},
     "output_type": "display_data"
    }
   ],
   "source": [
    "fig = plt.figure(facecolor='w', figsize=(12,8))\n",
    "\n",
    "hs = plt.hist(sCDM.g['HII'], density=False, stacked=True)\n",
    "plt.ylabel('Quantity of Particles', fontsize=20)\n",
    "plt.xlabel('Number of HII Ions Per Proton Mass', fontsize=20)"
   ]
  },
  {
   "cell_type": "code",
   "execution_count": 37,
   "id": "4b5c0fa2",
   "metadata": {},
   "outputs": [
    {
     "data": {
      "text/plain": [
       "6013100"
      ]
     },
     "execution_count": 37,
     "metadata": {},
     "output_type": "execute_result"
    }
   ],
   "source": [
    "len(sCDM.g['pos'])"
   ]
  },
  {
   "cell_type": "code",
   "execution_count": 38,
   "id": "d49310f1",
   "metadata": {},
   "outputs": [],
   "source": [
    "gal = currentGals[0]\n",
    "cdmFile = util.getfilepath(gal)[0]+ '/r'+str(gal)+'.romulus25.3072g1HsbBH.004096'\n",
    "\n",
    "sCDM = pynbody.load(cdmFile)\n",
    "sCDM.physical_units()\n",
    "\n",
    "vdisp = sCDM.g['v_disp']\n",
    "\n",
    "hCDM = sCDM.halos(write_fpos=False)[1]\n",
    "\n",
    "pynbody.analysis.angmom.faceon(hCDM)\n",
    "\n",
    "cen_pot = pynbody.analysis.halo.center(hCDM, mode='pot', retcen=True)\n",
    "sCDM['pos'] -= cen_pot"
   ]
  },
  {
   "cell_type": "code",
   "execution_count": 45,
   "id": "a25bc299",
   "metadata": {},
   "outputs": [
    {
     "name": "stdout",
     "output_type": "stream",
     "text": [
      "0\n",
      "500000\n",
      "1000000\n",
      "1500000\n",
      "2000000\n",
      "2500000\n",
      "3000000\n",
      "3500000\n",
      "4000000\n",
      "4500000\n",
      "5000000\n",
      "5500000\n",
      "6000000\n",
      "6500000\n"
     ]
    }
   ],
   "source": [
    "# want HII particles near stars\n",
    "\n",
    "# take regions that are mostly HII \n",
    "HIIpos = sCDM.g['pos'].in_units('pc')\n",
    "\n",
    "selectedHIIdisps = []\n",
    "allHIIdisps = sCDM.g['vr']\n",
    "\n",
    "# want regions within 100 pc of young (10 MYR) stars\n",
    "youngStarPos = sCDM.s['pos'].in_units('pc')[sCDM.s['age'].in_units('Myr')<10]\n",
    "for i,hii in enumerate(HIIpos[:]):\n",
    "    distances = abs(youngStarPos - hii)\n",
    "    distances = np.linalg.norm(distances, axis=1)\n",
    "    \n",
    "    # if close to a young star, calculate v disp for that particle\n",
    "    if min(distances)<100:\n",
    "        selectedHIIdisps.append(allHIIdisps[i])\n",
    "    if i%500000==0: print(i)"
   ]
  },
  {
   "cell_type": "code",
   "execution_count": 47,
   "id": "6dd9e609",
   "metadata": {},
   "outputs": [
    {
     "data": {
      "text/plain": [
       "142419"
      ]
     },
     "execution_count": 47,
     "metadata": {},
     "output_type": "execute_result"
    }
   ],
   "source": [
    "len(selectedHIIdisps)"
   ]
  },
  {
   "cell_type": "code",
   "execution_count": 49,
   "id": "1739e00c",
   "metadata": {},
   "outputs": [
    {
     "data": {
      "text/plain": [
       "11.452646856604877"
      ]
     },
     "execution_count": 49,
     "metadata": {},
     "output_type": "execute_result"
    }
   ],
   "source": [
    "np.median(np.abs(selectedHIIdisps))"
   ]
  },
  {
   "cell_type": "code",
   "execution_count": 51,
   "id": "ddc32f6a",
   "metadata": {},
   "outputs": [
    {
     "data": {
      "text/plain": [
       "SimArray(22.85070953, 'km s**-1')"
      ]
     },
     "execution_count": 51,
     "metadata": {},
     "output_type": "execute_result"
    }
   ],
   "source": [
    "np.median(vdisp)"
   ]
  },
  {
   "cell_type": "code",
   "execution_count": 5,
   "id": "f49b8520",
   "metadata": {},
   "outputs": [],
   "source": [
    "# above didn't provide any particles\n",
    "# let's just directly take v disp of HII dominated particles\n",
    "\n",
    "\n",
    "hiimask = sCDM.g['HII']>0.75"
   ]
  },
  {
   "cell_type": "code",
   "execution_count": 14,
   "id": "adca7f58",
   "metadata": {},
   "outputs": [
    {
     "ename": "RuntimeError",
     "evalue": "No halo catalogue found for '<SimSnap \"/data/REPOSITORY/e11Gals/romulus_dwarf_zooms/r468.romulus25.3072g1HsbBH/r468.romulus25.3072g1HsbBH.003936/r468.romulus25.3072g1HsbBH.003936\" len=25789729>'",
     "output_type": "error",
     "traceback": [
      "\u001b[0;31m---------------------------------------------------------------------------\u001b[0m",
      "\u001b[0;31mRuntimeError\u001b[0m                              Traceback (most recent call last)",
      "Cell \u001b[0;32mIn[14], line 8\u001b[0m\n\u001b[1;32m      6\u001b[0m sCDM \u001b[38;5;241m=\u001b[39m pynbody\u001b[38;5;241m.\u001b[39mload(cdmFile)\n\u001b[1;32m      7\u001b[0m sCDM\u001b[38;5;241m.\u001b[39mphysical_units()\n\u001b[0;32m----> 8\u001b[0m hCDM \u001b[38;5;241m=\u001b[39m \u001b[43msCDM\u001b[49m\u001b[38;5;241;43m.\u001b[39;49m\u001b[43mhalos\u001b[49m\u001b[43m(\u001b[49m\u001b[43mwrite_fpos\u001b[49m\u001b[38;5;241;43m=\u001b[39;49m\u001b[38;5;28;43;01mFalse\u001b[39;49;00m\u001b[43m)\u001b[49m[\u001b[38;5;241m1\u001b[39m]\n\u001b[1;32m     10\u001b[0m pynbody\u001b[38;5;241m.\u001b[39manalysis\u001b[38;5;241m.\u001b[39mangmom\u001b[38;5;241m.\u001b[39mfaceon(hCDM)\n\u001b[1;32m     12\u001b[0m cen_pot \u001b[38;5;241m=\u001b[39m pynbody\u001b[38;5;241m.\u001b[39manalysis\u001b[38;5;241m.\u001b[39mhalo\u001b[38;5;241m.\u001b[39mcenter(hCDM, mode\u001b[38;5;241m=\u001b[39m\u001b[38;5;124m'\u001b[39m\u001b[38;5;124mpot\u001b[39m\u001b[38;5;124m'\u001b[39m, retcen\u001b[38;5;241m=\u001b[39m\u001b[38;5;28;01mTrue\u001b[39;00m)\n",
      "File \u001b[0;32m~/miniconda3/lib/python3.9/site-packages/pynbody/snapshot/__init__.py:788\u001b[0m, in \u001b[0;36mSimSnap.halos\u001b[0;34m(self, *args, **kwargs)\u001b[0m\n\u001b[1;32m    785\u001b[0m     \u001b[38;5;28;01mexcept\u001b[39;00m \u001b[38;5;167;01mTypeError\u001b[39;00m:\n\u001b[1;32m    786\u001b[0m         \u001b[38;5;28;01mpass\u001b[39;00m\n\u001b[0;32m--> 788\u001b[0m \u001b[38;5;28;01mraise\u001b[39;00m \u001b[38;5;167;01mRuntimeError\u001b[39;00m(\u001b[38;5;124m\"\u001b[39m\u001b[38;5;124mNo halo catalogue found for \u001b[39m\u001b[38;5;132;01m%r\u001b[39;00m\u001b[38;5;124m\"\u001b[39m \u001b[38;5;241m%\u001b[39m \u001b[38;5;28mstr\u001b[39m(\u001b[38;5;28mself\u001b[39m))\n",
      "\u001b[0;31mRuntimeError\u001b[0m: No halo catalogue found for '<SimSnap \"/data/REPOSITORY/e11Gals/romulus_dwarf_zooms/r468.romulus25.3072g1HsbBH/r468.romulus25.3072g1HsbBH.003936/r468.romulus25.3072g1HsbBH.003936\" len=25789729>'"
     ]
    }
   ],
   "source": [
    "gal = currentGals[1]\n",
    "#cdmFile = util.getfilepath(gal)[0]+ '/r'+str(gal)+'.romulus25.3072g1HsbBH.004096'\n",
    "cdmFile='/data/REPOSITORY/e11Gals/romulus_dwarf_zooms/r468.romulus25.3072g1HsbBH/'\n",
    "cdmFile+='r468.romulus25.3072g1HsbBH.003936/r468.romulus25.3072g1HsbBH.003936'\n",
    "\n",
    "sCDM = pynbody.load(cdmFile)\n",
    "sCDM.physical_units()\n",
    "hCDM = sCDM.halos(write_fpos=False)[1]\n",
    "\n",
    "pynbody.analysis.angmom.faceon(hCDM)\n",
    "\n",
    "cen_pot = pynbody.analysis.halo.center(hCDM, mode='pot', retcen=True)\n",
    "sCDM['pos'] -= cen_pot\n",
    "\n",
    "hiimask = sCDM.g['HII']>0.75"
   ]
  },
  {
   "cell_type": "code",
   "execution_count": 10,
   "id": "8a984d38",
   "metadata": {},
   "outputs": [
    {
     "ename": "KeyError",
     "evalue": "\"'metals' is a family-level array for [<Family gas>, <Family star>]. To use it over the whole simulation you need either to delete it first, or create it separately for [<Family dm>].\"",
     "output_type": "error",
     "traceback": [
      "\u001b[0;31m---------------------------------------------------------------------------\u001b[0m",
      "\u001b[0;31mKeyError\u001b[0m                                  Traceback (most recent call last)",
      "Cell \u001b[0;32mIn[10], line 1\u001b[0m\n\u001b[0;32m----> 1\u001b[0m \u001b[43msCDM\u001b[49m\u001b[43m[\u001b[49m\u001b[38;5;124;43m'\u001b[39;49m\u001b[38;5;124;43mHII\u001b[39;49m\u001b[38;5;124;43m'\u001b[39;49m\u001b[43m]\u001b[49m\n",
      "File \u001b[0;32m~/miniconda3/lib/python3.9/site-packages/pynbody/snapshot/__init__.py:258\u001b[0m, in \u001b[0;36mSimSnap.__getitem__\u001b[0;34m(self, i)\u001b[0m\n\u001b[1;32m    254\u001b[0m \u001b[38;5;250m\u001b[39m\u001b[38;5;124;03m\"\"\"Return either a specific array or a subview of this simulation. See\u001b[39;00m\n\u001b[1;32m    255\u001b[0m \u001b[38;5;124;03mthe class documentation (:class:`SimSnap`) for more information.\"\"\"\u001b[39;00m\n\u001b[1;32m    257\u001b[0m \u001b[38;5;28;01mif\u001b[39;00m \u001b[38;5;28misinstance\u001b[39m(i, \u001b[38;5;28mstr\u001b[39m):\n\u001b[0;32m--> 258\u001b[0m     \u001b[38;5;28;01mreturn\u001b[39;00m \u001b[38;5;28;43mself\u001b[39;49m\u001b[38;5;241;43m.\u001b[39;49m\u001b[43m_get_array_with_lazy_actions\u001b[49m\u001b[43m(\u001b[49m\u001b[43mi\u001b[49m\u001b[43m)\u001b[49m\n\u001b[1;32m    259\u001b[0m \u001b[38;5;28;01melif\u001b[39;00m \u001b[38;5;28misinstance\u001b[39m(i, \u001b[38;5;28mslice\u001b[39m):\n\u001b[1;32m    260\u001b[0m     \u001b[38;5;28;01mreturn\u001b[39;00m SubSnap(\u001b[38;5;28mself\u001b[39m, i)\n",
      "File \u001b[0;32m~/miniconda3/lib/python3.9/site-packages/pynbody/snapshot/__init__.py:358\u001b[0m, in \u001b[0;36mSimSnap._get_array_with_lazy_actions\u001b[0;34m(self, name)\u001b[0m\n\u001b[1;32m    356\u001b[0m         \u001b[38;5;28mself\u001b[39m\u001b[38;5;241m.\u001b[39m__load_if_required(name)\n\u001b[1;32m    357\u001b[0m     \u001b[38;5;28;01mif\u001b[39;00m \u001b[38;5;129;01mnot\u001b[39;00m \u001b[38;5;28mself\u001b[39m\u001b[38;5;241m.\u001b[39mlazy_derive_off:\n\u001b[0;32m--> 358\u001b[0m         \u001b[38;5;28;43mself\u001b[39;49m\u001b[38;5;241;43m.\u001b[39;49m\u001b[43m__derive_if_required\u001b[49m\u001b[43m(\u001b[49m\u001b[43mname\u001b[49m\u001b[43m)\u001b[49m\n\u001b[1;32m    360\u001b[0m \u001b[38;5;28;01mreturn\u001b[39;00m \u001b[38;5;28mself\u001b[39m\u001b[38;5;241m.\u001b[39m_get_array(name)\n",
      "File \u001b[0;32m~/miniconda3/lib/python3.9/site-packages/pynbody/snapshot/__init__.py:373\u001b[0m, in \u001b[0;36mSimSnap.__derive_if_required\u001b[0;34m(self, name)\u001b[0m\n\u001b[1;32m    371\u001b[0m \u001b[38;5;28;01mdef\u001b[39;00m \u001b[38;5;21m__derive_if_required\u001b[39m(\u001b[38;5;28mself\u001b[39m, name):\n\u001b[1;32m    372\u001b[0m     \u001b[38;5;28;01mif\u001b[39;00m name \u001b[38;5;129;01mnot\u001b[39;00m \u001b[38;5;129;01min\u001b[39;00m \u001b[38;5;28mlist\u001b[39m(\u001b[38;5;28mself\u001b[39m\u001b[38;5;241m.\u001b[39mkeys()):\n\u001b[0;32m--> 373\u001b[0m         \u001b[38;5;28;43mself\u001b[39;49m\u001b[38;5;241;43m.\u001b[39;49m\u001b[43m_derive_array\u001b[49m\u001b[43m(\u001b[49m\u001b[43mname\u001b[49m\u001b[43m)\u001b[49m\n",
      "File \u001b[0;32m~/miniconda3/lib/python3.9/site-packages/pynbody/snapshot/__init__.py:1425\u001b[0m, in \u001b[0;36mSimSnap._derive_array\u001b[0;34m(self, name, fam)\u001b[0m\n\u001b[1;32m   1423\u001b[0m \u001b[38;5;28;01mwith\u001b[39;00m \u001b[38;5;28mself\u001b[39m\u001b[38;5;241m.\u001b[39mauto_propagate_off:\n\u001b[1;32m   1424\u001b[0m     \u001b[38;5;28;01mif\u001b[39;00m fam \u001b[38;5;129;01mis\u001b[39;00m \u001b[38;5;28;01mNone\u001b[39;00m:\n\u001b[0;32m-> 1425\u001b[0m         result \u001b[38;5;241m=\u001b[39m \u001b[43mfn\u001b[49m\u001b[43m(\u001b[49m\u001b[38;5;28;43mself\u001b[39;49m\u001b[43m)\u001b[49m\n\u001b[1;32m   1426\u001b[0m         ndim \u001b[38;5;241m=\u001b[39m result\u001b[38;5;241m.\u001b[39mshape[\u001b[38;5;241m-\u001b[39m\u001b[38;5;241m1\u001b[39m] \u001b[38;5;28;01mif\u001b[39;00m \u001b[38;5;28mlen\u001b[39m(\n\u001b[1;32m   1427\u001b[0m             result\u001b[38;5;241m.\u001b[39mshape) \u001b[38;5;241m>\u001b[39m \u001b[38;5;241m1\u001b[39m \u001b[38;5;28;01melse\u001b[39;00m \u001b[38;5;241m1\u001b[39m\n\u001b[1;32m   1428\u001b[0m         \u001b[38;5;28mself\u001b[39m\u001b[38;5;241m.\u001b[39m_create_array(\n\u001b[1;32m   1429\u001b[0m             name, ndim, dtype\u001b[38;5;241m=\u001b[39mresult\u001b[38;5;241m.\u001b[39mdtype, derived\u001b[38;5;241m=\u001b[39m\u001b[38;5;129;01mnot\u001b[39;00m fn\u001b[38;5;241m.\u001b[39m__stable__)\n",
      "File \u001b[0;32m~/miniconda3/lib/python3.9/site-packages/pynbody/snapshot/tipsy.py:984\u001b[0m, in \u001b[0;36mHII\u001b[0;34m(sim)\u001b[0m\n\u001b[1;32m    981\u001b[0m \u001b[38;5;129m@TipsySnap\u001b[39m\u001b[38;5;241m.\u001b[39mderived_quantity\n\u001b[1;32m    982\u001b[0m \u001b[38;5;28;01mdef\u001b[39;00m \u001b[38;5;21mHII\u001b[39m(sim):\n\u001b[1;32m    983\u001b[0m \u001b[38;5;250m    \u001b[39m\u001b[38;5;124;03m\"\"\"Number of HII ions per proton mass\"\"\"\u001b[39;00m\n\u001b[0;32m--> 984\u001b[0m     Y_H, Y_He \u001b[38;5;241m=\u001b[39m _abundance_estimator(\u001b[43msim\u001b[49m\u001b[43m[\u001b[49m\u001b[38;5;124;43m\"\u001b[39;49m\u001b[38;5;124;43mmetals\u001b[39;49m\u001b[38;5;124;43m\"\u001b[39;49m\u001b[43m]\u001b[49m)\n\u001b[1;32m    985\u001b[0m     \u001b[38;5;28;01mtry\u001b[39;00m:\n\u001b[1;32m    986\u001b[0m         \u001b[38;5;28;01mreturn\u001b[39;00m Y_H \u001b[38;5;241m-\u001b[39m sim[\u001b[38;5;124m\"\u001b[39m\u001b[38;5;124mHI\u001b[39m\u001b[38;5;124m\"\u001b[39m] \u001b[38;5;241m-\u001b[39m \u001b[38;5;241m2\u001b[39m \u001b[38;5;241m*\u001b[39m sim[\u001b[38;5;124m\"\u001b[39m\u001b[38;5;124mH2\u001b[39m\u001b[38;5;124m\"\u001b[39m]\n",
      "File \u001b[0;32m~/miniconda3/lib/python3.9/site-packages/pynbody/snapshot/__init__.py:258\u001b[0m, in \u001b[0;36mSimSnap.__getitem__\u001b[0;34m(self, i)\u001b[0m\n\u001b[1;32m    254\u001b[0m \u001b[38;5;250m\u001b[39m\u001b[38;5;124;03m\"\"\"Return either a specific array or a subview of this simulation. See\u001b[39;00m\n\u001b[1;32m    255\u001b[0m \u001b[38;5;124;03mthe class documentation (:class:`SimSnap`) for more information.\"\"\"\u001b[39;00m\n\u001b[1;32m    257\u001b[0m \u001b[38;5;28;01mif\u001b[39;00m \u001b[38;5;28misinstance\u001b[39m(i, \u001b[38;5;28mstr\u001b[39m):\n\u001b[0;32m--> 258\u001b[0m     \u001b[38;5;28;01mreturn\u001b[39;00m \u001b[38;5;28;43mself\u001b[39;49m\u001b[38;5;241;43m.\u001b[39;49m\u001b[43m_get_array_with_lazy_actions\u001b[49m\u001b[43m(\u001b[49m\u001b[43mi\u001b[49m\u001b[43m)\u001b[49m\n\u001b[1;32m    259\u001b[0m \u001b[38;5;28;01melif\u001b[39;00m \u001b[38;5;28misinstance\u001b[39m(i, \u001b[38;5;28mslice\u001b[39m):\n\u001b[1;32m    260\u001b[0m     \u001b[38;5;28;01mreturn\u001b[39;00m SubSnap(\u001b[38;5;28mself\u001b[39m, i)\n",
      "File \u001b[0;32m~/miniconda3/lib/python3.9/site-packages/pynbody/snapshot/__init__.py:352\u001b[0m, in \u001b[0;36mSimSnap._get_array_with_lazy_actions\u001b[0;34m(self, name)\u001b[0m\n\u001b[1;32m    349\u001b[0m     \u001b[38;5;28;01mreturn\u001b[39;00m \u001b[38;5;28mself\u001b[39m\u001b[38;5;241m.\u001b[39m_get_array(name)\n\u001b[1;32m    351\u001b[0m \u001b[38;5;28;01mwith\u001b[39;00m \u001b[38;5;28mself\u001b[39m\u001b[38;5;241m.\u001b[39m_dependency_tracker\u001b[38;5;241m.\u001b[39mcalculating(name):\n\u001b[0;32m--> 352\u001b[0m     \u001b[38;5;28;43mself\u001b[39;49m\u001b[38;5;241;43m.\u001b[39;49m\u001b[43m__resolve_obscuring_family_array\u001b[49m\u001b[43m(\u001b[49m\u001b[43mname\u001b[49m\u001b[43m)\u001b[49m\n\u001b[1;32m    354\u001b[0m     \u001b[38;5;28;01mif\u001b[39;00m \u001b[38;5;129;01mnot\u001b[39;00m \u001b[38;5;28mself\u001b[39m\u001b[38;5;241m.\u001b[39mlazy_off:\n\u001b[1;32m    355\u001b[0m         \u001b[38;5;28;01mif\u001b[39;00m \u001b[38;5;129;01mnot\u001b[39;00m \u001b[38;5;28mself\u001b[39m\u001b[38;5;241m.\u001b[39mlazy_load_off:\n",
      "File \u001b[0;32m~/miniconda3/lib/python3.9/site-packages/pynbody/snapshot/__init__.py:384\u001b[0m, in \u001b[0;36mSimSnap.__resolve_obscuring_family_array\u001b[0;34m(self, name)\u001b[0m\n\u001b[1;32m    382\u001b[0m \u001b[38;5;28;01mif\u001b[39;00m name \u001b[38;5;129;01min\u001b[39;00m \u001b[38;5;28mself\u001b[39m\u001b[38;5;241m.\u001b[39mfamily_keys():\n\u001b[1;32m    383\u001b[0m     in_fam, out_fam \u001b[38;5;241m=\u001b[39m \u001b[38;5;28mself\u001b[39m\u001b[38;5;241m.\u001b[39m__get_included_and_excluded_families_for_array(name)\n\u001b[0;32m--> 384\u001b[0m     \u001b[38;5;28;01mraise\u001b[39;00m \u001b[38;5;167;01mKeyError\u001b[39;00m(\u001b[38;5;124m\"\"\"\u001b[39m\u001b[38;5;132;01m{!r}\u001b[39;00m\u001b[38;5;124m is a family-level array for \u001b[39m\u001b[38;5;132;01m{}\u001b[39;00m\u001b[38;5;124m. To use it over the whole simulation you need either to delete it first, or create it separately for \u001b[39m\u001b[38;5;132;01m{}\u001b[39;00m\u001b[38;5;124m.\u001b[39m\u001b[38;5;124m\"\"\"\u001b[39m\u001b[38;5;241m.\u001b[39mformat(\n\u001b[1;32m    385\u001b[0m         name, in_fam, out_fam))\n",
      "\u001b[0;31mKeyError\u001b[0m: \"'metals' is a family-level array for [<Family gas>, <Family star>]. To use it over the whole simulation you need either to delete it first, or create it separately for [<Family dm>].\""
     ]
    }
   ],
   "source": [
    "sCDM.g['HII']"
   ]
  },
  {
   "cell_type": "code",
   "execution_count": 69,
   "id": "a9f9d6c1",
   "metadata": {},
   "outputs": [
    {
     "data": {
      "text/plain": [
       "(array([5.070e+02, 2.464e+03, 3.221e+03, 2.221e+03, 1.209e+03, 3.160e+02,\n",
       "        4.000e+01, 1.300e+01, 8.000e+00, 1.000e+00]),\n",
       " array([-23.11633993,  -2.56619697,  17.98394599,  38.53408895,\n",
       "         59.08423192,  79.63437488, 100.18451784, 120.7346608 ,\n",
       "        141.28480376, 161.83494672, 182.38508968]),\n",
       " <BarContainer object of 10 artists>)"
      ]
     },
     "execution_count": 69,
     "metadata": {},
     "output_type": "execute_result"
    },
    {
     "data": {
      "image/png": "[encoded data removed]",
      "text/plain": [
       "<Figure size 432x288 with 1 Axes>"
      ]
     },
     "metadata": {
      "needs_background": "light"
     },
     "output_type": "display_data"
    }
   ],
   "source": [
    "plt.hist(sCDM.g['vr'][:10000])"
   ]
  },
  {
   "cell_type": "markdown",
   "id": "8e6057ea",
   "metadata": {},
   "source": [
    "## Need to Navigate the Folders of Emu\n",
    "\n",
    "* Given a halo number\n",
    "* navigate to each sim file and open it\n",
    "* acquire desired categories"
   ]
  },
  {
   "cell_type": "code",
   "execution_count": 58,
   "id": "c204fbc6",
   "metadata": {},
   "outputs": [
    {
     "data": {
      "text/plain": [
       "SimArray([1.35277645e+03, 1.34268115e+03, 1.34183987e+03, ...,\n",
       "          6.40484514e-03, 6.40484514e-03, 6.40484514e-03], 'Myr')"
      ]
     },
     "execution_count": 58,
     "metadata": {},
     "output_type": "execute_result"
    }
   ],
   "source": [
    "sCDM.s['age'].in_units('Myr')"
   ]
  },
  {
   "cell_type": "code",
   "execution_count": 35,
   "id": "cd6d0368",
   "metadata": {},
   "outputs": [
    {
     "data": {
      "text/plain": [
       "10.267842295296536"
      ]
     },
     "execution_count": 35,
     "metadata": {},
     "output_type": "execute_result"
    }
   ],
   "source": [
    "np.log10(sum(sCDM.g['mass']))"
   ]
  },
  {
   "cell_type": "code",
   "execution_count": 29,
   "id": "e37e57b5",
   "metadata": {
    "scrolled": true
   },
   "outputs": [
    {
     "data": {
      "text/plain": [
       "['HII',\n",
       " 'HeIII',\n",
       " 'ne',\n",
       " 'hetot',\n",
       " 'hydrogen',\n",
       " 'feh',\n",
       " 'oxh',\n",
       " 'ofe',\n",
       " 'mgfe',\n",
       " 'nefe',\n",
       " 'sife',\n",
       " 'c_s',\n",
       " 'c_s_turb',\n",
       " 'mjeans',\n",
       " 'mjeans_turb',\n",
       " 'ljeans',\n",
       " 'ljeans_turb',\n",
       " 'r',\n",
       " 'rxy',\n",
       " 'vr',\n",
       " 'v2',\n",
       " 'vt',\n",
       " 'ke',\n",
       " 'te',\n",
       " 'j',\n",
       " 'j2',\n",
       " 'jz',\n",
       " 'vrxy',\n",
       " 'vcxy',\n",
       " 'vphi',\n",
       " 'vtheta',\n",
       " 'v_mean',\n",
       " 'v_disp',\n",
       " 'v_curl',\n",
       " 'vorticity',\n",
       " 'v_div',\n",
       " 'age',\n",
       " 'u_mag',\n",
       " 'u_lum_den',\n",
       " 'b_mag',\n",
       " 'b_lum_den',\n",
       " 'v_mag',\n",
       " 'v_lum_den',\n",
       " 'r_mag',\n",
       " 'r_lum_den',\n",
       " 'i_mag',\n",
       " 'i_lum_den',\n",
       " 'j_mag',\n",
       " 'j_lum_den',\n",
       " 'h_mag',\n",
       " 'h_lum_den',\n",
       " 'k_mag',\n",
       " 'k_lum_den',\n",
       " 'U_mag',\n",
       " 'U_lum_den',\n",
       " 'B_mag',\n",
       " 'B_lum_den',\n",
       " 'V_mag',\n",
       " 'V_lum_den',\n",
       " 'R_mag',\n",
       " 'R_lum_den',\n",
       " 'I_mag',\n",
       " 'I_lum_den',\n",
       " 'J_mag',\n",
       " 'J_lum_den',\n",
       " 'H_mag',\n",
       " 'H_lum_den',\n",
       " 'K_mag',\n",
       " 'K_lum_den',\n",
       " 'theta',\n",
       " 'alt',\n",
       " 'az',\n",
       " 'cs',\n",
       " 'mu',\n",
       " 'p',\n",
       " 'u',\n",
       " 'temp',\n",
       " 'zeldovich_offset',\n",
       " 'aform',\n",
       " 'tform',\n",
       " 'iord_argsort',\n",
       " 'smooth',\n",
       " 'rho',\n",
       " 'eps',\n",
       " 'phi',\n",
       " 'pos',\n",
       " 'mass',\n",
       " 'vel']"
      ]
     },
     "execution_count": 29,
     "metadata": {},
     "output_type": "execute_result"
    }
   ],
   "source": [
    "sCDM.all_keys()"
   ]
  },
  {
   "cell_type": "code",
   "execution_count": 27,
   "id": "72f73ce4",
   "metadata": {},
   "outputs": [],
   "source": [
    "def makeGalQtyCSV(gal, startTS=0, export=True):\n",
    "    baseDir = '/data/REPOSITORY/e11Gals/romulus_dwarf_zooms'\n",
    "    galDir = baseDir+ '/r' + str(gal)+'.romulus25.3072g1HsbBH'\n",
    "\n",
    "    timesteps = glob.glob(galDir+'/r*.romulus25.3072g1HsbBH.0*')\n",
    "    timesteps.sort(reverse=True)\n",
    "    \n",
    "    if export:\n",
    "        # setup file for exporting values\n",
    "        outfile = '/home/jw1624/H1-merian/csvs/breathingModes/r'+str(gal)+'_qtys.txt'\n",
    "        if startTS == 0:\n",
    "            fout = open(outfile,'w')\n",
    "            fout.write('galaxyID,timestep,t,z,')\n",
    "            fout.write('M_star,R_halflight,R_halfmass,')\n",
    "            fout.write('sigma_gas,sigma_star,')\n",
    "            fout.write('SFR_10,SFR_100,sSFR_10,sSFR_100\\n')\n",
    "            fout.close()\n",
    "    \n",
    "    # iterate through each timestep\n",
    "    for timestep in timesteps[startTS:]:\n",
    "        print(timestep)\n",
    "        if export: fout = open(outfile, 'a')\n",
    "        tstepnumber = timestep[-6:]\n",
    "\n",
    "        # I'm assuming that if there's another subfolder, the sim is inside it\n",
    "\n",
    "        # try to find sim file in current folder\n",
    "        simFile = timestep+'/r'+str(gal)+'.romulus25.3072g1HsbBH.'+tstepnumber\n",
    "        # check if there's another folder\n",
    "        a=glob.glob(timestep+'/*')\n",
    "        if len(a)>0:\n",
    "            # find sim in folder\n",
    "            simFile = timestep+'/r'+str(gal)+'.romulus25.3072g1HsbBH.'+tstepnumber\n",
    "            #simFile+= '/r'+str(gal)+'.romulus25.3072g1HsbBH.'+tstepnumber\n",
    "            print(glob.glob(simFile)) \n",
    "            \n",
    "        #print(glob.glob(simFile))\n",
    "        # handle sim file not existing\n",
    "        if len(glob.glob(simFile)) == 0:\n",
    "            print('FNF for halo ' + str(gal) + ', timestep '+tstepnumber)\n",
    "            continue\n",
    "\n",
    "        # open simfile \n",
    "        sCDM = pynbody.load(simFile)\n",
    "\n",
    "        sCDM.physical_units()\n",
    "        \n",
    "        # SFR and sSFR (do first otherwise we sometimes get an error)\n",
    "        SFR_10  = sum(sCDM.s['mass'][sCDM.s['age'].in_units('Myr')<10])\n",
    "        SFR_100 = sum(sCDM.s['mass'][sCDM.s['age'].in_units('Myr')<100])\n",
    "        \n",
    "        hCDM = -1\n",
    "        try:\n",
    "            hCDM = sCDM.halos(write_fpos=False)[1]\n",
    "        except:\n",
    "            # center manually if missing halo; taken from pynbody source code\n",
    "            #print('HNF for halo ' + str(gal) + ', timestep '+str(tstepnumber))\n",
    "            i = sCDM['phi'].argmin()\n",
    "            cen_pot = sCDM['pos'][i].copy()\n",
    "            sCDM['pos'] -= cen_pot\n",
    "        else:\n",
    "            hCDM = sCDM.halos(write_fpos=False)[1]\n",
    "            cen_pot = pynbody.analysis.halo.center(hCDM, mode='pot', retcen=True)\n",
    "            sCDM['pos'] -= cen_pot\n",
    "            \n",
    "            pynbody.analysis.angmom.faceon(hCDM)\n",
    "\n",
    "        # get age of universe\n",
    "        uage = pynbody.analysis.cosmology.age(sCDM)\n",
    "        # get redshift\n",
    "        stepZ = pynbody.analysis.cosmology.redshift(sCDM, uage)\n",
    "\n",
    "        # Mass\n",
    "        mStar = sum(sCDM.s['mass'])\n",
    "\n",
    "        # Sizes\n",
    "        #rVir = pynbody.analysis.halo.virial_radius(sCDM)\n",
    "        rHL = pynbody.analysis.luminosity.half_light_r(sCDM)\n",
    "\n",
    "        rHM = halfMassRadius(sCDM, 0, 1, 0.1)\n",
    "        rHM = halfMassRadius(sCDM,rHM*0.85, 0.05, 0.01)\n",
    "\n",
    "        # velocity dispersion\n",
    "        sCDM.properties['boxsize'] = 3.0e4\n",
    "        sigma_gas = np.median(sCDM.g['v_disp'])\n",
    "        sigma_star= np.median(sCDM.s['v_disp'])\n",
    "\n",
    "        # sSFR\n",
    "        sSFR_10 = SFR_10/mStar\n",
    "        sSFR_100 = SFR_100/mStar\n",
    "\n",
    "        if export:\n",
    "            # write to file\n",
    "            fout.write(str(gal)+','+str(tstepnumber)+','+str(uage)+','+str(stepZ)+',')\n",
    "            #fout.write(str(mStar)+','+str(rVir)+','+str(rHL)+','+str(rHM)+',')\n",
    "            fout.write(str(mStar)+','+str(rHL)+','+str(rHM)+',')\n",
    "            fout.write(str(sigma_gas)+','+str(sigma_star)+',')\n",
    "            fout.write(str(SFR_10)+','+str(SFR_100)+','+str(sSFR_10)+','+str(sSFR_100)+'\\n')\n",
    "\n",
    "            fout.close()\n",
    "        print('r'+str(gal)+' '+str(tstepnumber)+' done')"
   ]
  },
  {
   "cell_type": "code",
   "execution_count": 28,
   "id": "f616ea56",
   "metadata": {},
   "outputs": [
    {
     "name": "stdout",
     "output_type": "stream",
     "text": [
      "/data/REPOSITORY/e11Gals/romulus_dwarf_zooms/r568.romulus25.3072g1HsbBH/r568.romulus25.3072g1HsbBH.004096\n",
      "['/data/REPOSITORY/e11Gals/romulus_dwarf_zooms/r568.romulus25.3072g1HsbBH/r568.romulus25.3072g1HsbBH.004096/r568.romulus25.3072g1HsbBH.004096']\n"
     ]
    },
    {
     "ename": "NameError",
     "evalue": "name 'halfMassRadius' is not defined",
     "output_type": "error",
     "traceback": [
      "\u001b[0;31m---------------------------------------------------------------------------\u001b[0m",
      "\u001b[0;31mNameError\u001b[0m                                 Traceback (most recent call last)",
      "Cell \u001b[0;32mIn[28], line 1\u001b[0m\n\u001b[0;32m----> 1\u001b[0m \u001b[43mmakeGalQtyCSV\u001b[49m\u001b[43m(\u001b[49m\u001b[38;5;241;43m568\u001b[39;49m\u001b[43m,\u001b[49m\u001b[43m \u001b[49m\u001b[43mexport\u001b[49m\u001b[38;5;241;43m=\u001b[39;49m\u001b[38;5;28;43;01mFalse\u001b[39;49;00m\u001b[43m)\u001b[49m\n",
      "Cell \u001b[0;32mIn[27], line 80\u001b[0m, in \u001b[0;36mmakeGalQtyCSV\u001b[0;34m(gal, startTS, export)\u001b[0m\n\u001b[1;32m     76\u001b[0m \u001b[38;5;66;03m# Sizes\u001b[39;00m\n\u001b[1;32m     77\u001b[0m \u001b[38;5;66;03m#rVir = pynbody.analysis.halo.virial_radius(sCDM)\u001b[39;00m\n\u001b[1;32m     78\u001b[0m rHL \u001b[38;5;241m=\u001b[39m pynbody\u001b[38;5;241m.\u001b[39manalysis\u001b[38;5;241m.\u001b[39mluminosity\u001b[38;5;241m.\u001b[39mhalf_light_r(sCDM)\n\u001b[0;32m---> 80\u001b[0m rHM \u001b[38;5;241m=\u001b[39m \u001b[43mhalfMassRadius\u001b[49m(sCDM, \u001b[38;5;241m0\u001b[39m, \u001b[38;5;241m1\u001b[39m, \u001b[38;5;241m0.1\u001b[39m)\n\u001b[1;32m     81\u001b[0m rHM \u001b[38;5;241m=\u001b[39m halfMassRadius(sCDM,rHM\u001b[38;5;241m*\u001b[39m\u001b[38;5;241m0.85\u001b[39m, \u001b[38;5;241m0.05\u001b[39m, \u001b[38;5;241m0.01\u001b[39m)\n\u001b[1;32m     83\u001b[0m \u001b[38;5;66;03m# velocity dispersion\u001b[39;00m\n",
      "\u001b[0;31mNameError\u001b[0m: name 'halfMassRadius' is not defined"
     ]
    }
   ],
   "source": [
    "makeGalQtyCSV(568, export=False)"
   ]
  },
  {
   "cell_type": "code",
   "execution_count": null,
   "id": "b7affd11",
   "metadata": {
    "scrolled": false
   },
   "outputs": [
    {
     "name": "stdout",
     "output_type": "stream",
     "text": [
      "r468 000069 done\n",
      "r468 000096 done\n",
      "r468 000105 done\n",
      "r468 000136 done\n",
      "r468 000186 done\n",
      "r468 000192 done\n",
      "r468 000223 done\n",
      "r468 000273 done\n",
      "r468 000288 done\n",
      "r468 000345 done\n",
      "r468 000384 done\n",
      "r468 000454 done\n",
      "r468 000480 done\n",
      "r468 000576 done\n",
      "r468 000635 done\n",
      "r468 000672 done\n",
      "r468 000768 done\n",
      "r468 000775 done\n",
      "r468 000864 done\n",
      "r468 000960 done\n",
      "r468 000972 done\n",
      "r468 001056 done\n",
      "r468 001104 done\n",
      "r468 001152 done\n",
      "r468 001248 done\n",
      "r468 001268 done\n",
      "r468 001344 done\n",
      "r468 001440 done\n",
      "r468 001474 done\n",
      "r468 001536 done\n",
      "r468 001632 done\n",
      "r468 001728 done\n",
      "r468 001739 done\n",
      "r468 001824 done\n",
      "r468 001920 done\n"
     ]
    }
   ],
   "source": [
    "for gal in currentGals[1:]:\n",
    "    makeGalQtyCSV(gal)"
   ]
  },
  {
   "cell_type": "markdown",
   "id": "ac944608",
   "metadata": {},
   "source": [
    "## Single Timestep Investigating"
   ]
  },
  {
   "cell_type": "code",
   "execution_count": 3,
   "id": "b52a4df3",
   "metadata": {},
   "outputs": [
    {
     "data": {
      "text/plain": [
       "['/data/REPOSITORY/e11Gals/romulus_dwarf_zooms/r431.romulus25.3072g1HsbBH/r431.romulus25.3072g1HsbBH.004096',\n",
       " '/data/REPOSITORY/e11Gals/romulus_dwarf_zooms/r431.romulus25.3072g1HsbBH/r431.romulus25.3072g1HsbBH.004032',\n",
       " '/data/REPOSITORY/e11Gals/romulus_dwarf_zooms/r431.romulus25.3072g1HsbBH/r431.romulus25.3072g1HsbBH.003936',\n",
       " '/data/REPOSITORY/e11Gals/romulus_dwarf_zooms/r431.romulus25.3072g1HsbBH/r431.romulus25.3072g1HsbBH.003840',\n",
       " '/data/REPOSITORY/e11Gals/romulus_dwarf_zooms/r431.romulus25.3072g1HsbBH/r431.romulus25.3072g1HsbBH.003744',\n",
       " '/data/REPOSITORY/e11Gals/romulus_dwarf_zooms/r431.romulus25.3072g1HsbBH/r431.romulus25.3072g1HsbBH.003648',\n",
       " '/data/REPOSITORY/e11Gals/romulus_dwarf_zooms/r431.romulus25.3072g1HsbBH/r431.romulus25.3072g1HsbBH.003606',\n",
       " '/data/REPOSITORY/e11Gals/romulus_dwarf_zooms/r431.romulus25.3072g1HsbBH/r431.romulus25.3072g1HsbBH.003552',\n",
       " '/data/REPOSITORY/e11Gals/romulus_dwarf_zooms/r431.romulus25.3072g1HsbBH/r431.romulus25.3072g1HsbBH.003456',\n",
       " '/data/REPOSITORY/e11Gals/romulus_dwarf_zooms/r431.romulus25.3072g1HsbBH/r431.romulus25.3072g1HsbBH.003360',\n",
       " '/data/REPOSITORY/e11Gals/romulus_dwarf_zooms/r431.romulus25.3072g1HsbBH/r431.romulus25.3072g1HsbBH.003264',\n",
       " '/data/REPOSITORY/e11Gals/romulus_dwarf_zooms/r431.romulus25.3072g1HsbBH/r431.romulus25.3072g1HsbBH.003195',\n",
       " '/data/REPOSITORY/e11Gals/romulus_dwarf_zooms/r431.romulus25.3072g1HsbBH/r431.romulus25.3072g1HsbBH.003168',\n",
       " '/data/REPOSITORY/e11Gals/romulus_dwarf_zooms/r431.romulus25.3072g1HsbBH/r431.romulus25.3072g1HsbBH.003072',\n",
       " '/data/REPOSITORY/e11Gals/romulus_dwarf_zooms/r431.romulus25.3072g1HsbBH/r431.romulus25.3072g1HsbBH.002976',\n",
       " '/data/REPOSITORY/e11Gals/romulus_dwarf_zooms/r431.romulus25.3072g1HsbBH/r431.romulus25.3072g1HsbBH.002880',\n",
       " '/data/REPOSITORY/e11Gals/romulus_dwarf_zooms/r431.romulus25.3072g1HsbBH/r431.romulus25.3072g1HsbBH.002784',\n",
       " '/data/REPOSITORY/e11Gals/romulus_dwarf_zooms/r431.romulus25.3072g1HsbBH/r431.romulus25.3072g1HsbBH.002688',\n",
       " '/data/REPOSITORY/e11Gals/romulus_dwarf_zooms/r431.romulus25.3072g1HsbBH/r431.romulus25.3072g1HsbBH.002592',\n",
       " '/data/REPOSITORY/e11Gals/romulus_dwarf_zooms/r431.romulus25.3072g1HsbBH/r431.romulus25.3072g1HsbBH.002554',\n",
       " '/data/REPOSITORY/e11Gals/romulus_dwarf_zooms/r431.romulus25.3072g1HsbBH/r431.romulus25.3072g1HsbBH.002496',\n",
       " '/data/REPOSITORY/e11Gals/romulus_dwarf_zooms/r431.romulus25.3072g1HsbBH/r431.romulus25.3072g1HsbBH.002400',\n",
       " '/data/REPOSITORY/e11Gals/romulus_dwarf_zooms/r431.romulus25.3072g1HsbBH/r431.romulus25.3072g1HsbBH.002304',\n",
       " '/data/REPOSITORY/e11Gals/romulus_dwarf_zooms/r431.romulus25.3072g1HsbBH/r431.romulus25.3072g1HsbBH.002208',\n",
       " '/data/REPOSITORY/e11Gals/romulus_dwarf_zooms/r431.romulus25.3072g1HsbBH/r431.romulus25.3072g1HsbBH.002112',\n",
       " '/data/REPOSITORY/e11Gals/romulus_dwarf_zooms/r431.romulus25.3072g1HsbBH/r431.romulus25.3072g1HsbBH.002087',\n",
       " '/data/REPOSITORY/e11Gals/romulus_dwarf_zooms/r431.romulus25.3072g1HsbBH/r431.romulus25.3072g1HsbBH.002016',\n",
       " '/data/REPOSITORY/e11Gals/romulus_dwarf_zooms/r431.romulus25.3072g1HsbBH/r431.romulus25.3072g1HsbBH.001920',\n",
       " '/data/REPOSITORY/e11Gals/romulus_dwarf_zooms/r431.romulus25.3072g1HsbBH/r431.romulus25.3072g1HsbBH.001824',\n",
       " '/data/REPOSITORY/e11Gals/romulus_dwarf_zooms/r431.romulus25.3072g1HsbBH/r431.romulus25.3072g1HsbBH.001739',\n",
       " '/data/REPOSITORY/e11Gals/romulus_dwarf_zooms/r431.romulus25.3072g1HsbBH/r431.romulus25.3072g1HsbBH.001728',\n",
       " '/data/REPOSITORY/e11Gals/romulus_dwarf_zooms/r431.romulus25.3072g1HsbBH/r431.romulus25.3072g1HsbBH.001632',\n",
       " '/data/REPOSITORY/e11Gals/romulus_dwarf_zooms/r431.romulus25.3072g1HsbBH/r431.romulus25.3072g1HsbBH.001536',\n",
       " '/data/REPOSITORY/e11Gals/romulus_dwarf_zooms/r431.romulus25.3072g1HsbBH/r431.romulus25.3072g1HsbBH.001474',\n",
       " '/data/REPOSITORY/e11Gals/romulus_dwarf_zooms/r431.romulus25.3072g1HsbBH/r431.romulus25.3072g1HsbBH.001440',\n",
       " '/data/REPOSITORY/e11Gals/romulus_dwarf_zooms/r431.romulus25.3072g1HsbBH/r431.romulus25.3072g1HsbBH.001344',\n",
       " '/data/REPOSITORY/e11Gals/romulus_dwarf_zooms/r431.romulus25.3072g1HsbBH/r431.romulus25.3072g1HsbBH.001268',\n",
       " '/data/REPOSITORY/e11Gals/romulus_dwarf_zooms/r431.romulus25.3072g1HsbBH/r431.romulus25.3072g1HsbBH.001248',\n",
       " '/data/REPOSITORY/e11Gals/romulus_dwarf_zooms/r431.romulus25.3072g1HsbBH/r431.romulus25.3072g1HsbBH.001152',\n",
       " '/data/REPOSITORY/e11Gals/romulus_dwarf_zooms/r431.romulus25.3072g1HsbBH/r431.romulus25.3072g1HsbBH.001104',\n",
       " '/data/REPOSITORY/e11Gals/romulus_dwarf_zooms/r431.romulus25.3072g1HsbBH/r431.romulus25.3072g1HsbBH.001056',\n",
       " '/data/REPOSITORY/e11Gals/romulus_dwarf_zooms/r431.romulus25.3072g1HsbBH/r431.romulus25.3072g1HsbBH.000972',\n",
       " '/data/REPOSITORY/e11Gals/romulus_dwarf_zooms/r431.romulus25.3072g1HsbBH/r431.romulus25.3072g1HsbBH.000960',\n",
       " '/data/REPOSITORY/e11Gals/romulus_dwarf_zooms/r431.romulus25.3072g1HsbBH/r431.romulus25.3072g1HsbBH.000864',\n",
       " '/data/REPOSITORY/e11Gals/romulus_dwarf_zooms/r431.romulus25.3072g1HsbBH/r431.romulus25.3072g1HsbBH.000775',\n",
       " '/data/REPOSITORY/e11Gals/romulus_dwarf_zooms/r431.romulus25.3072g1HsbBH/r431.romulus25.3072g1HsbBH.000768',\n",
       " '/data/REPOSITORY/e11Gals/romulus_dwarf_zooms/r431.romulus25.3072g1HsbBH/r431.romulus25.3072g1HsbBH.000672',\n",
       " '/data/REPOSITORY/e11Gals/romulus_dwarf_zooms/r431.romulus25.3072g1HsbBH/r431.romulus25.3072g1HsbBH.000635',\n",
       " '/data/REPOSITORY/e11Gals/romulus_dwarf_zooms/r431.romulus25.3072g1HsbBH/r431.romulus25.3072g1HsbBH.000576',\n",
       " '/data/REPOSITORY/e11Gals/romulus_dwarf_zooms/r431.romulus25.3072g1HsbBH/r431.romulus25.3072g1HsbBH.000480',\n",
       " '/data/REPOSITORY/e11Gals/romulus_dwarf_zooms/r431.romulus25.3072g1HsbBH/r431.romulus25.3072g1HsbBH.000454']"
      ]
     },
     "execution_count": 3,
     "metadata": {},
     "output_type": "execute_result"
    }
   ],
   "source": [
    "gal = currentGals[0]\n",
    "\n",
    "baseDir = '/data/REPOSITORY/e11Gals/romulus_dwarf_zooms'\n",
    "galDir = baseDir+ '/r' + str(gal)+'.romulus25.3072g1HsbBH'\n",
    "\n",
    "timesteps = glob.glob(galDir+'/r*.romulus25.3072g1HsbBH.0*')\n",
    "timesteps.sort(reverse=True)\n",
    "timesteps"
   ]
  },
  {
   "cell_type": "code",
   "execution_count": 19,
   "id": "6479d948",
   "metadata": {},
   "outputs": [
    {
     "name": "stderr",
     "output_type": "stream",
     "text": [
      "/home/jw1624/miniconda3/lib/python3.9/site-packages/pynbody/snapshot/tipsy.py:124: RuntimeWarning: No readable param file in the run directory or parent directory: using defaults.\n",
      "  warnings.warn(\n"
     ]
    }
   ],
   "source": [
    "timestep = timesteps[-13]\n",
    "tstepnumber = timestep[-6:]\n",
    "\n",
    "# try to find sim file in current folder\n",
    "simFile = timestep+'/r'+str(gal)+'.romulus25.3072g1HsbBH.'+tstepnumber\n",
    "# check if there's another folder\n",
    "a=glob.glob(timestep+'/*/*')\n",
    "if len(a)>0:\n",
    "    # find sim in folder\n",
    "    simFile = timestep+'/r'+str(gal)+'.romulus25.3072g1HsbBH.'+tstepnumber\n",
    "    simFile+= '/r'+str(gal)+'.romulus25.3072g1HsbBH.'+tstepnumber\n",
    "    #print(glob.glob(simFile)) \n",
    "\n",
    "#print(glob.glob(simFile))\n",
    "# handle sim file not existing\n",
    "if len(glob.glob(simFile)) == 0:\n",
    "    print('FNF for halo ' + str(gal) + ', timestep '+tstepnumber)\n",
    "\n",
    "# open simfile \n",
    "sCDM = pynbody.load(simFile)\n",
    "\n",
    "sCDM.physical_units()\n",
    "\n",
    "# SFR and sSFR (do first otherwise we sometimes get an error)\n",
    "SFR_10  = sum(sCDM.s['mass'][sCDM.s['age'].in_units('Myr')<10])\n",
    "SFR_100 = sum(sCDM.s['mass'][sCDM.s['age'].in_units('Myr')<100])\n",
    "\n",
    "hCDM = -1"
   ]
  },
  {
   "cell_type": "code",
   "execution_count": 20,
   "id": "63f155aa",
   "metadata": {},
   "outputs": [
    {
     "name": "stdout",
     "output_type": "stream",
     "text": [
      "doing manual centering\n"
     ]
    }
   ],
   "source": [
    "hCDM = -1\n",
    "try:\n",
    "    hCDM = sCDM.halos(write_fpos=False)[1]\n",
    "except:\n",
    "    # center manually if missing halo; taken from pynbody source code\n",
    "    #print('HNF for halo ' + str(gal) + ', timestep '+str(tstepnumber))\n",
    "    print('doing manual centering')\n",
    "    i = sCDM['phi'].argmin()\n",
    "    cen_pot = sCDM['pos'][i].copy()\n",
    "    sCDM['pos'] -= cen_pot\n",
    "else:\n",
    "    hCDM = sCDM.halos(write_fpos=False)[1]\n",
    "    cen_pot = pynbody.analysis.halo.center(hCDM, mode='pot', retcen=True)\n",
    "    sCDM['pos'] -= cen_pot\n",
    "\n",
    "    pynbody.analysis.angmom.faceon(hCDM)"
   ]
  },
  {
   "cell_type": "code",
   "execution_count": 22,
   "id": "4386efc5",
   "metadata": {},
   "outputs": [
    {
     "name": "stderr",
     "output_type": "stream",
     "text": [
      "/home/jw1624/miniconda3/lib/python3.9/site-packages/pynbody/simdict.py:92: RuntimeWarning: Assuming default value for property 'a'=1.00e+00\n",
      "  warnings.warn(\"Assuming default value for property '{}'={:.2e}\".format(\n",
      "/home/jw1624/miniconda3/lib/python3.9/site-packages/pynbody/simdict.py:92: RuntimeWarning: Assuming default value for property 'h'=6.78e-01\n",
      "  warnings.warn(\"Assuming default value for property '{}'={:.2e}\".format(\n",
      "/home/jw1624/miniconda3/lib/python3.9/site-packages/pynbody/simdict.py:92: RuntimeWarning: Assuming default value for property 'omegaM0'=3.09e-01\n",
      "  warnings.warn(\"Assuming default value for property '{}'={:.2e}\".format(\n",
      "/home/jw1624/miniconda3/lib/python3.9/site-packages/pynbody/simdict.py:92: RuntimeWarning: Assuming default value for property 'omegaL0'=6.91e-01\n",
      "  warnings.warn(\"Assuming default value for property '{}'={:.2e}\".format(\n"
     ]
    }
   ],
   "source": [
    "# get age of universe\n",
    "uage = pynbody.analysis.cosmology.age(sCDM)\n",
    "# get redshift\n",
    "stepZ = pynbody.analysis.cosmology.redshift(sCDM, uage)\n",
    "\n",
    "# Mass\n",
    "mStar = sum(sCDM.s['mass'])\n",
    "\n",
    "# Sizes\n",
    "#rVir = pynbody.analysis.halo.virial_radius(sCDM)\n",
    "rHL = pynbody.analysis.luminosity.half_light_r(sCDM)"
   ]
  },
  {
   "cell_type": "code",
   "execution_count": 23,
   "id": "0ac085dd",
   "metadata": {},
   "outputs": [
    {
     "data": {
      "text/plain": [
       "SimArray(0.34249912, 'kpc')"
      ]
     },
     "execution_count": 23,
     "metadata": {},
     "output_type": "execute_result"
    }
   ],
   "source": [
    "rHL"
   ]
  },
  {
   "cell_type": "code",
   "execution_count": 24,
   "id": "744076c0",
   "metadata": {},
   "outputs": [
    {
     "data": {
      "text/plain": [
       "'001152'"
      ]
     },
     "execution_count": 24,
     "metadata": {},
     "output_type": "execute_result"
    }
   ],
   "source": [
    "tstepnumber"
   ]
  },
  {
   "cell_type": "code",
   "execution_count": 26,
   "id": "b1804106",
   "metadata": {},
   "outputs": [
    {
     "data": {
      "text/plain": [
       "13.795660358777317"
      ]
     },
     "execution_count": 26,
     "metadata": {},
     "output_type": "execute_result"
    }
   ],
   "source": [
    "uage"
   ]
  },
  {
   "cell_type": "code",
   "execution_count": null,
   "id": "f4316b3d",
   "metadata": {},
   "outputs": [],
   "source": []
  },
  {
   "cell_type": "markdown",
   "id": "f1448c3b",
   "metadata": {},
   "source": [
    "## Morphology"
   ]
  },
  {
   "cell_type": "code",
   "execution_count": 18,
   "id": "c1168112",
   "metadata": {},
   "outputs": [
    {
     "data": {
      "text/plain": [
       "array([431, 442, 468, 492, 502, 515, 523, 556, 568, 569, 571, 597, 613,\n",
       "       615, 618, 634])"
      ]
     },
     "execution_count": 18,
     "metadata": {},
     "output_type": "execute_result"
    }
   ],
   "source": [
    "currentGals"
   ]
  },
  {
   "cell_type": "code",
   "execution_count": null,
   "id": "d823b0a9",
   "metadata": {
    "scrolled": true
   },
   "outputs": [],
   "source": [
    "gal = currentGals[4]\n",
    "\n",
    "baseDir = '/data/REPOSITORY/e11Gals/romulus_dwarf_zooms'\n",
    "galDir = baseDir+ '/r' + str(gal)+'.romulus25.3072g1HsbBH'\n",
    "\n",
    "timesteps = glob.glob(galDir+'/r*.romulus25.3072g1HsbBH.0*')\n",
    "timesteps.sort(reverse=True)\n",
    "\n",
    "tsfile = glob.glob(timesteps[0]+'/r*.004096')[0]\n",
    "\n",
    "sCDM = pynbody.load(tsfile)\n",
    "sCDM.physical_units()\n",
    "\n",
    "hCDM = sCDM.halos(write_fpos=False)[1]\n",
    "cen_pot = pynbody.analysis.halo.center(hCDM, mode='pot', retcen=True)\n",
    "sCDM['pos'] -= cen_pot\n",
    "\n",
    "rbin, ba, ca, angle, es = pynbody.analysis.halo.halo_shape(sCDM, rout=3000)"
   ]
  },
  {
   "cell_type": "code",
   "execution_count": 28,
   "id": "17429631",
   "metadata": {},
   "outputs": [
    {
     "data": {
      "text/plain": [
       "SimArray([   3.65128404,    4.92348196,    6.17162106,    7.44625879,\n",
       "             8.73715773,   10.05640333,   11.40470808,   12.75711929,\n",
       "            14.09458996,   15.44143424,   16.82863793,   18.23513618,\n",
       "            19.67272543,   21.15802659,   22.69496853,   24.3049072 ,\n",
       "            25.99377652,   27.7805288 ,   29.61457701,   31.51695108,\n",
       "            33.52779934,   35.65958829,   37.9409233 ,   40.36014773,\n",
       "            42.91915231,   45.70382439,   48.58034242,   51.40381521,\n",
       "            53.92287936,   56.00410913,   58.83668957,   62.04248467,\n",
       "            65.48160465,   69.21034312,   73.02642657,   76.89879814,\n",
       "            81.08432906,   85.89755542,   90.94210401,   96.01288974,\n",
       "           101.28385697,  105.49492398,  109.81037644,  115.47797798,\n",
       "           121.79093823,  128.99946913,  136.61316806,  144.03620786,\n",
       "           154.88816611,  169.06028228,  189.92222479,  220.72207706,\n",
       "           259.81640777,  299.04707298,  336.30835878,  353.81606747,\n",
       "           361.29540667,  378.31916477,  394.18271944,  402.46951787,\n",
       "           408.04170343,  420.98447788,  434.66404307,  440.23324062,\n",
       "           451.90129868,  481.20043635,  506.5651475 ,  535.63229478,\n",
       "           563.28701583,  607.48780087,  658.01606908,  703.39439699,\n",
       "           748.729868  ,  786.85376033,  826.06053257,  865.26674218,\n",
       "           898.65041653,  932.64472684,  966.71283649,  993.81239285,\n",
       "          1034.22853122, 1063.70059602, 1080.03647391, 1090.61781067,\n",
       "          1102.732941  , 1118.5594218 , 1127.4740636 , 1138.51896303,\n",
       "          1162.92136296, 1201.21939075, 1244.2744868 , 1295.31420493,\n",
       "          1354.31140389, 1433.32273408, 1503.64757849, 1592.94531506,\n",
       "          1639.97147875, 1669.98664836, 1783.22876743, 2044.69189638], 'kpc')"
      ]
     },
     "execution_count": 28,
     "metadata": {},
     "output_type": "execute_result"
    }
   ],
   "source": [
    "rbin"
   ]
  },
  {
   "cell_type": "code",
   "execution_count": 25,
   "id": "80ca432f",
   "metadata": {},
   "outputs": [
    {
     "data": {
      "text/plain": [
       "array([0.85593192, 0.80864472, 0.9277601 , 0.95461281, 0.89110359,\n",
       "       0.83486476, 0.91785399, 0.92944384, 0.9235308 , 0.88923224,\n",
       "       0.87438289, 0.88078574, 0.84508714, 0.84757659, 0.84313892,\n",
       "       0.80196243, 0.86392326, 0.90623395, 0.88376655, 0.86750295,\n",
       "       0.84565018, 0.85110502, 0.86431641, 0.84768101, 0.86032192,\n",
       "       0.84633037, 0.81430917, 0.89216839, 0.86002118, 0.84686817,\n",
       "       0.85735049, 0.84787665, 0.82702096, 0.81057682, 0.79414357,\n",
       "       0.84356385, 0.82310963, 0.8427583 , 0.87067764, 0.84949869,\n",
       "       0.84065853, 0.82478994, 0.90584501, 0.81641579, 0.88186024,\n",
       "       0.87509937, 0.86413633, 0.86969128, 0.86276326, 0.87412717,\n",
       "       0.86328024, 0.86930341, 0.88738414, 0.82638363, 0.86078381,\n",
       "       0.87311427, 0.86199055, 0.90966391, 0.89465318, 0.88637089,\n",
       "       0.87663747, 0.86336321, 0.88315141, 0.89134171, 0.88746208,\n",
       "       0.86536941, 0.86172792, 0.88324335, 0.87426751, 0.89433368,\n",
       "       0.90018756, 0.88644179, 0.88162667, 0.89424481, 0.87093812,\n",
       "       0.89759007, 0.86415836, 0.86920697, 0.87399618, 0.84951725,\n",
       "       0.86997704, 0.87239486, 0.88312827, 0.8835041 , 0.87122383,\n",
       "       0.86607458, 0.88413452, 0.85906767, 0.86224612, 0.86866732,\n",
       "       0.87568297, 0.86395917, 0.88248085, 0.89149854, 0.87518244,\n",
       "       0.86786722, 0.88097381, 0.89252308, 0.89544096, 0.87819538])"
      ]
     },
     "execution_count": 25,
     "metadata": {},
     "output_type": "execute_result"
    }
   ],
   "source": [
    "ba"
   ]
  },
  {
   "cell_type": "code",
   "execution_count": 26,
   "id": "0c2e6486",
   "metadata": {},
   "outputs": [
    {
     "data": {
      "text/plain": [
       "array([0.59606209, 0.5578977 , 0.69985352, 0.66540588, 0.6053815 ,\n",
       "       0.62253327, 0.68666494, 0.6500542 , 0.67193296, 0.63248289,\n",
       "       0.58765051, 0.60514927, 0.5606659 , 0.59890724, 0.58682929,\n",
       "       0.5905535 , 0.57313959, 0.55203692, 0.62338292, 0.61302172,\n",
       "       0.59319535, 0.59819565, 0.5929943 , 0.5720151 , 0.58247079,\n",
       "       0.58570489, 0.55146611, 0.618324  , 0.57889329, 0.56366438,\n",
       "       0.572559  , 0.5871577 , 0.58082747, 0.56434246, 0.55330229,\n",
       "       0.55574226, 0.56071168, 0.58921136, 0.5832583 , 0.57376104,\n",
       "       0.56990545, 0.56337533, 0.56575251, 0.54489762, 0.55765041,\n",
       "       0.56671096, 0.54746974, 0.56215252, 0.56463468, 0.56072786,\n",
       "       0.55406881, 0.56432458, 0.57363377, 0.54135875, 0.54077259,\n",
       "       0.55169856, 0.54522458, 0.58121129, 0.57685323, 0.5595806 ,\n",
       "       0.57180294, 0.55255084, 0.56340093, 0.5843154 , 0.57026257,\n",
       "       0.56428984, 0.56228131, 0.56597601, 0.57882084, 0.58011069,\n",
       "       0.57625454, 0.57009008, 0.56486528, 0.56430879, 0.56808424,\n",
       "       0.58206117, 0.55901923, 0.55763053, 0.55537196, 0.54770102,\n",
       "       0.56673738, 0.56113316, 0.55826274, 0.54888004, 0.54314963,\n",
       "       0.5488013 , 0.55096782, 0.54913452, 0.55691707, 0.53581795,\n",
       "       0.54054501, 0.5472889 , 0.54187104, 0.55520427, 0.53017939,\n",
       "       0.5374272 , 0.54642664, 0.56293505, 0.55042536, 0.54889982])"
      ]
     },
     "execution_count": 26,
     "metadata": {},
     "output_type": "execute_result"
    }
   ],
   "source": [
    "ca"
   ]
  },
  {
   "cell_type": "code",
   "execution_count": 24,
   "id": "dd4569ec",
   "metadata": {},
   "outputs": [
    {
     "data": {
      "text/plain": [
       "(array([2.71407619e-04, 2.14286856e-05, 7.66519145e-06, 3.89188949e-05,\n",
       "        2.12487322e-05, 1.23132540e-05, 6.22960451e-06, 4.41423260e-06,\n",
       "        5.05536305e-07, 1.39871705e-08]),\n",
       " array([    0.        ,  2603.17869713,  5206.35739426,  7809.53609139,\n",
       "        10412.71478851, 13015.89348564, 15619.07218277, 18222.2508799 ,\n",
       "        20825.42957703, 23428.60827416, 26031.78697129]),\n",
       " <BarContainer object of 10 artists>)"
      ]
     },
     "execution_count": 24,
     "metadata": {},
     "output_type": "execute_result"
    },
    {
     "data": {
      "image/png": "[encoded data removed]",
      "text/plain": [
       "<Figure size 432x288 with 1 Axes>"
      ]
     },
     "metadata": {
      "needs_background": "light"
     },
     "output_type": "display_data"
    }
   ],
   "source": [
    "radii = np.linalg.norm(sCDM['pos'], axis=1)\n",
    "plt.hist(radii, density=True)"
   ]
  },
  {
   "cell_type": "code",
   "execution_count": 25,
   "id": "64fe65b9",
   "metadata": {},
   "outputs": [
    {
     "data": {
      "text/plain": [
       "SimArray([[-2.77027935e+03, -2.57217325e+01, -8.97652283e+02],\n",
       "          [-1.74130201e+03,  2.56881490e+02,  4.89775091e+01],\n",
       "          [-1.46816969e+03, -1.15299784e+02, -2.15330720e+02],\n",
       "          ...,\n",
       "          [ 5.36199659e+00,  6.28018752e+00,  1.02818012e-01],\n",
       "          [ 3.50195915e+00,  1.87512487e+00,  8.31671059e+00],\n",
       "          [ 4.03784215e+00,  9.03941691e-01,  8.87066126e+00]], 'kpc')"
      ]
     },
     "execution_count": 25,
     "metadata": {},
     "output_type": "execute_result"
    }
   ],
   "source": [
    "sCDM['pos']"
   ]
  },
  {
   "cell_type": "code",
   "execution_count": null,
   "id": "e76d9dad",
   "metadata": {},
   "outputs": [],
   "source": []
  }
 ],
 "metadata": {
  "kernelspec": {
   "display_name": "Python 3",
   "language": "python",
   "name": "python3"
  },
  "language_info": {
   "codemirror_mode": {
    "name": "ipython",
    "version": 3
   },
   "file_extension": ".py",
   "mimetype": "text/x-python",
   "name": "python",
   "nbconvert_exporter": "python",
   "pygments_lexer": "ipython3",
   "version": "3.9.12"
  }
 },
 "nbformat": 4,
 "nbformat_minor": 5
}
