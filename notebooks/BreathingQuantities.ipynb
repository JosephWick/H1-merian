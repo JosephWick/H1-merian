{
 "cells": [
  {
   "cell_type": "code",
   "execution_count": 18,
   "id": "ac9d6862",
   "metadata": {},
   "outputs": [],
   "source": [
    "import pynbody\n",
    "import glob\n",
    "\n",
    "import numpy as np\n",
    "\n",
    "import matplotlib.pyplot as plt\n",
    "\n",
    "import sys\n",
    "sys.path.insert(0, '../util/')\n",
    "from util import util"
   ]
  },
  {
   "cell_type": "markdown",
   "id": "4cf3a7e7",
   "metadata": {},
   "source": [
    "## Get Our Galaxies"
   ]
  },
  {
   "cell_type": "code",
   "execution_count": 19,
   "id": "972e1db2",
   "metadata": {},
   "outputs": [],
   "source": [
    "currentGals = util.getGalaxies()[0]"
   ]
  },
  {
   "cell_type": "markdown",
   "id": "2aaab180",
   "metadata": {},
   "source": [
    "## Lookback Time and Redshift"
   ]
  },
  {
   "cell_type": "code",
   "execution_count": 20,
   "id": "632fbc88",
   "metadata": {},
   "outputs": [],
   "source": [
    "gal = currentGals[0]\n",
    "cdmFile = util.getfilepath(gal)[0]+ '/r'+str(gal)+'.romulus25.3072g1HsbBH.004096'\n",
    "\n",
    "sCDM = pynbody.load(cdmFile)\n",
    "sCDM.physical_units()\n",
    "\n",
    "hCDM = sCDM.halos(write_fpos=False)[1]\n",
    "\n",
    "pynbody.analysis.angmom.faceon(hCDM)\n",
    "\n",
    "cen_pot = pynbody.analysis.halo.center(hCDM, mode='pot', retcen=True)\n",
    "sCDM['pos'] -= cen_pot"
   ]
  },
  {
   "cell_type": "code",
   "execution_count": 21,
   "id": "63fb641a",
   "metadata": {},
   "outputs": [],
   "source": [
    "#sCDM.properties['boxsize'] = 2.5e4"
   ]
  },
  {
   "cell_type": "code",
   "execution_count": 22,
   "id": "f41e2521",
   "metadata": {},
   "outputs": [
    {
     "data": {
      "text/plain": [
       "Unit(\"2.50e+04 kpc\")"
      ]
     },
     "execution_count": 22,
     "metadata": {},
     "output_type": "execute_result"
    }
   ],
   "source": [
    "sCDM.properties['boxsize']"
   ]
  },
  {
   "cell_type": "code",
   "execution_count": 23,
   "id": "d766a458",
   "metadata": {},
   "outputs": [
    {
     "data": {
      "text/plain": [
       "13.800820457603765"
      ]
     },
     "execution_count": 23,
     "metadata": {},
     "output_type": "execute_result"
    }
   ],
   "source": [
    "pynbody.analysis.cosmology.age(sCDM)"
   ]
  },
  {
   "cell_type": "markdown",
   "id": "0eb75ce9",
   "metadata": {},
   "source": [
    "## Half Mass Radius (Stellar Mass)\n",
    "\n",
    "Call the function twice for an accurate measurement. First with coarse steps and low accuracy and then again with finer steps and accuracy using 90% of the first measurement as a starting point"
   ]
  },
  {
   "cell_type": "code",
   "execution_count": 24,
   "id": "16eed9a3",
   "metadata": {},
   "outputs": [],
   "source": [
    "# input: a simulation \n",
    "# output: half mass radius of that simulation\n",
    "def halfMassRadius(sim, startR, incBy, acc):\n",
    "    pRadii = np.array(sim.s['r'])\n",
    "    pMass = np.array(sim.s['mass'])\n",
    "    mTot = sum(pMass)\n",
    "    \n",
    "    # start at 5 kpc and increment\n",
    "    r = startR-incBy\n",
    "    hm = mTot\n",
    "    while(hm < (0.50-acc)*mTot or hm > (0.5+acc)*mTot):\n",
    "        r += incBy\n",
    "        hm = sum(pMass[pRadii < r])\n",
    "        \n",
    "        if (r>max(pRadii)):\n",
    "            return -1\n",
    "        \n",
    "    return r"
   ]
  },
  {
   "cell_type": "code",
   "execution_count": 25,
   "id": "45362498",
   "metadata": {},
   "outputs": [
    {
     "data": {
      "text/plain": [
       "3"
      ]
     },
     "execution_count": 25,
     "metadata": {},
     "output_type": "execute_result"
    }
   ],
   "source": [
    "halfMassRadius(sCDM, 0, 1, 0.1)"
   ]
  },
  {
   "cell_type": "code",
   "execution_count": 26,
   "id": "d1b043dd",
   "metadata": {},
   "outputs": [
    {
     "data": {
      "text/plain": [
       "2.849999999999997"
      ]
     },
     "execution_count": 26,
     "metadata": {},
     "output_type": "execute_result"
    }
   ],
   "source": [
    "halfMassRadius(sCDM,2,0.05,0.01)"
   ]
  },
  {
   "cell_type": "markdown",
   "id": "90c58951",
   "metadata": {},
   "source": [
    "## sigma_gas\n",
    "From Hirtenstein (2019): HII regions within 100 PC of young stars (10MYR); calculate density weghted dispersion. Median over 100 lines of sight "
   ]
  },
  {
   "cell_type": "code",
   "execution_count": 27,
   "id": "4478d681",
   "metadata": {},
   "outputs": [
    {
     "data": {
      "text/plain": [
       "SimArray([5.e-13, 5.e-13, 5.e-13, ..., 0.e+00, 0.e+00, 0.e+00],\n",
       "         dtype=float32)"
      ]
     },
     "execution_count": 27,
     "metadata": {},
     "output_type": "execute_result"
    }
   ],
   "source": [
    "sCDM['H2']"
   ]
  },
  {
   "cell_type": "code",
   "execution_count": 28,
   "id": "73557288",
   "metadata": {},
   "outputs": [
    {
     "data": {
      "text/plain": [
       "SimArray([[ 1.64062444e+03, -1.74213870e+03, -1.65957617e+03],\n",
       "          [ 4.42786370e+02, -1.02821935e+03, -1.35912648e+03],\n",
       "          [ 6.19598084e+02, -1.04668156e+03, -8.57752596e+02],\n",
       "          ...,\n",
       "          [-1.60686801e+00,  8.04683085e+00, -9.32106562e-01],\n",
       "          [-8.96595639e+00,  2.03968476e+00, -6.31504702e-01],\n",
       "          [-9.64827340e+00,  1.61920923e+00,  3.14472328e-01]], 'kpc')"
      ]
     },
     "execution_count": 28,
     "metadata": {},
     "output_type": "execute_result"
    }
   ],
   "source": [
    "sCDM['pos']"
   ]
  },
  {
   "cell_type": "code",
   "execution_count": 29,
   "id": "0d59b7db",
   "metadata": {},
   "outputs": [
    {
     "data": {
      "text/plain": [
       "2772"
      ]
     },
     "execution_count": 29,
     "metadata": {},
     "output_type": "execute_result"
    }
   ],
   "source": [
    "len(sCDM.s['pos'][sCDM.s['age'].in_units('Myr')<10])"
   ]
  },
  {
   "cell_type": "code",
   "execution_count": 30,
   "id": "22e685f5",
   "metadata": {},
   "outputs": [],
   "source": [
    "youngstarPos = sCDM.s['pos'][sCDM.s['age'].in_units('Myr')<10]\n",
    "HIIpos = sCDM.g['pos']"
   ]
  },
  {
   "cell_type": "code",
   "execution_count": 31,
   "id": "52e00b5d",
   "metadata": {},
   "outputs": [
    {
     "data": {
      "text/plain": [
       "SimArray([ 7.63956096e-01,  7.63957387e-01,  7.63991614e-01, ...,\n",
       "          -1.73698522e-09,  5.29173979e-01, -1.57068238e-08])"
      ]
     },
     "execution_count": 31,
     "metadata": {},
     "output_type": "execute_result"
    }
   ],
   "source": [
    "pynbody.snapshot.tipsy.HII(sCDM.g)"
   ]
  },
  {
   "cell_type": "code",
   "execution_count": 44,
   "id": "6e16fae0",
   "metadata": {},
   "outputs": [
    {
     "data": {
      "text/plain": [
       "<matplotlib.colorbar.Colorbar at 0x7facfab41520>"
      ]
     },
     "execution_count": 44,
     "metadata": {},
     "output_type": "execute_result"
    },
    {
     "data": {
      "image/png": "[encoded data removed]",
      "text/plain": [
       "<Figure size 432x288 with 2 Axes>"
      ]
     },
     "metadata": {
      "needs_background": "light"
     },
     "output_type": "display_data"
    }
   ],
   "source": [
    "# contour to find HII regions\n",
    "x = sCDM.g['pos'][:,0]\n",
    "y = sCDM.g['pos'][:,1]\n",
    "z = sCDM.g['pos'][:,2]\n",
    "\n",
    "poslim = 1000\n",
    "\n",
    "hii = sCDM.g['HII'][abs(x)<poslim]\n",
    "z = z[abs(x)<poslim]\n",
    "y = y[abs(x)<poslim]\n",
    "x = x[abs(x)<poslim]\n",
    "\n",
    "hii = hii[abs(y)<poslim]\n",
    "z = z[abs(y)<poslim]\n",
    "x = x[abs(y)<poslim]\n",
    "y = y[abs(y)<poslim]\n",
    "\n",
    "hii = hii[abs(z)<poslim]\n",
    "x = x[abs(z)<poslim]\n",
    "y = y[abs(z)<poslim]\n",
    "z = z[abs(z)<poslim]\n",
    "\n",
    "trc = plt.tricontour(x,y,hii)\n",
    "plt.colorbar()"
   ]
  },
  {
   "cell_type": "code",
   "execution_count": 47,
   "id": "5b505dd7",
   "metadata": {},
   "outputs": [
    {
     "data": {
      "text/plain": [
       "<matplotlib.colorbar.Colorbar at 0x7fac29dae850>"
      ]
     },
     "execution_count": 47,
     "metadata": {},
     "output_type": "execute_result"
    },
    {
     "data": {
      "image/png": "[encoded data removed]",
      "text/plain": [
       "<Figure size 432x288 with 2 Axes>"
      ]
     },
     "metadata": {
      "needs_background": "light"
     },
     "output_type": "display_data"
    }
   ],
   "source": [
    "# contour gas mass \n",
    "x = sCDM.g['pos'][:,0]\n",
    "y = sCDM.g['pos'][:,1]\n",
    "z = sCDM.g['pos'][:,2]\n",
    "\n",
    "gmass = sCDM.g['mass']\n",
    "\n",
    "plt.tricontour(x,y,gmass)\n",
    "plt.colorbar()"
   ]
  },
  {
   "cell_type": "code",
   "execution_count": 35,
   "id": "be117af1",
   "metadata": {},
   "outputs": [
    {
     "data": {
      "text/plain": [
       "(array([ 709502.,  230169.,  224770.,  209074.,  154251.,  123438.,\n",
       "         104014.,   94896.,  100339., 4764337.]),\n",
       " array([-3.11682246e-08,  7.63999719e-02,  1.52799975e-01,  2.29199978e-01,\n",
       "         3.05599981e-01,  3.81999984e-01,  4.58399987e-01,  5.34799991e-01,\n",
       "         6.11199994e-01,  6.87599997e-01,  7.64000000e-01]),\n",
       " <BarContainer object of 10 artists>)"
      ]
     },
     "execution_count": 35,
     "metadata": {},
     "output_type": "execute_result"
    },
    {
     "data": {
      "image/png": "[encoded data removed]",
      "text/plain": [
       "<Figure size 432x288 with 1 Axes>"
      ]
     },
     "metadata": {
      "needs_background": "light"
     },
     "output_type": "display_data"
    }
   ],
   "source": [
    "plt.hist(sCDM.g['HII'])"
   ]
  },
  {
   "cell_type": "code",
   "execution_count": 38,
   "id": "c1c8c9e0",
   "metadata": {},
   "outputs": [
    {
     "data": {
      "text/plain": [
       "-3.116822455684343e-08"
      ]
     },
     "execution_count": 38,
     "metadata": {},
     "output_type": "execute_result"
    }
   ],
   "source": [
    "min(sCDM.g['HII'])"
   ]
  },
  {
   "cell_type": "markdown",
   "id": "8e6057ea",
   "metadata": {},
   "source": [
    "## Need to Navigate the Folders of Emu\n",
    "\n",
    "* Given a halo number\n",
    "* navigate to each sim file and open it\n",
    "* acquire desired categories"
   ]
  },
  {
   "cell_type": "code",
   "execution_count": 58,
   "id": "c204fbc6",
   "metadata": {},
   "outputs": [
    {
     "data": {
      "text/plain": [
       "SimArray([1.35277645e+03, 1.34268115e+03, 1.34183987e+03, ...,\n",
       "          6.40484514e-03, 6.40484514e-03, 6.40484514e-03], 'Myr')"
      ]
     },
     "execution_count": 58,
     "metadata": {},
     "output_type": "execute_result"
    }
   ],
   "source": [
    "sCDM.s['age'].in_units('Myr')"
   ]
  },
  {
   "cell_type": "code",
   "execution_count": 21,
   "id": "e37e57b5",
   "metadata": {},
   "outputs": [
    {
     "data": {
      "text/plain": [
       "['HII',\n",
       " 'HeIII',\n",
       " 'ne',\n",
       " 'hetot',\n",
       " 'hydrogen',\n",
       " 'feh',\n",
       " 'oxh',\n",
       " 'ofe',\n",
       " 'mgfe',\n",
       " 'nefe',\n",
       " 'sife',\n",
       " 'c_s',\n",
       " 'c_s_turb',\n",
       " 'mjeans',\n",
       " 'mjeans_turb',\n",
       " 'ljeans',\n",
       " 'ljeans_turb',\n",
       " 'r',\n",
       " 'rxy',\n",
       " 'vr',\n",
       " 'v2',\n",
       " 'vt',\n",
       " 'ke',\n",
       " 'te',\n",
       " 'j',\n",
       " 'j2',\n",
       " 'jz',\n",
       " 'vrxy',\n",
       " 'vcxy',\n",
       " 'vphi',\n",
       " 'vtheta',\n",
       " 'v_mean',\n",
       " 'v_disp',\n",
       " 'v_curl',\n",
       " 'vorticity',\n",
       " 'v_div',\n",
       " 'age',\n",
       " 'u_mag',\n",
       " 'u_lum_den',\n",
       " 'b_mag',\n",
       " 'b_lum_den',\n",
       " 'v_mag',\n",
       " 'v_lum_den',\n",
       " 'r_mag',\n",
       " 'r_lum_den',\n",
       " 'i_mag',\n",
       " 'i_lum_den',\n",
       " 'j_mag',\n",
       " 'j_lum_den',\n",
       " 'h_mag',\n",
       " 'h_lum_den',\n",
       " 'k_mag',\n",
       " 'k_lum_den',\n",
       " 'U_mag',\n",
       " 'U_lum_den',\n",
       " 'B_mag',\n",
       " 'B_lum_den',\n",
       " 'V_mag',\n",
       " 'V_lum_den',\n",
       " 'R_mag',\n",
       " 'R_lum_den',\n",
       " 'I_mag',\n",
       " 'I_lum_den',\n",
       " 'J_mag',\n",
       " 'J_lum_den',\n",
       " 'H_mag',\n",
       " 'H_lum_den',\n",
       " 'K_mag',\n",
       " 'K_lum_den',\n",
       " 'theta',\n",
       " 'alt',\n",
       " 'az',\n",
       " 'cs',\n",
       " 'mu',\n",
       " 'p',\n",
       " 'u',\n",
       " 'temp',\n",
       " 'zeldovich_offset',\n",
       " 'aform',\n",
       " 'tform',\n",
       " 'iord_argsort',\n",
       " 'smooth',\n",
       " 'rho',\n",
       " 'igasorder',\n",
       " 'OxMassFracdot',\n",
       " 'H2',\n",
       " 'iord',\n",
       " 'mass',\n",
       " 'FeMassFrac',\n",
       " 'tempEff',\n",
       " 'massform',\n",
       " 'rung',\n",
       " 'eps',\n",
       " 'den',\n",
       " 'FeMassFracdot',\n",
       " 'phi',\n",
       " 'amiga.grp',\n",
       " 'coolontime',\n",
       " 'HeI',\n",
       " 'HI',\n",
       " 'vel',\n",
       " 'massHot',\n",
       " 'ESNRate',\n",
       " 'Metalsdot',\n",
       " 'pos',\n",
       " 'smoothlength',\n",
       " 'lw',\n",
       " 'HeII',\n",
       " 'OxMassFrac',\n",
       " 'uHot',\n",
       " 'u',\n",
       " 'c']"
      ]
     },
     "execution_count": 21,
     "metadata": {},
     "output_type": "execute_result"
    }
   ],
   "source": [
    "sCDM.all_keys()"
   ]
  },
  {
   "cell_type": "code",
   "execution_count": 14,
   "id": "72f73ce4",
   "metadata": {},
   "outputs": [],
   "source": [
    "def makeGalQtyCSV(gal, startTS=0):\n",
    "    baseDir = '/data/REPOSITORY/e11Gals/romulus_dwarf_zooms'\n",
    "    galDir = baseDir+ '/r' + str(gal)+'.romulus25.3072g1HsbBH'\n",
    "\n",
    "    timesteps = glob.glob(galDir+'/r*.romulus25.3072g1HsbBH.0*')\n",
    "    timesteps.sort(reverse=True)\n",
    "\n",
    "    # setup file for exporting values\n",
    "    outfile = '/home/jw1624/H1-merian/csvs/breathingModes/r'+str(gal)+'_qtys.txt'\n",
    "    if startTS == 0:\n",
    "        fout = open(outfile,'w')\n",
    "        fout.write('galaxyID,timestep,t,z,')\n",
    "        fout.write('M_star,R_halflight,R_halfmass,')\n",
    "        fout.write('sigma_gas,sigma_star,')\n",
    "        fout.write('SFR_10,SFR_100,sSFR_10,sSFR_100\\n')\n",
    "        fout.close()\n",
    "    \n",
    "    # iterate through each timestep\n",
    "    for timestep in timesteps[startTS:]:\n",
    "        fout = open(outfile, 'a')\n",
    "        tstepnumber = timestep[-6:]\n",
    "\n",
    "        # I'm assuming that if there's another subfolder, the sim is inside it\n",
    "\n",
    "        # try to find sim file in current folder\n",
    "        simFile = timestep+'/r'+str(gal)+'.romulus25.3072g1HsbBH.'+tstepnumber\n",
    "        # check if there's another folder\n",
    "        a=glob.glob(timestep+'/*/*')\n",
    "        if len(a)>0:\n",
    "            # find sim in folder\n",
    "            simFile = timestep+'/r'+str(gal)+'.romulus25.3072g1HsbBH.'+tstepnumber\n",
    "            simFile+= '/r'+str(gal)+'.romulus25.3072g1HsbBH.'+tstepnumber\n",
    "            #print(glob.glob(simFile)) \n",
    "\n",
    "        #print(glob.glob(simFile))\n",
    "        # handle sim file not existing\n",
    "        if len(glob.glob(simFile)) == 0:\n",
    "            print('FNF for halo ' + str(gal) + ', timestep '+tstepnumber)\n",
    "            continue\n",
    "\n",
    "        # open simfile \n",
    "        sCDM = pynbody.load(simFile)\n",
    "\n",
    "        sCDM.physical_units()\n",
    "        \n",
    "        # SFR and sSFR (do first otherwise we sometimes get an error)\n",
    "        SFR_10  = sum(sCDM.s['mass'][sCDM.s['age'].in_units('Myr')<10])\n",
    "        SFR_100 = sum(sCDM.s['mass'][sCDM.s['age'].in_units('Myr')<100])\n",
    "        \n",
    "        hCDM = -1\n",
    "        try:\n",
    "            hCDM = sCDM.halos(write_fpos=False)[1]\n",
    "        except:\n",
    "            # center manually if missing halo; taken from pynbody source code\n",
    "            #print('HNF for halo ' + str(gal) + ', timestep '+str(tstepnumber))\n",
    "            i = sCDM['phi'].argmin()\n",
    "            cen_pot = sCDM['pos'][i].copy()\n",
    "            sCDM['pos'] -= cen_pot\n",
    "        else:\n",
    "            hCDM = sCDM.halos(write_fpos=False)[1]\n",
    "            cen_pot = pynbody.analysis.halo.center(hCDM, mode='pot', retcen=True)\n",
    "            sCDM['pos'] -= cen_pot\n",
    "            \n",
    "            pynbody.analysis.angmom.faceon(hCDM)\n",
    "\n",
    "        # get age of universe\n",
    "        uage = pynbody.analysis.cosmology.age(sCDM)\n",
    "        # get redshift\n",
    "        stepZ = pynbody.analysis.cosmology.redshift(sCDM, uage)\n",
    "\n",
    "        # Mass\n",
    "        mStar = sum(sCDM.s['mass'])\n",
    "\n",
    "        # Sizes\n",
    "        #rVir = pynbody.analysis.halo.virial_radius(sCDM)\n",
    "        rHL = pynbody.analysis.luminosity.half_light_r(sCDM)\n",
    "\n",
    "        rHM = halfMassRadius(sCDM, 0, 1, 0.1)\n",
    "        rHM = halfMassRadius(sCDM,rHM*0.85, 0.05, 0.01)\n",
    "\n",
    "        # velocity dispersion\n",
    "        sCDM.properties['boxsize'] = 3.0e4\n",
    "        sigma_gas = np.median(sCDM.g['v_disp'])\n",
    "        sigma_star= np.median(sCDM.s['v_disp'])\n",
    "\n",
    "        # sSFR\n",
    "        sSFR_10 = SFR_10/mStar\n",
    "        sSFR_100 = SFR_100/mStar\n",
    "\n",
    "        # write to file\n",
    "        fout.write(str(gal)+','+str(tstepnumber)+','+str(uage)+','+str(stepZ)+',')\n",
    "        #fout.write(str(mStar)+','+str(rVir)+','+str(rHL)+','+str(rHM)+',')\n",
    "        fout.write(str(mStar)+','+str(rHL)+','+str(rHM)+',')\n",
    "        fout.write(str(sigma_gas)+','+str(sigma_star)+',')\n",
    "        fout.write(str(SFR_10)+','+str(SFR_100)+','+str(sSFR_10)+','+str(sSFR_100)+'\\n')\n",
    "\n",
    "        fout.close()\n",
    "        print('r'+str(gal)+' '+str(tstepnumber)+' done')"
   ]
  },
  {
   "cell_type": "code",
   "execution_count": null,
   "id": "b7affd11",
   "metadata": {
    "scrolled": false
   },
   "outputs": [
    {
     "name": "stdout",
     "output_type": "stream",
     "text": [
      "r468 000069 done\n",
      "r468 000096 done\n",
      "r468 000105 done\n",
      "r468 000136 done\n",
      "r468 000186 done\n",
      "r468 000192 done\n",
      "r468 000223 done\n",
      "r468 000273 done\n",
      "r468 000288 done\n",
      "r468 000345 done\n",
      "r468 000384 done\n",
      "r468 000454 done\n",
      "r468 000480 done\n",
      "r468 000576 done\n",
      "r468 000635 done\n",
      "r468 000672 done\n",
      "r468 000768 done\n",
      "r468 000775 done\n",
      "r468 000864 done\n",
      "r468 000960 done\n",
      "r468 000972 done\n",
      "r468 001056 done\n",
      "r468 001104 done\n",
      "r468 001152 done\n",
      "r468 001248 done\n",
      "r468 001268 done\n",
      "r468 001344 done\n",
      "r468 001440 done\n",
      "r468 001474 done\n",
      "r468 001536 done\n",
      "r468 001632 done\n",
      "r468 001728 done\n",
      "r468 001739 done\n",
      "r468 001824 done\n",
      "r468 001920 done\n"
     ]
    }
   ],
   "source": [
    "for gal in currentGals[1:]:\n",
    "    makeGalQtyCSV(gal)"
   ]
  },
  {
   "cell_type": "markdown",
   "id": "ac944608",
   "metadata": {},
   "source": [
    "## Single Timestep Investigating"
   ]
  },
  {
   "cell_type": "code",
   "execution_count": 3,
   "id": "b52a4df3",
   "metadata": {},
   "outputs": [
    {
     "data": {
      "text/plain": [
       "['/data/REPOSITORY/e11Gals/romulus_dwarf_zooms/r431.romulus25.3072g1HsbBH/r431.romulus25.3072g1HsbBH.004096',\n",
       " '/data/REPOSITORY/e11Gals/romulus_dwarf_zooms/r431.romulus25.3072g1HsbBH/r431.romulus25.3072g1HsbBH.004032',\n",
       " '/data/REPOSITORY/e11Gals/romulus_dwarf_zooms/r431.romulus25.3072g1HsbBH/r431.romulus25.3072g1HsbBH.003936',\n",
       " '/data/REPOSITORY/e11Gals/romulus_dwarf_zooms/r431.romulus25.3072g1HsbBH/r431.romulus25.3072g1HsbBH.003840',\n",
       " '/data/REPOSITORY/e11Gals/romulus_dwarf_zooms/r431.romulus25.3072g1HsbBH/r431.romulus25.3072g1HsbBH.003744',\n",
       " '/data/REPOSITORY/e11Gals/romulus_dwarf_zooms/r431.romulus25.3072g1HsbBH/r431.romulus25.3072g1HsbBH.003648',\n",
       " '/data/REPOSITORY/e11Gals/romulus_dwarf_zooms/r431.romulus25.3072g1HsbBH/r431.romulus25.3072g1HsbBH.003606',\n",
       " '/data/REPOSITORY/e11Gals/romulus_dwarf_zooms/r431.romulus25.3072g1HsbBH/r431.romulus25.3072g1HsbBH.003552',\n",
       " '/data/REPOSITORY/e11Gals/romulus_dwarf_zooms/r431.romulus25.3072g1HsbBH/r431.romulus25.3072g1HsbBH.003456',\n",
       " '/data/REPOSITORY/e11Gals/romulus_dwarf_zooms/r431.romulus25.3072g1HsbBH/r431.romulus25.3072g1HsbBH.003360',\n",
       " '/data/REPOSITORY/e11Gals/romulus_dwarf_zooms/r431.romulus25.3072g1HsbBH/r431.romulus25.3072g1HsbBH.003264',\n",
       " '/data/REPOSITORY/e11Gals/romulus_dwarf_zooms/r431.romulus25.3072g1HsbBH/r431.romulus25.3072g1HsbBH.003195',\n",
       " '/data/REPOSITORY/e11Gals/romulus_dwarf_zooms/r431.romulus25.3072g1HsbBH/r431.romulus25.3072g1HsbBH.003168',\n",
       " '/data/REPOSITORY/e11Gals/romulus_dwarf_zooms/r431.romulus25.3072g1HsbBH/r431.romulus25.3072g1HsbBH.003072',\n",
       " '/data/REPOSITORY/e11Gals/romulus_dwarf_zooms/r431.romulus25.3072g1HsbBH/r431.romulus25.3072g1HsbBH.002976',\n",
       " '/data/REPOSITORY/e11Gals/romulus_dwarf_zooms/r431.romulus25.3072g1HsbBH/r431.romulus25.3072g1HsbBH.002880',\n",
       " '/data/REPOSITORY/e11Gals/romulus_dwarf_zooms/r431.romulus25.3072g1HsbBH/r431.romulus25.3072g1HsbBH.002784',\n",
       " '/data/REPOSITORY/e11Gals/romulus_dwarf_zooms/r431.romulus25.3072g1HsbBH/r431.romulus25.3072g1HsbBH.002688',\n",
       " '/data/REPOSITORY/e11Gals/romulus_dwarf_zooms/r431.romulus25.3072g1HsbBH/r431.romulus25.3072g1HsbBH.002592',\n",
       " '/data/REPOSITORY/e11Gals/romulus_dwarf_zooms/r431.romulus25.3072g1HsbBH/r431.romulus25.3072g1HsbBH.002554',\n",
       " '/data/REPOSITORY/e11Gals/romulus_dwarf_zooms/r431.romulus25.3072g1HsbBH/r431.romulus25.3072g1HsbBH.002496',\n",
       " '/data/REPOSITORY/e11Gals/romulus_dwarf_zooms/r431.romulus25.3072g1HsbBH/r431.romulus25.3072g1HsbBH.002400',\n",
       " '/data/REPOSITORY/e11Gals/romulus_dwarf_zooms/r431.romulus25.3072g1HsbBH/r431.romulus25.3072g1HsbBH.002304',\n",
       " '/data/REPOSITORY/e11Gals/romulus_dwarf_zooms/r431.romulus25.3072g1HsbBH/r431.romulus25.3072g1HsbBH.002208',\n",
       " '/data/REPOSITORY/e11Gals/romulus_dwarf_zooms/r431.romulus25.3072g1HsbBH/r431.romulus25.3072g1HsbBH.002112',\n",
       " '/data/REPOSITORY/e11Gals/romulus_dwarf_zooms/r431.romulus25.3072g1HsbBH/r431.romulus25.3072g1HsbBH.002087',\n",
       " '/data/REPOSITORY/e11Gals/romulus_dwarf_zooms/r431.romulus25.3072g1HsbBH/r431.romulus25.3072g1HsbBH.002016',\n",
       " '/data/REPOSITORY/e11Gals/romulus_dwarf_zooms/r431.romulus25.3072g1HsbBH/r431.romulus25.3072g1HsbBH.001920',\n",
       " '/data/REPOSITORY/e11Gals/romulus_dwarf_zooms/r431.romulus25.3072g1HsbBH/r431.romulus25.3072g1HsbBH.001824',\n",
       " '/data/REPOSITORY/e11Gals/romulus_dwarf_zooms/r431.romulus25.3072g1HsbBH/r431.romulus25.3072g1HsbBH.001739',\n",
       " '/data/REPOSITORY/e11Gals/romulus_dwarf_zooms/r431.romulus25.3072g1HsbBH/r431.romulus25.3072g1HsbBH.001728',\n",
       " '/data/REPOSITORY/e11Gals/romulus_dwarf_zooms/r431.romulus25.3072g1HsbBH/r431.romulus25.3072g1HsbBH.001632',\n",
       " '/data/REPOSITORY/e11Gals/romulus_dwarf_zooms/r431.romulus25.3072g1HsbBH/r431.romulus25.3072g1HsbBH.001536',\n",
       " '/data/REPOSITORY/e11Gals/romulus_dwarf_zooms/r431.romulus25.3072g1HsbBH/r431.romulus25.3072g1HsbBH.001474',\n",
       " '/data/REPOSITORY/e11Gals/romulus_dwarf_zooms/r431.romulus25.3072g1HsbBH/r431.romulus25.3072g1HsbBH.001440',\n",
       " '/data/REPOSITORY/e11Gals/romulus_dwarf_zooms/r431.romulus25.3072g1HsbBH/r431.romulus25.3072g1HsbBH.001344',\n",
       " '/data/REPOSITORY/e11Gals/romulus_dwarf_zooms/r431.romulus25.3072g1HsbBH/r431.romulus25.3072g1HsbBH.001268',\n",
       " '/data/REPOSITORY/e11Gals/romulus_dwarf_zooms/r431.romulus25.3072g1HsbBH/r431.romulus25.3072g1HsbBH.001248',\n",
       " '/data/REPOSITORY/e11Gals/romulus_dwarf_zooms/r431.romulus25.3072g1HsbBH/r431.romulus25.3072g1HsbBH.001152',\n",
       " '/data/REPOSITORY/e11Gals/romulus_dwarf_zooms/r431.romulus25.3072g1HsbBH/r431.romulus25.3072g1HsbBH.001104',\n",
       " '/data/REPOSITORY/e11Gals/romulus_dwarf_zooms/r431.romulus25.3072g1HsbBH/r431.romulus25.3072g1HsbBH.001056',\n",
       " '/data/REPOSITORY/e11Gals/romulus_dwarf_zooms/r431.romulus25.3072g1HsbBH/r431.romulus25.3072g1HsbBH.000972',\n",
       " '/data/REPOSITORY/e11Gals/romulus_dwarf_zooms/r431.romulus25.3072g1HsbBH/r431.romulus25.3072g1HsbBH.000960',\n",
       " '/data/REPOSITORY/e11Gals/romulus_dwarf_zooms/r431.romulus25.3072g1HsbBH/r431.romulus25.3072g1HsbBH.000864',\n",
       " '/data/REPOSITORY/e11Gals/romulus_dwarf_zooms/r431.romulus25.3072g1HsbBH/r431.romulus25.3072g1HsbBH.000775',\n",
       " '/data/REPOSITORY/e11Gals/romulus_dwarf_zooms/r431.romulus25.3072g1HsbBH/r431.romulus25.3072g1HsbBH.000768',\n",
       " '/data/REPOSITORY/e11Gals/romulus_dwarf_zooms/r431.romulus25.3072g1HsbBH/r431.romulus25.3072g1HsbBH.000672',\n",
       " '/data/REPOSITORY/e11Gals/romulus_dwarf_zooms/r431.romulus25.3072g1HsbBH/r431.romulus25.3072g1HsbBH.000635',\n",
       " '/data/REPOSITORY/e11Gals/romulus_dwarf_zooms/r431.romulus25.3072g1HsbBH/r431.romulus25.3072g1HsbBH.000576',\n",
       " '/data/REPOSITORY/e11Gals/romulus_dwarf_zooms/r431.romulus25.3072g1HsbBH/r431.romulus25.3072g1HsbBH.000480',\n",
       " '/data/REPOSITORY/e11Gals/romulus_dwarf_zooms/r431.romulus25.3072g1HsbBH/r431.romulus25.3072g1HsbBH.000454']"
      ]
     },
     "execution_count": 3,
     "metadata": {},
     "output_type": "execute_result"
    }
   ],
   "source": [
    "gal = currentGals[0]\n",
    "\n",
    "baseDir = '/data/REPOSITORY/e11Gals/romulus_dwarf_zooms'\n",
    "galDir = baseDir+ '/r' + str(gal)+'.romulus25.3072g1HsbBH'\n",
    "\n",
    "timesteps = glob.glob(galDir+'/r*.romulus25.3072g1HsbBH.0*')\n",
    "timesteps.sort(reverse=True)\n",
    "timesteps"
   ]
  },
  {
   "cell_type": "code",
   "execution_count": 19,
   "id": "6479d948",
   "metadata": {},
   "outputs": [
    {
     "name": "stderr",
     "output_type": "stream",
     "text": [
      "/home/jw1624/miniconda3/lib/python3.9/site-packages/pynbody/snapshot/tipsy.py:124: RuntimeWarning: No readable param file in the run directory or parent directory: using defaults.\n",
      "  warnings.warn(\n"
     ]
    }
   ],
   "source": [
    "timestep = timesteps[-13]\n",
    "tstepnumber = timestep[-6:]\n",
    "\n",
    "# try to find sim file in current folder\n",
    "simFile = timestep+'/r'+str(gal)+'.romulus25.3072g1HsbBH.'+tstepnumber\n",
    "# check if there's another folder\n",
    "a=glob.glob(timestep+'/*/*')\n",
    "if len(a)>0:\n",
    "    # find sim in folder\n",
    "    simFile = timestep+'/r'+str(gal)+'.romulus25.3072g1HsbBH.'+tstepnumber\n",
    "    simFile+= '/r'+str(gal)+'.romulus25.3072g1HsbBH.'+tstepnumber\n",
    "    #print(glob.glob(simFile)) \n",
    "\n",
    "#print(glob.glob(simFile))\n",
    "# handle sim file not existing\n",
    "if len(glob.glob(simFile)) == 0:\n",
    "    print('FNF for halo ' + str(gal) + ', timestep '+tstepnumber)\n",
    "\n",
    "# open simfile \n",
    "sCDM = pynbody.load(simFile)\n",
    "\n",
    "sCDM.physical_units()\n",
    "\n",
    "# SFR and sSFR (do first otherwise we sometimes get an error)\n",
    "SFR_10  = sum(sCDM.s['mass'][sCDM.s['age'].in_units('Myr')<10])\n",
    "SFR_100 = sum(sCDM.s['mass'][sCDM.s['age'].in_units('Myr')<100])\n",
    "\n",
    "hCDM = -1"
   ]
  },
  {
   "cell_type": "code",
   "execution_count": 20,
   "id": "63f155aa",
   "metadata": {},
   "outputs": [
    {
     "name": "stdout",
     "output_type": "stream",
     "text": [
      "doing manual centering\n"
     ]
    }
   ],
   "source": [
    "hCDM = -1\n",
    "try:\n",
    "    hCDM = sCDM.halos(write_fpos=False)[1]\n",
    "except:\n",
    "    # center manually if missing halo; taken from pynbody source code\n",
    "    #print('HNF for halo ' + str(gal) + ', timestep '+str(tstepnumber))\n",
    "    print('doing manual centering')\n",
    "    i = sCDM['phi'].argmin()\n",
    "    cen_pot = sCDM['pos'][i].copy()\n",
    "    sCDM['pos'] -= cen_pot\n",
    "else:\n",
    "    hCDM = sCDM.halos(write_fpos=False)[1]\n",
    "    cen_pot = pynbody.analysis.halo.center(hCDM, mode='pot', retcen=True)\n",
    "    sCDM['pos'] -= cen_pot\n",
    "\n",
    "    pynbody.analysis.angmom.faceon(hCDM)"
   ]
  },
  {
   "cell_type": "code",
   "execution_count": 22,
   "id": "4386efc5",
   "metadata": {},
   "outputs": [
    {
     "name": "stderr",
     "output_type": "stream",
     "text": [
      "/home/jw1624/miniconda3/lib/python3.9/site-packages/pynbody/simdict.py:92: RuntimeWarning: Assuming default value for property 'a'=1.00e+00\n",
      "  warnings.warn(\"Assuming default value for property '{}'={:.2e}\".format(\n",
      "/home/jw1624/miniconda3/lib/python3.9/site-packages/pynbody/simdict.py:92: RuntimeWarning: Assuming default value for property 'h'=6.78e-01\n",
      "  warnings.warn(\"Assuming default value for property '{}'={:.2e}\".format(\n",
      "/home/jw1624/miniconda3/lib/python3.9/site-packages/pynbody/simdict.py:92: RuntimeWarning: Assuming default value for property 'omegaM0'=3.09e-01\n",
      "  warnings.warn(\"Assuming default value for property '{}'={:.2e}\".format(\n",
      "/home/jw1624/miniconda3/lib/python3.9/site-packages/pynbody/simdict.py:92: RuntimeWarning: Assuming default value for property 'omegaL0'=6.91e-01\n",
      "  warnings.warn(\"Assuming default value for property '{}'={:.2e}\".format(\n"
     ]
    }
   ],
   "source": [
    "# get age of universe\n",
    "uage = pynbody.analysis.cosmology.age(sCDM)\n",
    "# get redshift\n",
    "stepZ = pynbody.analysis.cosmology.redshift(sCDM, uage)\n",
    "\n",
    "# Mass\n",
    "mStar = sum(sCDM.s['mass'])\n",
    "\n",
    "# Sizes\n",
    "#rVir = pynbody.analysis.halo.virial_radius(sCDM)\n",
    "rHL = pynbody.analysis.luminosity.half_light_r(sCDM)"
   ]
  },
  {
   "cell_type": "code",
   "execution_count": 23,
   "id": "0ac085dd",
   "metadata": {},
   "outputs": [
    {
     "data": {
      "text/plain": [
       "SimArray(0.34249912, 'kpc')"
      ]
     },
     "execution_count": 23,
     "metadata": {},
     "output_type": "execute_result"
    }
   ],
   "source": [
    "rHL"
   ]
  },
  {
   "cell_type": "code",
   "execution_count": 24,
   "id": "744076c0",
   "metadata": {},
   "outputs": [
    {
     "data": {
      "text/plain": [
       "'001152'"
      ]
     },
     "execution_count": 24,
     "metadata": {},
     "output_type": "execute_result"
    }
   ],
   "source": [
    "tstepnumber"
   ]
  },
  {
   "cell_type": "code",
   "execution_count": 26,
   "id": "b1804106",
   "metadata": {},
   "outputs": [
    {
     "data": {
      "text/plain": [
       "13.795660358777317"
      ]
     },
     "execution_count": 26,
     "metadata": {},
     "output_type": "execute_result"
    }
   ],
   "source": [
    "uage"
   ]
  },
  {
   "cell_type": "code",
   "execution_count": null,
   "id": "f4316b3d",
   "metadata": {},
   "outputs": [],
   "source": []
  }
 ],
 "metadata": {
  "kernelspec": {
   "display_name": "Python 3",
   "language": "python",
   "name": "python3"
  },
  "language_info": {
   "codemirror_mode": {
    "name": "ipython",
    "version": 3
   },
   "file_extension": ".py",
   "mimetype": "text/x-python",
   "name": "python",
   "nbconvert_exporter": "python",
   "pygments_lexer": "ipython3",
   "version": "3.9.12"
  }
 },
 "nbformat": 4,
 "nbformat_minor": 5
}
