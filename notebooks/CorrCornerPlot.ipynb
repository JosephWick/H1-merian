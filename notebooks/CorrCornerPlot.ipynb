{
 "cells": [
  {
   "cell_type": "code",
   "execution_count": 41,
   "id": "06e729dd",
   "metadata": {},
   "outputs": [],
   "source": [
    "import pandas as pd\n",
    "import pynbody \n",
    "import numpy as np \n",
    "import tangos\n",
    "\n",
    "import sys\n",
    "sys.path.insert(0, '../util/')\n",
    "from util import util\n",
    "\n",
    "import matplotlib.pyplot as plt"
   ]
  },
  {
   "cell_type": "markdown",
   "id": "edebb742",
   "metadata": {},
   "source": [
    "### Quantities to obtain for each galaxy\n",
    "* w20 (our HI profile)\n",
    "* Mbar (pynbody)\n",
    "* Mstar (pynbody)\n",
    "* MHI (pynbody)\n",
    "* SFR (tangos?)\n",
    "* SFR/MHI (can try SFE but may not be accurate for dwarfs) (pynbody)\n",
    "* $\\langle \\Sigma_{SFR} \\rangle$\n",
    "* $\\langle \\Sigma_{HI} \\rangle$ \n",
    "* $\\langle \\Sigma_{baryon} \\rangle$\n",
    "\n",
    "Also, spearman rank correlation coefficient for each pair "
   ]
  },
  {
   "cell_type": "code",
   "execution_count": 2,
   "id": "70565aaf",
   "metadata": {},
   "outputs": [],
   "source": [
    "f = '/data/REPOSITORY/e11Gals/romulus_dwarf_zooms/r431.romulus25.3072g1HsbBH/r431.romulus25.3072g1HsbBH.004096/r431.romulus25.3072g1HsbBH.004096'"
   ]
  },
  {
   "cell_type": "code",
   "execution_count": 5,
   "id": "af2ba974",
   "metadata": {},
   "outputs": [],
   "source": [
    "s = pynbody.load(f)\n",
    "s.physical_units()\n",
    "h = s.halos()[1]"
   ]
  },
  {
   "cell_type": "code",
   "execution_count": 8,
   "id": "0c2b314d",
   "metadata": {},
   "outputs": [
    {
     "data": {
      "text/plain": [
       "['HII',\n",
       " 'HeIII',\n",
       " 'ne',\n",
       " 'hetot',\n",
       " 'hydrogen',\n",
       " 'feh',\n",
       " 'oxh',\n",
       " 'ofe',\n",
       " 'mgfe',\n",
       " 'nefe',\n",
       " 'sife',\n",
       " 'c_s',\n",
       " 'c_s_turb',\n",
       " 'mjeans',\n",
       " 'mjeans_turb',\n",
       " 'ljeans',\n",
       " 'ljeans_turb',\n",
       " 'r',\n",
       " 'rxy',\n",
       " 'vr',\n",
       " 'v2',\n",
       " 'vt',\n",
       " 'ke',\n",
       " 'te',\n",
       " 'j',\n",
       " 'j2',\n",
       " 'jz',\n",
       " 'vrxy',\n",
       " 'vcxy',\n",
       " 'vphi',\n",
       " 'vtheta',\n",
       " 'v_mean',\n",
       " 'v_disp',\n",
       " 'v_curl',\n",
       " 'vorticity',\n",
       " 'v_div',\n",
       " 'age',\n",
       " 'u_mag',\n",
       " 'u_lum_den',\n",
       " 'b_mag',\n",
       " 'b_lum_den',\n",
       " 'v_mag',\n",
       " 'v_lum_den',\n",
       " 'r_mag',\n",
       " 'r_lum_den',\n",
       " 'i_mag',\n",
       " 'i_lum_den',\n",
       " 'j_mag',\n",
       " 'j_lum_den',\n",
       " 'h_mag',\n",
       " 'h_lum_den',\n",
       " 'k_mag',\n",
       " 'k_lum_den',\n",
       " 'U_mag',\n",
       " 'U_lum_den',\n",
       " 'B_mag',\n",
       " 'B_lum_den',\n",
       " 'V_mag',\n",
       " 'V_lum_den',\n",
       " 'R_mag',\n",
       " 'R_lum_den',\n",
       " 'I_mag',\n",
       " 'I_lum_den',\n",
       " 'J_mag',\n",
       " 'J_lum_den',\n",
       " 'H_mag',\n",
       " 'H_lum_den',\n",
       " 'K_mag',\n",
       " 'K_lum_den',\n",
       " 'theta',\n",
       " 'alt',\n",
       " 'az',\n",
       " 'cs',\n",
       " 'mu',\n",
       " 'p',\n",
       " 'u',\n",
       " 'temp',\n",
       " 'zeldovich_offset',\n",
       " 'aform',\n",
       " 'tform',\n",
       " 'iord_argsort',\n",
       " 'smooth',\n",
       " 'rho',\n",
       " 'igasorder',\n",
       " 'HI',\n",
       " 'HeI',\n",
       " 'FeMassFrac',\n",
       " 'eps',\n",
       " 'den',\n",
       " 'vel',\n",
       " 'phi',\n",
       " 'FeMassFracdot',\n",
       " 'pos',\n",
       " 'HeII',\n",
       " 'massform',\n",
       " 'amiga.grp',\n",
       " 'Metalsdot',\n",
       " 'tempEff',\n",
       " 'mass',\n",
       " 'OxMassFracdot',\n",
       " 'uHot',\n",
       " 'smoothlength',\n",
       " 'c',\n",
       " 'ESNRate',\n",
       " 'coolontime',\n",
       " 'OxMassFrac',\n",
       " 'massHot',\n",
       " 'lw',\n",
       " 'rung',\n",
       " 'H2',\n",
       " 'u',\n",
       " 'iord']"
      ]
     },
     "execution_count": 8,
     "metadata": {},
     "output_type": "execute_result"
    }
   ],
   "source": [
    "h.all_keys()"
   ]
  },
  {
   "cell_type": "code",
   "execution_count": 74,
   "id": "d6a48805",
   "metadata": {},
   "outputs": [],
   "source": [
    "Mstar = h.s['mass'].sum()\n",
    "Mhi = h.g['mass'] / 1.36\n",
    "Mbar = Mstar + h.g['mass']"
   ]
  },
  {
   "cell_type": "markdown",
   "id": "86bf3c75",
   "metadata": {},
   "source": [
    "$\\Sigma_{SFR} = (8.1\\times 10^{-2}I_{FUV} + 3.2 \\times 10^{-3}I_{24}) \\cos i$"
   ]
  },
  {
   "cell_type": "code",
   "execution_count": 25,
   "id": "ffb57335",
   "metadata": {},
   "outputs": [
    {
     "data": {
      "text/plain": [
       "25953621"
      ]
     },
     "execution_count": 25,
     "metadata": {},
     "output_type": "execute_result"
    }
   ],
   "source": [
    "len(s['pos'])"
   ]
  },
  {
   "cell_type": "code",
   "execution_count": 28,
   "id": "9abc40ff",
   "metadata": {},
   "outputs": [
    {
     "data": {
      "text/plain": [
       "2777645"
      ]
     },
     "execution_count": 28,
     "metadata": {},
     "output_type": "execute_result"
    }
   ],
   "source": [
    "len(h.g['v_disp'])"
   ]
  },
  {
   "cell_type": "code",
   "execution_count": 29,
   "id": "939c74ae",
   "metadata": {},
   "outputs": [
    {
     "data": {
      "text/plain": [
       "2777645"
      ]
     },
     "execution_count": 29,
     "metadata": {},
     "output_type": "execute_result"
    }
   ],
   "source": [
    "len(h.g['pos'])"
   ]
  },
  {
   "cell_type": "code",
   "execution_count": 62,
   "id": "1bab196c",
   "metadata": {},
   "outputs": [
    {
     "data": {
      "text/plain": [
       "2777645"
      ]
     },
     "execution_count": 62,
     "metadata": {},
     "output_type": "execute_result"
    }
   ],
   "source": [
    "len(h.g['HII'])"
   ]
  },
  {
   "cell_type": "code",
   "execution_count": 63,
   "id": "9a9277dd",
   "metadata": {},
   "outputs": [
    {
     "data": {
      "text/plain": [
       "2777645"
      ]
     },
     "execution_count": 63,
     "metadata": {},
     "output_type": "execute_result"
    }
   ],
   "source": [
    "len(h.g['HI'])"
   ]
  },
  {
   "cell_type": "code",
   "execution_count": 73,
   "id": "de4ceed8",
   "metadata": {},
   "outputs": [
    {
     "data": {
      "text/plain": [
       "<SimSnap \"/data/REPOSITORY/e11Gals/romulus_dwarf_zooms/r431.romulus25.3072g1HsbBH/r431.romulus25.3072g1HsbBH.004096/r431.romulus25.3072g1HsbBH.004096:halo_1::star\" len=2292934>"
      ]
     },
     "execution_count": 73,
     "metadata": {},
     "output_type": "execute_result"
    }
   ],
   "source": [
    "h.star"
   ]
  },
  {
   "cell_type": "code",
   "execution_count": 52,
   "id": "ea1516f7",
   "metadata": {},
   "outputs": [],
   "source": [
    "tsim = tangos.all_simulations()[0]\n",
    "tstep = tsim.timesteps[-6]"
   ]
  },
  {
   "cell_type": "code",
   "execution_count": 54,
   "id": "a8e610bf",
   "metadata": {},
   "outputs": [],
   "source": [
    "th = tstep.halos[430]"
   ]
  },
  {
   "cell_type": "code",
   "execution_count": 58,
   "id": "8cc73071",
   "metadata": {},
   "outputs": [
    {
     "data": {
      "image/png": "[encoded data removed]",
      "text/plain": [
       "<Figure size 432x288 with 2 Axes>"
      ]
     },
     "metadata": {
      "needs_background": "light"
     },
     "output_type": "display_data"
    }
   ],
   "source": [
    "sfhcdm1 = pynbody.plot.stars.sfh(s)"
   ]
  },
  {
   "cell_type": "code",
   "execution_count": 59,
   "id": "a9e49203",
   "metadata": {},
   "outputs": [
    {
     "data": {
      "text/plain": [
       "(SimArray([9.32925832e-05, 0.00000000e+00, 0.00000000e+00, 9.20100417e-03,\n",
       "           3.13036323e-01, 4.39488351e-01, 6.88755363e-02, 4.37659919e-02,\n",
       "           4.87107262e-02, 5.64812757e-02, 8.36603194e-02, 1.33224979e-01,\n",
       "           1.47374928e-01, 6.02338575e-02, 6.56008497e-02, 1.31980032e-01,\n",
       "           1.48687214e-01, 3.67463492e-02, 4.90486994e-02, 1.71831831e-01,\n",
       "           8.48051250e-01, 2.26580948e-01, 1.86193317e-01, 1.80682048e-01,\n",
       "           8.12792554e-02, 6.93594888e-02, 6.90002292e-02, 6.58497214e-02,\n",
       "           3.23367789e-02, 6.62516430e-02, 5.30137233e-02, 9.13545415e-02,\n",
       "           8.24608058e-02, 8.56054649e-02, 9.50031877e-02, 1.63573593e-01,\n",
       "           1.68716788e-01, 8.67518634e-02, 9.85393673e-02, 1.04508899e-01,\n",
       "           1.53603986e-01, 1.17860653e-01, 1.31783709e-01, 1.17677748e-01,\n",
       "           1.26307234e-01, 1.38303146e-01, 1.25425115e-01, 1.87745124e-01,\n",
       "           2.21638680e-01, 1.95117489e-01, 2.28963554e-01, 1.76886946e-01,\n",
       "           1.78404123e-01, 2.04961672e-01, 1.24713100e-01, 1.67189240e-01,\n",
       "           1.18980870e-01, 1.31852850e-01, 1.62884519e-01, 1.22807868e-01,\n",
       "           1.93293914e-01, 1.08951315e-01, 2.09051058e-01, 1.16461143e-01,\n",
       "           1.81137741e-01, 1.43841937e-01, 1.17460057e-01, 2.04109222e-01,\n",
       "           1.38740420e-01, 1.67588457e-01, 1.68829158e-01, 1.41604573e-01,\n",
       "           2.24605560e-01, 1.51792824e-01, 1.52596250e-01, 2.56783873e-01,\n",
       "           1.48648262e-01, 1.64421827e-01, 2.40499496e-01, 1.70151427e-01,\n",
       "           2.14771807e-01, 2.26264343e-01, 2.27626592e-01, 2.14964002e-01,\n",
       "           1.98351845e-01, 2.34863251e-01, 2.39448756e-01, 1.99873984e-01,\n",
       "           2.33974263e-01, 2.49331594e-01, 2.11876094e-01, 2.55900681e-01,\n",
       "           2.45522082e-01, 1.99364811e-01, 2.31379837e-01, 2.84323633e-01,\n",
       "           2.28745401e-01, 2.66471565e-01, 2.61526167e-01, 2.69272089e-01], 'Msol yr**-1'),\n",
       " SimArray([-2.94936078e-01, -1.53987502e-01, -1.30389261e-02,\n",
       "            1.27909650e-01,  2.68858226e-01,  4.09806802e-01,\n",
       "            5.50755378e-01,  6.91703954e-01,  8.32652530e-01,\n",
       "            9.73601106e-01,  1.11454968e+00,  1.25549826e+00,\n",
       "            1.39644683e+00,  1.53739541e+00,  1.67834399e+00,\n",
       "            1.81929256e+00,  1.96024114e+00,  2.10118971e+00,\n",
       "            2.24213829e+00,  2.38308687e+00,  2.52403544e+00,\n",
       "            2.66498402e+00,  2.80593259e+00,  2.94688117e+00,\n",
       "            3.08782975e+00,  3.22877832e+00,  3.36972690e+00,\n",
       "            3.51067547e+00,  3.65162405e+00,  3.79257263e+00,\n",
       "            3.93352120e+00,  4.07446978e+00,  4.21541835e+00,\n",
       "            4.35636693e+00,  4.49731551e+00,  4.63826408e+00,\n",
       "            4.77921266e+00,  4.92016123e+00,  5.06110981e+00,\n",
       "            5.20205838e+00,  5.34300696e+00,  5.48395554e+00,\n",
       "            5.62490411e+00,  5.76585269e+00,  5.90680126e+00,\n",
       "            6.04774984e+00,  6.18869842e+00,  6.32964699e+00,\n",
       "            6.47059557e+00,  6.61154414e+00,  6.75249272e+00,\n",
       "            6.89344130e+00,  7.03438987e+00,  7.17533845e+00,\n",
       "            7.31628702e+00,  7.45723560e+00,  7.59818418e+00,\n",
       "            7.73913275e+00,  7.88008133e+00,  8.02102990e+00,\n",
       "            8.16197848e+00,  8.30292706e+00,  8.44387563e+00,\n",
       "            8.58482421e+00,  8.72577278e+00,  8.86672136e+00,\n",
       "            9.00766994e+00,  9.14861851e+00,  9.28956709e+00,\n",
       "            9.43051566e+00,  9.57146424e+00,  9.71241282e+00,\n",
       "            9.85336139e+00,  9.99430997e+00,  1.01352585e+01,\n",
       "            1.02762071e+01,  1.04171557e+01,  1.05581043e+01,\n",
       "            1.06990528e+01,  1.08400014e+01,  1.09809500e+01,\n",
       "            1.11218986e+01,  1.12628472e+01,  1.14037957e+01,\n",
       "            1.15447443e+01,  1.16856929e+01,  1.18266415e+01,\n",
       "            1.19675900e+01,  1.21085386e+01,  1.22494872e+01,\n",
       "            1.23904358e+01,  1.25313843e+01,  1.26723329e+01,\n",
       "            1.28132815e+01,  1.29542301e+01,  1.30951786e+01,\n",
       "            1.32361272e+01,  1.33770758e+01,  1.35180244e+01,\n",
       "            1.36589729e+01,  1.37999215e+01], 'Gyr'))"
      ]
     },
     "execution_count": 59,
     "metadata": {},
     "output_type": "execute_result"
    }
   ],
   "source": [
    "sfhcdm1"
   ]
  },
  {
   "cell_type": "code",
   "execution_count": null,
   "id": "9478cb4c",
   "metadata": {},
   "outputs": [],
   "source": []
  }
 ],
 "metadata": {
  "kernelspec": {
   "display_name": "Python 3",
   "language": "python",
   "name": "python3"
  },
  "language_info": {
   "codemirror_mode": {
    "name": "ipython",
    "version": 3
   },
   "file_extension": ".py",
   "mimetype": "text/x-python",
   "name": "python",
   "nbconvert_exporter": "python",
   "pygments_lexer": "ipython3",
   "version": "3.9.12"
  }
 },
 "nbformat": 4,
 "nbformat_minor": 5
}
