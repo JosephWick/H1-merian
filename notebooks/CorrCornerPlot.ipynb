{
 "cells": [
  {
   "cell_type": "code",
   "execution_count": 1,
   "id": "06e729dd",
   "metadata": {},
   "outputs": [],
   "source": [
    "import pandas as pd\n",
    "import pynbody \n",
    "import numpy as np \n",
    "import tangos\n",
    "\n",
    "import sys\n",
    "sys.path.insert(0, '../util/')\n",
    "from util import util\n",
    "\n",
    "import matplotlib.pyplot as plt"
   ]
  },
  {
   "cell_type": "markdown",
   "id": "edebb742",
   "metadata": {},
   "source": [
    "### Quantities to obtain for each galaxy\n",
    "* w20 (our HI profile)\n",
    "* Mbar (pynbody)\n",
    "* Mstar (pynbody)\n",
    "* MHI (pynbody)\n",
    "* SFR (tangos?)\n",
    "* SFR/MHI (can try SFE but may not be accurate for dwarfs) (pynbody)\n",
    "* $\\langle \\Sigma_{SFR} \\rangle$\n",
    "* $\\langle \\Sigma_{HI} \\rangle$ \n",
    "* $\\langle \\Sigma_{baryon} \\rangle$\n",
    "\n",
    "Also, spearman rank correlation coefficient for each pair "
   ]
  },
  {
   "cell_type": "code",
   "execution_count": 4,
   "id": "70565aaf",
   "metadata": {},
   "outputs": [],
   "source": [
    "f = '/data/REPOSITORY/e11Gals/romulus_dwarf_zooms/r431.romulus25.3072g1HsbBH/r431.romulus25.3072g1HsbBH.004096/r431.romulus25.3072g1HsbBH.004096'"
   ]
  },
  {
   "cell_type": "code",
   "execution_count": 5,
   "id": "af2ba974",
   "metadata": {},
   "outputs": [],
   "source": [
    "s = pynbody.load(f)\n",
    "s.physical_units()\n",
    "h = s.halos()[1]\n",
    "\n",
    "cen_pot_a = pynbody.analysis.halo.center(h, mode='pot', retcen=True)\n",
    "s['pos'] -= cen_pot_a"
   ]
  },
  {
   "cell_type": "code",
   "execution_count": 17,
   "id": "8b11d096",
   "metadata": {},
   "outputs": [
    {
     "ename": "UnitsException",
     "evalue": "Not convertible",
     "output_type": "error",
     "traceback": [
      "\u001b[0;31m---------------------------------------------------------------------------\u001b[0m",
      "\u001b[0;31mUnitsException\u001b[0m                            Traceback (most recent call last)",
      "File \u001b[0;32m~/miniconda3/lib/python3.9/site-packages/pynbody/units.py:287\u001b[0m, in \u001b[0;36mUnitBase.ratio\u001b[0;34m(self, other, **substitutions)\u001b[0m\n\u001b[1;32m    286\u001b[0m \u001b[38;5;28;01mtry\u001b[39;00m:\n\u001b[0;32m--> 287\u001b[0m     \u001b[38;5;28;01mreturn\u001b[39;00m \u001b[43m(\u001b[49m\u001b[38;5;28;43mself\u001b[39;49m\u001b[43m \u001b[49m\u001b[38;5;241;43m/\u001b[39;49m\u001b[43m \u001b[49m\u001b[43mother\u001b[49m\u001b[43m)\u001b[49m\u001b[38;5;241;43m.\u001b[39;49m\u001b[43mdimensionless_constant\u001b[49m\u001b[43m(\u001b[49m\u001b[38;5;241;43m*\u001b[39;49m\u001b[38;5;241;43m*\u001b[39;49m\u001b[43msubstitutions\u001b[49m\u001b[43m)\u001b[49m\n\u001b[1;32m    288\u001b[0m \u001b[38;5;28;01mexcept\u001b[39;00m UnitsException:\n",
      "File \u001b[0;32m~/miniconda3/lib/python3.9/site-packages/pynbody/units.py:591\u001b[0m, in \u001b[0;36mCompositeUnit.dimensionless_constant\u001b[0;34m(self, **substitutions)\u001b[0m\n\u001b[1;32m    590\u001b[0m     \u001b[38;5;28;01melse\u001b[39;00m:\n\u001b[0;32m--> 591\u001b[0m         \u001b[38;5;28;01mraise\u001b[39;00m UnitsException(\u001b[38;5;124m\"\u001b[39m\u001b[38;5;124mNot dimensionless\u001b[39m\u001b[38;5;124m\"\u001b[39m)\n\u001b[1;32m    593\u001b[0m \u001b[38;5;28;01mreturn\u001b[39;00m c\n",
      "\u001b[0;31mUnitsException\u001b[0m: Not dimensionless",
      "\nDuring handling of the above exception, another exception occurred:\n",
      "\u001b[0;31mUnitsException\u001b[0m                            Traceback (most recent call last)",
      "Cell \u001b[0;32mIn[17], line 1\u001b[0m\n\u001b[0;32m----> 1\u001b[0m \u001b[43ms\u001b[49m\u001b[43m[\u001b[49m\u001b[38;5;124;43m'\u001b[39;49m\u001b[38;5;124;43mHI\u001b[39;49m\u001b[38;5;124;43m'\u001b[39;49m\u001b[43m]\u001b[49m\u001b[38;5;241;43m.\u001b[39;49m\u001b[43min_units\u001b[49m\u001b[43m(\u001b[49m\u001b[38;5;124;43m'\u001b[39;49m\u001b[38;5;124;43mkg\u001b[39;49m\u001b[38;5;124;43m'\u001b[39;49m\u001b[43m)\u001b[49m\n",
      "File \u001b[0;32m~/miniconda3/lib/python3.9/site-packages/pynbody/array.py:626\u001b[0m, in \u001b[0;36mSimArray.in_units\u001b[0;34m(self, new_unit, **context_overrides)\u001b[0m\n\u001b[1;32m    623\u001b[0m context\u001b[38;5;241m.\u001b[39mupdate(context_overrides)\n\u001b[1;32m    625\u001b[0m \u001b[38;5;28;01mif\u001b[39;00m \u001b[38;5;28mself\u001b[39m\u001b[38;5;241m.\u001b[39munits \u001b[38;5;129;01mis\u001b[39;00m \u001b[38;5;129;01mnot\u001b[39;00m \u001b[38;5;28;01mNone\u001b[39;00m:\n\u001b[0;32m--> 626\u001b[0m     r \u001b[38;5;241m=\u001b[39m \u001b[38;5;28mself\u001b[39m \u001b[38;5;241m*\u001b[39m \u001b[38;5;28;43mself\u001b[39;49m\u001b[38;5;241;43m.\u001b[39;49m\u001b[43munits\u001b[49m\u001b[38;5;241;43m.\u001b[39;49m\u001b[43mratio\u001b[49m\u001b[43m(\u001b[49m\u001b[43mnew_unit\u001b[49m\u001b[43m,\u001b[49m\n\u001b[1;32m    627\u001b[0m \u001b[43m                                \u001b[49m\u001b[38;5;241;43m*\u001b[39;49m\u001b[38;5;241;43m*\u001b[39;49m\u001b[43mcontext\u001b[49m\u001b[43m)\u001b[49m\n\u001b[1;32m    628\u001b[0m     r\u001b[38;5;241m.\u001b[39munits \u001b[38;5;241m=\u001b[39m new_unit\n\u001b[1;32m    629\u001b[0m     \u001b[38;5;28;01mreturn\u001b[39;00m r\n",
      "File \u001b[0;32m~/miniconda3/lib/python3.9/site-packages/pynbody/units.py:289\u001b[0m, in \u001b[0;36mUnitBase.ratio\u001b[0;34m(self, other, **substitutions)\u001b[0m\n\u001b[1;32m    287\u001b[0m     \u001b[38;5;28;01mreturn\u001b[39;00m (\u001b[38;5;28mself\u001b[39m \u001b[38;5;241m/\u001b[39m other)\u001b[38;5;241m.\u001b[39mdimensionless_constant(\u001b[38;5;241m*\u001b[39m\u001b[38;5;241m*\u001b[39msubstitutions)\n\u001b[1;32m    288\u001b[0m \u001b[38;5;28;01mexcept\u001b[39;00m UnitsException:\n\u001b[0;32m--> 289\u001b[0m     \u001b[38;5;28;01mraise\u001b[39;00m UnitsException(\u001b[38;5;124m\"\u001b[39m\u001b[38;5;124mNot convertible\u001b[39m\u001b[38;5;124m\"\u001b[39m)\n",
      "\u001b[0;31mUnitsException\u001b[0m: Not convertible"
     ]
    }
   ],
   "source": [
    "s['HI']"
   ]
  },
  {
   "cell_type": "code",
   "execution_count": 4,
   "id": "0c2b314d",
   "metadata": {},
   "outputs": [
    {
     "data": {
      "text/plain": [
       "['HII',\n",
       " 'HeIII',\n",
       " 'ne',\n",
       " 'hetot',\n",
       " 'hydrogen',\n",
       " 'feh',\n",
       " 'oxh',\n",
       " 'ofe',\n",
       " 'mgfe',\n",
       " 'nefe',\n",
       " 'sife',\n",
       " 'c_s',\n",
       " 'c_s_turb',\n",
       " 'mjeans',\n",
       " 'mjeans_turb',\n",
       " 'ljeans',\n",
       " 'ljeans_turb',\n",
       " 'r',\n",
       " 'rxy',\n",
       " 'vr',\n",
       " 'v2',\n",
       " 'vt',\n",
       " 'ke',\n",
       " 'te',\n",
       " 'j',\n",
       " 'j2',\n",
       " 'jz',\n",
       " 'vrxy',\n",
       " 'vcxy',\n",
       " 'vphi',\n",
       " 'vtheta',\n",
       " 'v_mean',\n",
       " 'v_disp',\n",
       " 'v_curl',\n",
       " 'vorticity',\n",
       " 'v_div',\n",
       " 'age',\n",
       " 'u_mag',\n",
       " 'u_lum_den',\n",
       " 'b_mag',\n",
       " 'b_lum_den',\n",
       " 'v_mag',\n",
       " 'v_lum_den',\n",
       " 'r_mag',\n",
       " 'r_lum_den',\n",
       " 'i_mag',\n",
       " 'i_lum_den',\n",
       " 'j_mag',\n",
       " 'j_lum_den',\n",
       " 'h_mag',\n",
       " 'h_lum_den',\n",
       " 'k_mag',\n",
       " 'k_lum_den',\n",
       " 'U_mag',\n",
       " 'U_lum_den',\n",
       " 'B_mag',\n",
       " 'B_lum_den',\n",
       " 'V_mag',\n",
       " 'V_lum_den',\n",
       " 'R_mag',\n",
       " 'R_lum_den',\n",
       " 'I_mag',\n",
       " 'I_lum_den',\n",
       " 'J_mag',\n",
       " 'J_lum_den',\n",
       " 'H_mag',\n",
       " 'H_lum_den',\n",
       " 'K_mag',\n",
       " 'K_lum_den',\n",
       " 'theta',\n",
       " 'alt',\n",
       " 'az',\n",
       " 'cs',\n",
       " 'mu',\n",
       " 'p',\n",
       " 'u',\n",
       " 'temp',\n",
       " 'zeldovich_offset',\n",
       " 'aform',\n",
       " 'tform',\n",
       " 'iord_argsort',\n",
       " 'smooth',\n",
       " 'rho',\n",
       " 'c',\n",
       " 'vel',\n",
       " 'amiga.grp',\n",
       " 'massHot',\n",
       " 'HI',\n",
       " 'phi',\n",
       " 'mass',\n",
       " 'pos',\n",
       " 'tempEff',\n",
       " 'uHot',\n",
       " 'lw',\n",
       " 'coolontime',\n",
       " 'FeMassFrac',\n",
       " 'eps',\n",
       " 'ESNRate',\n",
       " 'H2',\n",
       " 'HeI',\n",
       " 'OxMassFracdot',\n",
       " 'Metalsdot',\n",
       " 'smoothlength',\n",
       " 'massform',\n",
       " 'FeMassFracdot',\n",
       " 'iord',\n",
       " 'den',\n",
       " 'rung',\n",
       " 'igasorder',\n",
       " 'u',\n",
       " 'OxMassFrac',\n",
       " 'HeII']"
      ]
     },
     "execution_count": 4,
     "metadata": {},
     "output_type": "execute_result"
    }
   ],
   "source": [
    "h.all_keys()"
   ]
  },
  {
   "cell_type": "code",
   "execution_count": 5,
   "id": "d6a48805",
   "metadata": {},
   "outputs": [],
   "source": [
    "Mstar = h.s['mass'].sum()\n",
    "Mhi = h.g['mass'] / 1.36\n",
    "Mbar = Mstar + h.g['mass']"
   ]
  },
  {
   "cell_type": "markdown",
   "id": "86bf3c75",
   "metadata": {},
   "source": [
    "$\\Sigma_{SFR} = (8.1\\times 10^{-2}I_{FUV} + 3.2 \\times 10^{-3}I_{24}) \\cos i$"
   ]
  },
  {
   "cell_type": "code",
   "execution_count": 6,
   "id": "ffb57335",
   "metadata": {},
   "outputs": [
    {
     "data": {
      "text/plain": [
       "25953621"
      ]
     },
     "execution_count": 6,
     "metadata": {},
     "output_type": "execute_result"
    }
   ],
   "source": [
    "len(s['pos'])"
   ]
  },
  {
   "cell_type": "code",
   "execution_count": 7,
   "id": "9abc40ff",
   "metadata": {},
   "outputs": [
    {
     "data": {
      "text/plain": [
       "2777645"
      ]
     },
     "execution_count": 7,
     "metadata": {},
     "output_type": "execute_result"
    }
   ],
   "source": [
    "len(h.g['v_disp'])"
   ]
  },
  {
   "cell_type": "code",
   "execution_count": 8,
   "id": "939c74ae",
   "metadata": {},
   "outputs": [
    {
     "data": {
      "text/plain": [
       "2777645"
      ]
     },
     "execution_count": 8,
     "metadata": {},
     "output_type": "execute_result"
    }
   ],
   "source": [
    "len(h.g['pos'])"
   ]
  },
  {
   "cell_type": "code",
   "execution_count": 9,
   "id": "1bab196c",
   "metadata": {},
   "outputs": [
    {
     "data": {
      "text/plain": [
       "2777645"
      ]
     },
     "execution_count": 9,
     "metadata": {},
     "output_type": "execute_result"
    }
   ],
   "source": [
    "len(h.g['HII'])"
   ]
  },
  {
   "cell_type": "code",
   "execution_count": 10,
   "id": "9a9277dd",
   "metadata": {},
   "outputs": [
    {
     "data": {
      "text/plain": [
       "2777645"
      ]
     },
     "execution_count": 10,
     "metadata": {},
     "output_type": "execute_result"
    }
   ],
   "source": [
    "len(h.g['HI'])"
   ]
  },
  {
   "cell_type": "code",
   "execution_count": 11,
   "id": "de4ceed8",
   "metadata": {},
   "outputs": [
    {
     "data": {
      "text/plain": [
       "<SimSnap \"/data/REPOSITORY/e11Gals/romulus_dwarf_zooms/r431.romulus25.3072g1HsbBH/r431.romulus25.3072g1HsbBH.004096/r431.romulus25.3072g1HsbBH.004096:halo_1::star\" len=2292934>"
      ]
     },
     "execution_count": 11,
     "metadata": {},
     "output_type": "execute_result"
    }
   ],
   "source": [
    "h.star"
   ]
  },
  {
   "cell_type": "code",
   "execution_count": 12,
   "id": "ea1516f7",
   "metadata": {},
   "outputs": [],
   "source": [
    "tsim = tangos.all_simulations()[0]\n",
    "tstep = tsim.timesteps[-6]"
   ]
  },
  {
   "cell_type": "code",
   "execution_count": 13,
   "id": "a8e610bf",
   "metadata": {},
   "outputs": [],
   "source": [
    "th = tstep.halos[430]"
   ]
  },
  {
   "cell_type": "code",
   "execution_count": 17,
   "id": "8cc73071",
   "metadata": {},
   "outputs": [
    {
     "data": {
      "image/png": "[encoded data removed]",
      "text/plain": [
       "<Figure size 432x288 with 2 Axes>"
      ]
     },
     "metadata": {
      "needs_background": "light"
     },
     "output_type": "display_data"
    }
   ],
   "source": [
    "sfhR, sfhTime = pynbody.plot.stars.sfh(s)"
   ]
  },
  {
   "cell_type": "code",
   "execution_count": 26,
   "id": "cbac8c5f",
   "metadata": {},
   "outputs": [
    {
     "data": {
      "text/plain": [
       "9.329258318757638e-05"
      ]
     },
     "execution_count": 26,
     "metadata": {},
     "output_type": "execute_result"
    }
   ],
   "source": [
    "sum(sfhR[0:3])"
   ]
  },
  {
   "cell_type": "code",
   "execution_count": 24,
   "id": "0711655b",
   "metadata": {},
   "outputs": [
    {
     "data": {
      "text/plain": [
       "SimArray([9.32925832e-05, 0.00000000e+00, 0.00000000e+00, 9.20100417e-03,\n",
       "          3.13036323e-01, 4.39488351e-01, 6.88755363e-02, 4.37659919e-02,\n",
       "          4.87107262e-02, 5.64812757e-02, 8.36603194e-02, 1.33224979e-01,\n",
       "          1.47374928e-01, 6.02338575e-02, 6.56008497e-02, 1.31980032e-01,\n",
       "          1.48687214e-01, 3.67463492e-02, 4.90486994e-02, 1.71831831e-01,\n",
       "          8.48051250e-01, 2.26580948e-01, 1.86193317e-01, 1.80682048e-01,\n",
       "          8.12792554e-02, 6.93594888e-02, 6.90002292e-02, 6.58497214e-02,\n",
       "          3.23367789e-02, 6.62516430e-02, 5.30137233e-02, 9.13545415e-02,\n",
       "          8.24608058e-02, 8.56054649e-02, 9.50031877e-02, 1.63573593e-01,\n",
       "          1.68716788e-01, 8.67518634e-02, 9.85393673e-02, 1.04508899e-01,\n",
       "          1.53603986e-01, 1.17860653e-01, 1.31783709e-01, 1.17677748e-01,\n",
       "          1.26307234e-01, 1.38303146e-01, 1.25425115e-01, 1.87745124e-01,\n",
       "          2.21638680e-01, 1.95117489e-01, 2.28963554e-01, 1.76886946e-01,\n",
       "          1.78404123e-01, 2.04961672e-01, 1.24713100e-01, 1.67189240e-01,\n",
       "          1.18980870e-01, 1.31852850e-01, 1.62884519e-01, 1.22807868e-01,\n",
       "          1.93293914e-01, 1.08951315e-01, 2.09051058e-01, 1.16461143e-01,\n",
       "          1.81137741e-01, 1.43841937e-01, 1.17460057e-01, 2.04109222e-01,\n",
       "          1.38740420e-01, 1.67588457e-01, 1.68829158e-01, 1.41604573e-01,\n",
       "          2.24605560e-01, 1.51792824e-01, 1.52596250e-01, 2.56783873e-01,\n",
       "          1.48648262e-01, 1.64421827e-01, 2.40499496e-01, 1.70151427e-01,\n",
       "          2.14771807e-01, 2.26264343e-01, 2.27626592e-01, 2.14964002e-01,\n",
       "          1.98351845e-01, 2.34863251e-01, 2.39448756e-01, 1.99873984e-01,\n",
       "          2.33974263e-01, 2.49331594e-01, 2.11876094e-01, 2.55900681e-01,\n",
       "          2.45522082e-01, 1.99364811e-01, 2.31379837e-01, 2.84323633e-01,\n",
       "          2.28745401e-01, 2.66471565e-01, 2.61526167e-01, 2.69272089e-01], 'Msol yr**-1')"
      ]
     },
     "execution_count": 24,
     "metadata": {},
     "output_type": "execute_result"
    }
   ],
   "source": [
    "sfhR"
   ]
  },
  {
   "cell_type": "code",
   "execution_count": 19,
   "id": "b4ea8e84",
   "metadata": {},
   "outputs": [
    {
     "data": {
      "text/plain": [
       "SimArray([-2.94936078e-01, -1.53987502e-01, -1.30389261e-02,\n",
       "           1.27909650e-01,  2.68858226e-01,  4.09806802e-01,\n",
       "           5.50755378e-01,  6.91703954e-01,  8.32652530e-01,\n",
       "           9.73601106e-01,  1.11454968e+00,  1.25549826e+00,\n",
       "           1.39644683e+00,  1.53739541e+00,  1.67834399e+00,\n",
       "           1.81929256e+00,  1.96024114e+00,  2.10118971e+00,\n",
       "           2.24213829e+00,  2.38308687e+00,  2.52403544e+00,\n",
       "           2.66498402e+00,  2.80593259e+00,  2.94688117e+00,\n",
       "           3.08782975e+00,  3.22877832e+00,  3.36972690e+00,\n",
       "           3.51067547e+00,  3.65162405e+00,  3.79257263e+00,\n",
       "           3.93352120e+00,  4.07446978e+00,  4.21541835e+00,\n",
       "           4.35636693e+00,  4.49731551e+00,  4.63826408e+00,\n",
       "           4.77921266e+00,  4.92016123e+00,  5.06110981e+00,\n",
       "           5.20205838e+00,  5.34300696e+00,  5.48395554e+00,\n",
       "           5.62490411e+00,  5.76585269e+00,  5.90680126e+00,\n",
       "           6.04774984e+00,  6.18869842e+00,  6.32964699e+00,\n",
       "           6.47059557e+00,  6.61154414e+00,  6.75249272e+00,\n",
       "           6.89344130e+00,  7.03438987e+00,  7.17533845e+00,\n",
       "           7.31628702e+00,  7.45723560e+00,  7.59818418e+00,\n",
       "           7.73913275e+00,  7.88008133e+00,  8.02102990e+00,\n",
       "           8.16197848e+00,  8.30292706e+00,  8.44387563e+00,\n",
       "           8.58482421e+00,  8.72577278e+00,  8.86672136e+00,\n",
       "           9.00766994e+00,  9.14861851e+00,  9.28956709e+00,\n",
       "           9.43051566e+00,  9.57146424e+00,  9.71241282e+00,\n",
       "           9.85336139e+00,  9.99430997e+00,  1.01352585e+01,\n",
       "           1.02762071e+01,  1.04171557e+01,  1.05581043e+01,\n",
       "           1.06990528e+01,  1.08400014e+01,  1.09809500e+01,\n",
       "           1.11218986e+01,  1.12628472e+01,  1.14037957e+01,\n",
       "           1.15447443e+01,  1.16856929e+01,  1.18266415e+01,\n",
       "           1.19675900e+01,  1.21085386e+01,  1.22494872e+01,\n",
       "           1.23904358e+01,  1.25313843e+01,  1.26723329e+01,\n",
       "           1.28132815e+01,  1.29542301e+01,  1.30951786e+01,\n",
       "           1.32361272e+01,  1.33770758e+01,  1.35180244e+01,\n",
       "           1.36589729e+01,  1.37999215e+01], 'Gyr')"
      ]
     },
     "execution_count": 19,
     "metadata": {},
     "output_type": "execute_result"
    }
   ],
   "source": [
    "sfhTime"
   ]
  },
  {
   "cell_type": "code",
   "execution_count": 29,
   "id": "34eda992",
   "metadata": {},
   "outputs": [],
   "source": [
    "Rvir = pynbody.analysis.halo.virial_radius(s)"
   ]
  },
  {
   "cell_type": "code",
   "execution_count": null,
   "id": "cae6c3fc",
   "metadata": {},
   "outputs": [],
   "source": []
  },
  {
   "cell_type": "code",
   "execution_count": 34,
   "id": "9478cb4c",
   "metadata": {},
   "outputs": [
    {
     "data": {
      "text/plain": [
       "SimArray(0.00031507, 'kpc**-2')"
      ]
     },
     "execution_count": 34,
     "metadata": {},
     "output_type": "execute_result"
    }
   ],
   "source": [
    "sum(sfhR[0:3])/(4*3.14*(Rvir/1000)**2)"
   ]
  },
  {
   "cell_type": "markdown",
   "id": "c7af3863",
   "metadata": {},
   "source": [
    "## Getting Sigma SFR for Each Galaxy"
   ]
  },
  {
   "cell_type": "code",
   "execution_count": 7,
   "id": "9e93f0e8",
   "metadata": {},
   "outputs": [],
   "source": [
    "# get SIDM Galaxies\n",
    "gals = util.getGalaxies()[0]"
   ]
  },
  {
   "cell_type": "code",
   "execution_count": 62,
   "id": "82729d95",
   "metadata": {},
   "outputs": [
    {
     "data": {
      "image/png": "[encoded data removed]",
      "text/plain": [
       "<Figure size 432x288 with 2 Axes>"
      ]
     },
     "metadata": {
      "needs_background": "light"
     },
     "output_type": "display_data"
    }
   ],
   "source": [
    "# select galaxy\n",
    "g = gals[7]\n",
    "\n",
    "# load file \n",
    "fpath = util.getfilepath(g)[0] + '/r'+str(g)+'.romulus25.3072g1HsbBH.004096'\n",
    "s = pynbody.load(fpath)\n",
    "\n",
    "s.physical_units()\n",
    "h = s.halos()[1]\n",
    "\n",
    "cen_pot_a = pynbody.analysis.halo.center(h, mode='pot', retcen=True)\n",
    "s['pos'] -= cen_pot_a\n",
    "h = s.halos()[1]\n",
    "\n",
    "# get Rvir \n",
    "Rvir = pynbody.analysis.halo.virial_radius(s)\n",
    "# get sfh info\n",
    "sfhR, sfhTime = pynbody.plot.stars.sfh(s)"
   ]
  },
  {
   "cell_type": "code",
   "execution_count": 63,
   "id": "a0e5e9f5",
   "metadata": {},
   "outputs": [
    {
     "data": {
      "text/plain": [
       "SimArray(186.82477631, 'kpc')"
      ]
     },
     "execution_count": 63,
     "metadata": {},
     "output_type": "execute_result"
    }
   ],
   "source": [
    "Rvir"
   ]
  },
  {
   "cell_type": "code",
   "execution_count": 44,
   "id": "65b89064",
   "metadata": {},
   "outputs": [
    {
     "data": {
      "text/plain": [
       "SimArray([6.98401614e-05, 6.98250716e-05, 0.00000000e+00, 0.00000000e+00,\n",
       "          7.64582705e-03, 2.94288720e-01, 1.39411048e-01, 3.83897325e-02,\n",
       "          9.81428500e-02, 1.07554555e-01, 1.48351152e-01, 2.77246013e-01,\n",
       "          1.28338175e-01, 1.47321647e-01, 2.16562910e-01, 2.25215232e-01,\n",
       "          1.32702963e-01, 9.70324259e-02, 1.30750118e-01, 1.07725863e-01,\n",
       "          5.31856298e-02, 9.83413956e-02, 1.02342221e-01, 2.07718448e-01,\n",
       "          1.38999906e-01, 1.05588738e-01, 1.26436614e-01, 1.11245038e-01,\n",
       "          2.12715969e-01, 1.36385434e-01, 1.70486844e-01, 1.40967712e-01,\n",
       "          1.28525086e-01, 1.33698728e-01, 1.23465175e-01, 1.44003863e-01,\n",
       "          1.40742103e-01, 2.05200697e-01, 1.80014534e-01, 1.34884378e-01,\n",
       "          1.63385789e-01, 1.46106901e-01, 1.10811298e-01, 1.33763270e-01,\n",
       "          1.76651998e-01, 2.77433395e-01, 1.48501535e-01, 4.35759219e-01,\n",
       "          1.94562602e-01, 1.88991512e-01, 1.64961151e-01, 1.75841182e-01,\n",
       "          1.73656068e-01, 2.09799303e-01, 1.38706883e-01, 2.22143022e-01,\n",
       "          1.58141658e-01, 2.07172687e-01, 1.91442176e-01, 2.03466183e-01,\n",
       "          2.11144095e-01, 2.22670498e-01, 2.21267706e-01, 2.42381904e-01,\n",
       "          1.91567109e-01, 2.42565217e-01, 2.53703466e-01, 2.62242520e-01,\n",
       "          2.49984639e-01, 2.55300892e-01, 3.18712146e-01, 2.84839250e-01,\n",
       "          3.25988075e-01, 2.88140925e-01, 4.65072670e-01, 2.72080777e-01,\n",
       "          5.19916398e-01, 3.46141785e-01, 3.79869611e-01, 5.97711440e-01,\n",
       "          3.08235662e-01, 8.63402511e-01, 2.66579456e-01, 5.97986737e-01,\n",
       "          3.81380018e-01, 5.94127924e-01, 5.64131579e-01, 6.78245740e-01,\n",
       "          7.45048715e-01, 8.89879371e-01, 8.12123747e-01, 1.01878330e+00,\n",
       "          1.01458993e+00, 7.91075236e-01, 8.22970460e-01, 1.35929912e+00,\n",
       "          7.89191911e-01, 1.28932097e+00, 9.21549139e-01, 1.38837035e+00], 'Msol yr**-1')"
      ]
     },
     "execution_count": 44,
     "metadata": {},
     "output_type": "execute_result"
    }
   ],
   "source": [
    "sfhR"
   ]
  },
  {
   "cell_type": "code",
   "execution_count": 45,
   "id": "7e5596fc",
   "metadata": {},
   "outputs": [
    {
     "data": {
      "text/plain": [
       "SimArray([-4.37111532e+02, -2.94741201e+02, -1.52370871e+02,\n",
       "          -1.00005403e+01,  1.32369790e+02,  2.74740121e+02,\n",
       "           4.17110451e+02,  5.59480782e+02,  7.01851112e+02,\n",
       "           8.44221443e+02,  9.86591773e+02,  1.12896210e+03,\n",
       "           1.27133243e+03,  1.41370276e+03,  1.55607310e+03,\n",
       "           1.69844343e+03,  1.84081376e+03,  1.98318409e+03,\n",
       "           2.12555442e+03,  2.26792475e+03,  2.41029508e+03,\n",
       "           2.55266541e+03,  2.69503574e+03,  2.83740607e+03,\n",
       "           2.97977640e+03,  3.12214673e+03,  3.26451706e+03,\n",
       "           3.40688739e+03,  3.54925772e+03,  3.69162805e+03,\n",
       "           3.83399838e+03,  3.97636871e+03,  4.11873904e+03,\n",
       "           4.26110938e+03,  4.40347971e+03,  4.54585004e+03,\n",
       "           4.68822037e+03,  4.83059070e+03,  4.97296103e+03,\n",
       "           5.11533136e+03,  5.25770169e+03,  5.40007202e+03,\n",
       "           5.54244235e+03,  5.68481268e+03,  5.82718301e+03,\n",
       "           5.96955334e+03,  6.11192367e+03,  6.25429400e+03,\n",
       "           6.39666433e+03,  6.53903466e+03,  6.68140499e+03,\n",
       "           6.82377532e+03,  6.96614565e+03,  7.10851599e+03,\n",
       "           7.25088632e+03,  7.39325665e+03,  7.53562698e+03,\n",
       "           7.67799731e+03,  7.82036764e+03,  7.96273797e+03,\n",
       "           8.10510830e+03,  8.24747863e+03,  8.38984896e+03,\n",
       "           8.53221929e+03,  8.67458962e+03,  8.81695995e+03,\n",
       "           8.95933028e+03,  9.10170061e+03,  9.24407094e+03,\n",
       "           9.38644127e+03,  9.52881160e+03,  9.67118193e+03,\n",
       "           9.81355226e+03,  9.95592260e+03,  1.00982929e+04,\n",
       "           1.02406633e+04,  1.03830336e+04,  1.05254039e+04,\n",
       "           1.06677742e+04,  1.08101446e+04,  1.09525149e+04,\n",
       "           1.10948852e+04,  1.12372556e+04,  1.13796259e+04,\n",
       "           1.15219962e+04,  1.16643666e+04,  1.18067369e+04,\n",
       "           1.19491072e+04,  1.20914776e+04,  1.22338479e+04,\n",
       "           1.23762182e+04,  1.25185885e+04,  1.26609589e+04,\n",
       "           1.28033292e+04,  1.29456995e+04,  1.30880699e+04,\n",
       "           1.32304402e+04,  1.33728105e+04,  1.35151809e+04,\n",
       "           1.36575512e+04,  1.37999215e+04], 'Myr')"
      ]
     },
     "execution_count": 45,
     "metadata": {},
     "output_type": "execute_result"
    }
   ],
   "source": [
    "sfhTime.in_units('Myr')"
   ]
  },
  {
   "cell_type": "code",
   "execution_count": 46,
   "id": "bae2d438",
   "metadata": {},
   "outputs": [
    {
     "data": {
      "text/plain": [
       "615"
      ]
     },
     "execution_count": 46,
     "metadata": {},
     "output_type": "execute_result"
    }
   ],
   "source": [
    "g"
   ]
  },
  {
   "cell_type": "code",
   "execution_count": 47,
   "id": "c01dab5c",
   "metadata": {},
   "outputs": [
    {
     "data": {
      "text/plain": [
       "0.007645827047909164"
      ]
     },
     "execution_count": 47,
     "metadata": {},
     "output_type": "execute_result"
    }
   ],
   "source": [
    "beg = 4\n",
    "end = 5\n",
    "#sum(sfhR[beg:end])/(4*3.14*((Rvir/1000)**2))\n",
    "#sum(sfhR[beg:end])/(3.14*((Rvir/1000)**2))\n",
    "sum(sfhR[beg:end])"
   ]
  },
  {
   "cell_type": "code",
   "execution_count": null,
   "id": "ce97c96f",
   "metadata": {},
   "outputs": [],
   "source": [
    "sum(sfhR[beg:end]), sum(sfhR[beg:end])/(3.14*((Rvir/1000)**2))"
   ]
  },
  {
   "cell_type": "code",
   "execution_count": 60,
   "id": "6c3d6346",
   "metadata": {},
   "outputs": [
    {
     "data": {
      "text/plain": [
       "SimArray([0.0174002], 'Msol yr**-1')"
      ]
     },
     "execution_count": 60,
     "metadata": {},
     "output_type": "execute_result"
    }
   ],
   "source": [
    "sfhR[0:1]"
   ]
  },
  {
   "cell_type": "code",
   "execution_count": null,
   "id": "a7f5b4a7",
   "metadata": {},
   "outputs": [],
   "source": []
  },
  {
   "cell_type": "code",
   "execution_count": 41,
   "id": "d8b8da58",
   "metadata": {},
   "outputs": [
    {
     "data": {
      "text/plain": [
       "SimArray([  183.04653256,   190.61801448,   190.61801448, ...,\n",
       "          13800.76287059, 13800.76287059, 13800.76287059], 'Myr')"
      ]
     },
     "execution_count": 41,
     "metadata": {},
     "output_type": "execute_result"
    }
   ],
   "source": [
    "# not sure this is a good method\n",
    "s.stars['tform'].in_units('Myr')"
   ]
  },
  {
   "cell_type": "markdown",
   "id": "7113bfdd",
   "metadata": {},
   "source": [
    "## Zoom Masses"
   ]
  },
  {
   "cell_type": "code",
   "execution_count": 111,
   "id": "a25ecee5",
   "metadata": {},
   "outputs": [
    {
     "data": {
      "text/plain": [
       "597"
      ]
     },
     "execution_count": 111,
     "metadata": {},
     "output_type": "execute_result"
    }
   ],
   "source": [
    "# get SIDM Galaxies\n",
    "gals = util.getGalaxies()[0]\n",
    "\n",
    "# select galaxy\n",
    "g = gals[6]\n",
    "\n",
    "# load file \n",
    "fpath = util.getfilepath(g)[0] + '/r'+str(g)+'.romulus25.3072g1HsbBH.004096'\n",
    "s = pynbody.load(fpath)\n",
    "\n",
    "s.physical_units()\n",
    "h = s.halos()[1]\n",
    "\n",
    "cen_pot_a = pynbody.analysis.halo.center(h, mode='pot', retcen=True)\n",
    "s['pos'] -= cen_pot_a\n",
    "h = s.halos()[1]\n",
    "g"
   ]
  },
  {
   "cell_type": "code",
   "execution_count": 112,
   "id": "54773043",
   "metadata": {},
   "outputs": [
    {
     "data": {
      "text/plain": [
       "'1.319043e+10'"
      ]
     },
     "execution_count": 112,
     "metadata": {},
     "output_type": "execute_result"
    }
   ],
   "source": [
    "\"{:e}\".format(sum(s.g['mass'])+sum(s.s['mass']))"
   ]
  },
  {
   "cell_type": "code",
   "execution_count": 113,
   "id": "59e9a2b4",
   "metadata": {},
   "outputs": [
    {
     "data": {
      "text/plain": [
       "'6.514049e+08'"
      ]
     },
     "execution_count": 113,
     "metadata": {},
     "output_type": "execute_result"
    }
   ],
   "source": [
    "\"{:e}\".format(sum(s.s['mass']))"
   ]
  },
  {
   "cell_type": "code",
   "execution_count": 114,
   "id": "c1134599",
   "metadata": {},
   "outputs": [
    {
     "data": {
      "text/plain": [
       "'1.253903e+10'"
      ]
     },
     "execution_count": 114,
     "metadata": {},
     "output_type": "execute_result"
    }
   ],
   "source": [
    "\"{:e}\".format(sum(s.g['mass']))"
   ]
  },
  {
   "cell_type": "code",
   "execution_count": null,
   "id": "200c7b34",
   "metadata": {},
   "outputs": [],
   "source": []
  }
 ],
 "metadata": {
  "kernelspec": {
   "display_name": "Python 3",
   "language": "python",
   "name": "python3"
  },
  "language_info": {
   "codemirror_mode": {
    "name": "ipython",
    "version": 3
   },
   "file_extension": ".py",
   "mimetype": "text/x-python",
   "name": "python",
   "nbconvert_exporter": "python",
   "pygments_lexer": "ipython3",
   "version": "3.9.12"
  }
 },
 "nbformat": 4,
 "nbformat_minor": 5
}
